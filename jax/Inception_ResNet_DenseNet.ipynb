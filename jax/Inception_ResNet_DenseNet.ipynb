{
  "cells": [
    {
      "cell_type": "markdown",
      "metadata": {
        "id": "d7LYpsmo1TRa"
      },
      "source": [
        "# Tutorial 5 (JAX): Inception, ResNet and DenseNet\n",
        "\n",
        "![Status](https://img.shields.io/static/v1.svg?label=Status&message=Finished&color=green)\n",
        "\n",
        "\n",
        "**Filled notebook:**\n",
        "[![View on Github](https://img.shields.io/static/v1.svg?logo=github&label=Repo&message=View%20On%20Github&color=lightgrey)](https://github.com/phlippe/uvadlc_notebooks/blob/master/docs/tutorial_notebooks/JAX/tutorial5/Inception_ResNet_DenseNet.ipynb)\n",
        "[![Open In Collab](https://colab.research.google.com/assets/colab-badge.svg)](https://colab.research.google.com/github/phlippe/uvadlc_notebooks/blob/master/docs/tutorial_notebooks/JAX/tutorial5/Inception_ResNet_DenseNet.ipynb)   \n",
        "**Pre-trained models:**\n",
        "[![View files on Github](https://img.shields.io/static/v1.svg?logo=github&label=Repo&message=View%20On%20Github&color=lightgrey)](https://github.com/phlippe/saved_models/tree/main/JAX/tutorial5)   \n",
        "**PyTorch version:**\n",
        "[![View on RTD](https://img.shields.io/static/v1.svg?logo=readthedocs&label=RTD&message=View%20On%20RTD&color=8CA1AF)](https://uvadlc-notebooks.readthedocs.io/en/latest/tutorial_notebooks/tutorial5/Inception_ResNet_DenseNet.html)   \n",
        "**Author:** Phillip Lippe"
      ]
    },
    {
      "cell_type": "markdown",
      "metadata": {
        "id": "vKVaXKJR1TRc"
      },
      "source": [
        "<div class=\"alert alert-info\">\n",
        "\n",
        "**Note:** This notebook is written in JAX+Flax. It is a 1-to-1 translation of the original notebook written in PyTorch+PyTorch Lightning with almost identical results. For an introduction to JAX, check out our [Tutorial 2 (JAX): Introduction to JAX+Flax](https://uvadlc-notebooks.readthedocs.io/en/latest/tutorial_notebooks/JAX/tutorial2/Introduction_to_JAX.html). Further, throughout the notebook, we comment on major differences to the PyTorch version and provide explanations for the major parts of the JAX code.\n",
        "    \n",
        "</div>"
      ]
    },
    {
      "cell_type": "markdown",
      "metadata": {
        "id": "Wqib3t1V1TRc"
      },
      "source": [
        "---\n",
        "\n",
        "**Speed comparison**: We note the training times for all models in the PyTorch and the JAX implementation below (PyTorch v1.11, JAX v0.3.13). The models were trained on the same hardware (NVIDIA RTX3090, 24 core CPU) and we slightly adjusted the tutorials to use the exact same training settings (200 epochs, data loading parameters, evaluation schedule, etc.). Overall, the JAX implementation is about *2.5-3.4x faster* than PyTorch! However, with larger models, larger batch sizes, or smaller GPUs, the speed up is expected to become considerably smaller.\n",
        "    \n",
        "| Models                |   PyTorch   |     JAX     |\n",
        "|-----------------------|:-----------:|:-----------:|\n",
        "| GoogleNet             | 53min 50sec | 16min 10sec |\n",
        "| ResNet                | 20min 47sec |  7min 51sec |\n",
        "| Pre-Activation ResNet | 20min 57sec |  8min 25sec |\n",
        "| DenseNet              | 49min 23sec |  20min 1sec |\n",
        "\n",
        "---"
      ]
    },
    {
      "cell_type": "markdown",
      "metadata": {
        "id": "23bDH3YX1TRd"
      },
      "source": [
        "In this tutorial, we will implement and discuss variants of modern CNN architectures. There have been many different architectures been proposed over the past few years. Some of the most impactful ones, and still relevant today, are the following: [GoogleNet](https://arxiv.org/abs/1409.4842)/Inception architecture (winner of ILSVRC 2014), [ResNet](https://arxiv.org/abs/1512.03385) (winner of ILSVRC 2015), and [DenseNet](https://arxiv.org/abs/1608.06993) (best paper award CVPR 2017). All of them were state-of-the-art models when being proposed, and the core ideas of these networks are the foundations for most current state-of-the-art architectures. Thus, it is important to understand these architectures in detail and learn how to implement them.\n",
        "\n",
        "Let's start with importing our standard libraries here."
      ]
    },
    {
      "cell_type": "code",
      "execution_count": 1,
      "metadata": {
        "id": "SMuZo2a-1TRd"
      },
      "outputs": [
        {
          "name": "stderr",
          "output_type": "stream",
          "text": [
            "/tmp/ipykernel_30289/2544021434.py:13: DeprecationWarning: `set_matplotlib_formats` is deprecated since IPython 7.23, directly use `matplotlib_inline.backend_inline.set_matplotlib_formats()`\n",
            "  set_matplotlib_formats('svg', 'pdf') # For export\n",
            "/home/dspserver/anaconda3/envs/jax/lib/python3.10/site-packages/tqdm/auto.py:21: TqdmWarning: IProgress not found. Please update jupyter and ipywidgets. See https://ipywidgets.readthedocs.io/en/stable/user_install.html\n",
            "  from .autonotebook import tqdm as notebook_tqdm\n",
            "WARNING:absl:Tensorflow library not found, tensorflow.io.gfile operations will use native shim calls. GCS paths (i.e. 'gs://...') cannot be accessed.\n"
          ]
        }
      ],
      "source": [
        "## Standard libraries\n",
        "import os\n",
        "import numpy as np\n",
        "from PIL import Image\n",
        "from typing import Any\n",
        "from collections import defaultdict\n",
        "import time\n",
        "\n",
        "## Imports for plotting\n",
        "import matplotlib.pyplot as plt\n",
        "%matplotlib inline\n",
        "from IPython.display import set_matplotlib_formats\n",
        "set_matplotlib_formats('svg', 'pdf') # For export\n",
        "import matplotlib\n",
        "matplotlib.rcParams['lines.linewidth'] = 2.0\n",
        "import seaborn as sns\n",
        "sns.reset_orig()\n",
        "\n",
        "## Progress bar\n",
        "from tqdm.auto import tqdm\n",
        "\n",
        "## To run JAX on TPU in Google Colab, uncomment the two lines below\n",
        "# import jax.tools.colab_tpu\n",
        "# jax.tools.colab_tpu.setup_tpu()\n",
        "\n",
        "## JAX\n",
        "import jax\n",
        "import jax.numpy as jnp\n",
        "from jax import random\n",
        "# Seeding for random operations\n",
        "main_rng = random.PRNGKey(42)\n",
        "\n",
        "## Flax (NN in JAX)\n",
        "try:\n",
        "    import flax\n",
        "except ModuleNotFoundError: # Install flax if missing\n",
        "    !pip install --quiet flax\n",
        "    import flax\n",
        "from flax import linen as nn\n",
        "from flax.training import train_state, checkpoints\n",
        "\n",
        "## Optax (Optimizers in JAX)\n",
        "try:\n",
        "    import optax\n",
        "except ModuleNotFoundError: # Install optax if missing\n",
        "    !pip install --quiet optax\n",
        "    import optax\n",
        "\n",
        "## PyTorch\n",
        "import torch\n",
        "import torch.utils.data as data\n",
        "from torch.utils.tensorboard import SummaryWriter\n",
        "import torchvision\n",
        "from torchvision import transforms\n",
        "from torchvision.datasets import CIFAR10\n",
        "\n",
        "CUDA_VISIBLE_DEVICES=1"
      ]
    },
    {
      "cell_type": "markdown",
      "metadata": {
        "id": "d2scwEMR1TRd"
      },
      "source": [
        "We will use the same path variables `DATASET_PATH` and `CHECKPOINT_PATH` as in the previous tutorials. Adjust the paths if necessary."
      ]
    },
    {
      "cell_type": "code",
      "execution_count": 2,
      "metadata": {
        "id": "vF7GJEAM1TRe",
        "outputId": "90ba5822-6a83-4fe0-fe48-ef217ae2822e"
      },
      "outputs": [
        {
          "name": "stdout",
          "output_type": "stream",
          "text": [
            "Device: cuda:0\n"
          ]
        }
      ],
      "source": [
        "# Path to the folder where the datasets are/should be downloaded (e.g. CIFAR10)\n",
        "DATASET_PATH = \"../../data\"\n",
        "# Path to the folder where the pretrained models are saved\n",
        "CHECKPOINT_PATH = \"../../saved_models/tutorial5_jax\"\n",
        "\n",
        "print(\"Device:\", jax.devices()[0])"
      ]
    },
    {
      "cell_type": "markdown",
      "metadata": {
        "id": "5KIlZcoR1TRe"
      },
      "source": [
        "We also have pretrained models and TensorBoards (more on this later) for this tutorial, and download them below."
      ]
    },
    {
      "cell_type": "code",
      "execution_count": 3,
      "metadata": {
        "id": "8W2s6FfX1TRe"
      },
      "outputs": [],
      "source": [
        "import urllib.request\n",
        "from urllib.error import HTTPError\n",
        "# Github URL where saved models are stored for this tutorial\n",
        "base_url = \"https://raw.githubusercontent.com/phlippe/saved_models/main/JAX/tutorial5/\"\n",
        "# Files to download\n",
        "pretrained_files = [\"GoogleNet.ckpt\", \"ResNet.ckpt\", \"PreActResNet.ckpt\", \"DenseNet.ckpt\",\n",
        "                    \"tensorboards/GoogleNet/events.out.tfevents.googlenet\",\n",
        "                    \"tensorboards/ResNet/events.out.tfevents.resnet\",\n",
        "                    \"tensorboards/PreActResNet/events.out.tfevents.preactresnet\",\n",
        "                    \"tensorboards/DenseNet/events.out.tfevents.densenet\"]\n",
        "# Create checkpoint path if it doesn't exist yet\n",
        "os.makedirs(CHECKPOINT_PATH, exist_ok=True)\n",
        "\n",
        "# For each file, check whether it already exists. If not, try downloading it.\n",
        "for file_name in pretrained_files:\n",
        "    file_path = os.path.join(CHECKPOINT_PATH, file_name)\n",
        "    if \"/\" in file_name:\n",
        "        os.makedirs(file_path.rsplit(\"/\",1)[0], exist_ok=True)\n",
        "    if not os.path.isfile(file_path):\n",
        "        file_url = base_url + file_name\n",
        "        print(f\"Downloading {file_url}...\")\n",
        "        try:\n",
        "            urllib.request.urlretrieve(file_url, file_path)\n",
        "        except HTTPError as e:\n",
        "            print(\"Something went wrong. Please try to download the file from the GDrive folder, or contact the author with the full output including the following error:\\n\", e)"
      ]
    },
    {
      "cell_type": "markdown",
      "metadata": {
        "id": "4MpNojJT1TRf"
      },
      "source": [
        "Throughout this tutorial, we will train and evaluate the models on the CIFAR10 dataset. This allows you to compare the results obtained here with the model you have implemented in the first assignment. As we have learned from the previous tutorial about initialization, it is important to have the data preprocessed with a zero mean. Therefore, as a first step, we will calculate the mean and standard deviation of the CIFAR dataset:"
      ]
    },
    {
      "cell_type": "code",
      "execution_count": 4,
      "metadata": {
        "id": "Ay7jPMCG1TRf",
        "outputId": "4a050ce5-50ed-4b84-df27-db4ee6973ef8"
      },
      "outputs": [
        {
          "name": "stdout",
          "output_type": "stream",
          "text": [
            "Files already downloaded and verified\n",
            "Data mean [0.49139968 0.48215841 0.44653091]\n",
            "Data std [0.24703223 0.24348513 0.26158784]\n"
          ]
        }
      ],
      "source": [
        "train_dataset = CIFAR10(root=DATASET_PATH, train=True, download=True)\n",
        "DATA_MEANS = (train_dataset.data / 255.0).mean(axis=(0,1,2))\n",
        "DATA_STD = (train_dataset.data / 255.0).std(axis=(0,1,2))\n",
        "print(\"Data mean\", DATA_MEANS)\n",
        "print(\"Data std\", DATA_STD)"
      ]
    },
    {
      "cell_type": "markdown",
      "metadata": {
        "id": "1iczDtur1TRf"
      },
      "source": [
        "We will use this information to normalize our data accordingly. Additionally, we will use transformations from the package `torchvision` to implement data augmentations during training. This reduces the risk of overfitting and helps CNNs to generalize better. Specifically, we will apply two random augmentations.\n",
        "\n",
        "First, we will flip each image horizontally by a chance of 50% (`transforms.RandomHorizontalFlip`). The object class usually does not change when flipping an image, and we don't expect any image information to be dependent on the horizontal orientation. This would be however different if we would try to detect digits or letters in an image, as those have a certain orientation.\n",
        "\n",
        "The second augmentation we use is called `transforms.RandomResizedCrop`. This transformation crops the image in a small range, eventually changing the aspect ratio, and scaling it back afterward to the previous size. Therefore, the actual pixel values change while the content or overall semantics of the image stays the same.\n",
        "\n",
        "We will randomly split the training dataset into a training and a validation set. The validation set will be used for determining early stopping. After finishing the training, we test the models on the CIFAR test set."
      ]
    },
    {
      "cell_type": "code",
      "execution_count": 5,
      "metadata": {
        "id": "xY6e_sBD1TRf",
        "outputId": "59180369-a60a-4d52-b714-bdcca8630cfe"
      },
      "outputs": [
        {
          "name": "stdout",
          "output_type": "stream",
          "text": [
            "Files already downloaded and verified\n",
            "Files already downloaded and verified\n",
            "Files already downloaded and verified\n"
          ]
        }
      ],
      "source": [
        "# Transformations applied on each image => bring them into a numpy array\n",
        "def image_to_numpy(img):\n",
        "    img = np.array(img, dtype=np.float32)\n",
        "    img = (img / 255. - DATA_MEANS) / DATA_STD\n",
        "    return img\n",
        "\n",
        "# We need to stack the batch elements\n",
        "def numpy_collate(batch):\n",
        "    if isinstance(batch[0], np.ndarray):\n",
        "        return np.stack(batch)\n",
        "    elif isinstance(batch[0], (tuple,list)):\n",
        "        transposed = zip(*batch)\n",
        "        return [numpy_collate(samples) for samples in transposed]\n",
        "    else:\n",
        "        return np.array(batch)\n",
        "\n",
        "\n",
        "test_transform = image_to_numpy\n",
        "# For training, we add some augmentation. Networks are too powerful and would overfit.\n",
        "train_transform = transforms.Compose([transforms.RandomHorizontalFlip(),\n",
        "                                      transforms.RandomResizedCrop((32,32),scale=(0.8,1.0),ratio=(0.9,1.1)),\n",
        "                                      image_to_numpy\n",
        "                                     ])\n",
        "# Loading the training dataset. We need to split it into a training and validation part\n",
        "# We need to do a little trick because the validation set should not use the augmentation.\n",
        "train_dataset = CIFAR10(root=DATASET_PATH, train=True, transform=train_transform, download=True)\n",
        "val_dataset = CIFAR10(root=DATASET_PATH, train=True, transform=test_transform, download=True)\n",
        "train_set, _ = torch.utils.data.random_split(train_dataset, [45000, 5000], generator=torch.Generator().manual_seed(42))\n",
        "_, val_set = torch.utils.data.random_split(val_dataset, [45000, 5000], generator=torch.Generator().manual_seed(42))\n",
        "\n",
        "# Loading the test set\n",
        "test_set = CIFAR10(root=DATASET_PATH, train=False, transform=test_transform, download=True)\n",
        "\n",
        "# We define a set of data loaders that we can use for training and validation\n",
        "train_loader = data.DataLoader(train_set,\n",
        "                               batch_size=128,\n",
        "                               shuffle=True,\n",
        "                               drop_last=True,\n",
        "                               collate_fn=numpy_collate,\n",
        "                               num_workers=8,\n",
        "                               persistent_workers=True)\n",
        "val_loader   = data.DataLoader(val_set,\n",
        "                               batch_size=128,\n",
        "                               shuffle=False,\n",
        "                               drop_last=False,\n",
        "                               collate_fn=numpy_collate,\n",
        "                               num_workers=4,\n",
        "                               persistent_workers=True)\n",
        "test_loader  = data.DataLoader(test_set,\n",
        "                               batch_size=128,\n",
        "                               shuffle=False,\n",
        "                               drop_last=False,\n",
        "                               collate_fn=numpy_collate,\n",
        "                               num_workers=4,\n",
        "                               persistent_workers=True)"
      ]
    },
    {
      "cell_type": "markdown",
      "metadata": {
        "id": "TLlj5haT1TRf"
      },
      "source": [
        "To verify that our normalization works, we can print out the mean and standard deviation of the single batch. The mean should be close to 0 and the standard deviation close to 1 for each channel:"
      ]
    },
    {
      "cell_type": "code",
      "execution_count": 6,
      "metadata": {
        "id": "_BGmHcv41TRf",
        "outputId": "da4d6e74-60ce-404f-e46b-33dbcce582f2"
      },
      "outputs": [
        {
          "name": "stdout",
          "output_type": "stream",
          "text": [
            "Batch mean [0.02774189 0.02766525 0.01873363]\n",
            "Batch std [0.95438691 0.96203063 0.99901305]\n"
          ]
        }
      ],
      "source": [
        "imgs, _ = next(iter(train_loader))\n",
        "print(\"Batch mean\", imgs.mean(axis=(0,1,2)))\n",
        "print(\"Batch std\", imgs.std(axis=(0,1,2)))"
      ]
    },
    {
      "cell_type": "markdown",
      "metadata": {
        "id": "gnw6nk_91TRf"
      },
      "source": [
        "Finally, let's visualize a few images from the training set, and how they look like after random data augmentation:"
      ]
    },
    {
      "cell_type": "code",
      "execution_count": 7,
      "metadata": {
        "id": "BmzoGjfd1TRf",
        "outputId": "ab1e8bfa-8dec-48fa-b5f2-55a30c48393a"
      },
      "outputs": [
        {
          "data": {
            "application/pdf": "[encoded data removed]",
            "image/svg+xml": [
              "<?xml version=\"1.0\" encoding=\"utf-8\" standalone=\"no\"?>\n",
              "<!DOCTYPE svg PUBLIC \"-//W3C//DTD SVG 1.1//EN\"\n",
              "  \"http://www.w3.org/Graphics/SVG/1.1/DTD/svg11.dtd\">\n",
              "<svg xmlns:xlink=\"http://www.w3.org/1999/xlink\" width=\"457.92pt\" height=\"473.038125pt\" viewBox=\"0 0 457.92 473.038125\" xmlns=\"http://www.w3.org/2000/svg\" version=\"1.1\">\n",
              " <metadata>\n",
              "  <rdf:RDF xmlns:dc=\"http://purl.org/dc/elements/1.1/\" xmlns:cc=\"http://creativecommons.org/ns#\" xmlns:rdf=\"http://www.w3.org/1999/02/22-rdf-syntax-ns#\">\n",
              "   <cc:Work>\n",
              "    <dc:type rdf:resource=\"http://purl.org/dc/dcmitype/StillImage\"/>\n",
              "    <dc:date>2024-01-11T14:45:37.160074</dc:date>\n",
              "    <dc:format>image/svg+xml</dc:format>\n",
              "    <dc:creator>\n",
              "     <cc:Agent>\n",
              "      <dc:title>Matplotlib v3.8.2, https://matplotlib.org/</dc:title>\n",
              "     </cc:Agent>\n",
              "    </dc:creator>\n",
              "   </cc:Work>\n",
              "  </rdf:RDF>\n",
              " </metadata>\n",
              " <defs>\n",
              "  <style type=\"text/css\">*{stroke-linejoin: round; stroke-linecap: butt}</style>\n",
              " </defs>\n",
              " <g id=\"figure_1\">\n",
              "  <g id=\"patch_1\">\n",
              "   <path d=\"M 0 473.038125 \n",
              "L 457.92 473.038125 \n",
              "L 457.92 0 \n",
              "L 0 0 \n",
              "z\n",
              "\" style=\"fill: #ffffff\"/>\n",
              "  </g>\n",
              "  <g id=\"axes_1\">\n",
              "   <g clip-path=\"url(#p94cdd526f4)\">\n",
              "    <image xlink:href=\"data:image/png;base64,\n",
              "iVBORw0KGgoAAAANSUhEUgAAAmgAAAJoCAYAAADS7x1JAAEAAElEQVR4nOz917NtWXbeic3lt9/7eHe9TV+VhfJVKJCwbDRIdqPZre7ophTSi/pR0foD8BcoQqEXhUSFpJDEYJAg6EAQBAmgUIUqlMmqSp9583p7vNln+72X0wOliPrGNwLnZAaa2miN39tcd+xlplvznvWNb3q/8zu/UzrDMAzDMAxjbvD/f30DhmEYhmEYBmILNMMwDMMwjDnDFmiGYRiGYRhzhi3QDMMwDMMw5gxboBmGYRiGYcwZtkAzDMMwDMOYM2yBZhiGYRiGMWfYAs0wDMMwDGPOCM8T9N2f3IWy53kU45UFlAOP/W+TJMbf+Lw+zMWhKI4opijwWqH2GAXeYxhiTFny/fnifnxfeU7PF2UtRt4vX0v+Ls9zipHPmWYpxcwK/F2hnCcTx4ISr11kGf1G1o+sP+ecy8TvZP0559xXv3CDjkn+h8ZDKOczvh9PtpdyP/loiOXjLpTLUqnjpArl7S7X8U8+egHlB3t9itkb4j2fZNwvJgXWz1SxiM5Fe5Z8GucFeJ4gCPDf+ScuEn0wLDimHuBYS7yAYpIAf9gKua2WI7yDVsTnqUaFKPP9JCH+rhJz//rpr/93/MOf44ubp3RsdrEJ5f3nHLN/vA/lrDajmHCGN529OKGY0YHoK36Nb3LawWLMdVq5ju0XNFtQ3r/Pz3D88ADKK9e4kleu4nnygvt/ZQHHyMlkxOdZ34Dy0toKxUT1KZRfbO9QzPMXeM/VRpViXCrqfdKDchjhdZxzrnso5gZlLrh0cwHKlQ9/ja8tCF/jechXRyAyHI6hnETcNqWY/wNxqWaT6yap4jt2nPNAT3PsX9q86Dw85ns89mYjjMmVCW06xLZIggrFRGIuPzo+hPLCQpt+U4j3wfbzbYqZzHDMLm+sUkwg5qbxeEAxC0t4fV82hHNuZ7uL96e88+XcfqHPY0Rif0EzDMMwDMOYM2yBZhiGYRiGMWfYAs0wDMMwDGPOOJcGzRN6MkV25YIAD0Y+606kpqqSJBQTh+dYMwoNjqfoaaIIH01q2WYz1lrIZ9DBupA6AeecS4U2K1WuVQjNntRz/QfO1qlNxO+0tpFk+dnPEIv60rR2Etm+52YmNCMpn6cU9eWUa/lCo1c6oc8LuG/tCDnNH7zLuph3nnahfDjla0+F5oBVMM4VrhBlRYMpTu07vpYn2s/3FTGbQHbtUPnJQAjeasp4aApdZpnzOA/FgAx85RlK7LeRz1NRo4rHahVFqHYGR2GXjo2Oj6A8rbEuprmE2qx4YUIxgxPUS83qY4qZ5Pi7eKBolnLUqQ3vdynmeIj1vvo3xf2sch2vL+AzXLm6SDHTFMfIYHpMMZNkD8qdJdbybG1dgPJoxufZPX4A5ZM+631ai3jP0yn3r9MD1BYFoo4Lx+0wzvFYc5HfPVHlXK9DII54jEQh9tMo5vPGsZjbZ6xxHA6G4oh475Wxk0jdpjYj12LUQY5G3Lf7PbyfZpO1k57USirVFwd4j/WEzyM1aEFV6se5D8xSvL+ljSWOEXXqKZOeH+GxhVqHYtod1Kzmiq5vfRPHljYjTyainlnKzPd3dohhGIZhGIbxHxNboBmGYRiGYcwZtkAzDMMwDMOYM2yBZhiGYRiGMWecSxUZV1Ck5yuCcWnOpwn3paGmdh6Xy4QE5VrykGI665UoGE/HWM5SFu5PpQhfub1SiME1Ybw0htUUg9IEN1AE7EmMAsui0OoCj6UpJxtI0zxpdFoqhrxZJgxTlTqWYsnpVJPGn400yi2UtiHfY8UI0Ilnz0TMyGNR7Z9/uAvlP75zRDHbot4nioGrL8wePUWeGxRnmz86cW5pKvwfzo3H5FmUpnIzMSC1lI+pEO6PlaBZilebKY9QiuesRkrfFncwU/q2JwwhKxUW85/F7pjHQ1CgeHjqsag8joSIfJ8TdLwURe61JTZwrbyO4uF0n59h5wGK8Ccpq4djD4X5fiBE0hfq9JuqeIZHT9jMdmEFx+zCRX7O6tIyXttng81Hj9Ao9OD4IcUUNTR8pswV51yrhmM077Oo/L0fPYXySgN/01zi/lZZxXovnWLO/RlynHzHc1UukpWikNu8URdJWFWui2oizInF+zNRkmYCmTCkzMmTGYrV915wQkf3GMfEpSvcv/y6SHTLuS4GJ5joMI05GaLVQhF+IeYqLbnLF/PkwsoCxYzG+AxpyskQ8n3p+Vyn0wnW4VRLMBSJIDOl3htN7AeZmkqA2F/QDMMwDMMw5gxboBmGYRiGYcwZtkAzDMMwDMOYM85pVCv0Ncqm2HJz8lLRzsjNtPOM9Q6l0COFAet9cqG7KjP+rp0LDVAmDBlzzVRViHd85dpSEpcrmi8pZtCM7VKh05Gb5zrn3EAYOYYha6j6Q/wePhrzd3YpgsvEc+aK+EKa12p1cZ7N5d23Pqfcj7iW0JylE27PSFxfM9cthbbCE5t/7/S5rY6EpipTdE69KbZV5rjfJhneT03Zf7gmNGeJMo5KobsqlRipy5TGmGTq65wrhT5Eagydcy4X/SLLub4m4tqe8n+8ROhgUu46zgnzyaTKWqNao4Exn8FItLp4k46VKeoMY4/HzGyEG3DvPmQD48oMx2dasvGqJzZjXlxkrUy/g8+eb3C9v/yl61BuXMU6fvSIx8yPvt/FmI/2KeZLv4RzSrDHz1BfxJjBiPVlu89RxzQtexRz5XW850pbmYN97KezET9XKeQ9gyn2wfYK66UaDaG1W+Z+W2+gZu88itpOm+eLVGjQ6jWetxsNbPNqlWPImLyUumUeD9OxMGdV3j0jocHsH7Pm8Yff+RDPk/FzXnylA+VBlzWY77z1CZQ1I/rrt7agnHTwWgtLeB3neO0wLbifzIQBejXhZ/ClFlHpkn3xHu71uG/XG7hxfZ5r+jLxTnVna2rtL2iGYRiGYRhzhi3QDMMwDMMw5gxboBmGYRiGYcwZtkAzDMMwDMOYM86lupWi4zRVlHRCzxg4VganQgxO5qPOOSfEf+mUTeGkYD2bscC+yFE0KIX60rzVOTb4zJQEgOFQGO8phnTyObVkCPm7WrVKMZevXoLyT3/6HsV0e3gezYBUPpcUg6s/0kyEZYgQsFdqLPQ+DzK5wFOSDaRB8Ewxsw1Eh8rFaQ6G/Jsrr78M5cXhJxQTPnwO5QVFSbogxK9NxZy1Lio6Vfr/0Qz7ykRJSJC1kwlhdawkdFTFeNRSSYbCIHKmON5WhSGjlhhSiHv2HZs/dkQCwNICC7s7DfxdK/n0/5+sNtfo2PAAy9mYxc2nAzR1LQMliecA66s85QQAP8Z6f3jnY4qJKvjsTWUu2H6B5qyb1/E3z55zO+w+R9G7FylmqC0hts5YrD4bo5h5b/s5xWQiucuPlFeLuLxmFtvr4nz26AGbqAYRxogcGddSEjHWNnBuunSlSTF7+7t07CzqNe7b8rXaaHF71mrYNlHEMWn2lyebaebhQY5jJKry/dUjPM/q1iLF7B1gIs3JKZsc345wbL3//hOKufsjPM81kVjgnHP1FpaTGo4ZOec451wq5qpeb0gx+y/QAPr0kOf/TgefobXAc2fm4bkrSt/ORJLfZMRzVeTh73ikMfYXNMMwDMMwjDnDFmiGYRiGYRhzhi3QDMMwDMMw5oxzadACsY4LFPPM8Qh1HMMJa7Pk5tCnJ/xdO5uIDa8Vwze5CXZR8rflLMXr50IjoenoCiEKIqNA59x0ito27drSqNZXTHuTBKv+v/x7f4di/sbf/EUo/4N/8P+imD/4wz+Fcqhs5B0I8Yc0+p2Figmt+M6eeNxVAiH+CJIGxZwLH+srbrAeoxiiaqpUBFyeqNPBEWoHDnuseandxI2fm+useWnfewblrygahKZ4Bq/ka3kF/u644HE0EyavbWVDdW0D9Z/HV8ZMJMyKJz73bWlgPFKkpgsNoaNQTGiFB7PrTZSgCDVAjQU2bWxVsA5bsab3+ctZaLAGrT5tQ9ln+ZsLxZjYKdmo9liYqK7VrnHMPm4i3jthU9BESKaOFbPpqEDFSvXgIp73lBUtzSaeeDxmjdDiGrZ5Ul+imLffQh1R4PP9tZZx7A8mfD+TidDxJYqOdCbuR9Ed3vwc9p3ZFO/n0Q7q9Zxz7vYvfB7KywvLFPP8GYoTNX9lSRgndCwS5sSVKvdtaQ6ezzSjVfHOEpt0a4bUFWH47Cubk8t3Vpjwk0YRPtfiAuv6HnyCWsQff+9tvtYM54urlzcp5sLFVfyNj7/JFL1xLOq40+ZBPDzF98hPv3uPYvIMx+cXvnaDYi7dQo1e6PP8/+4P0di3z1627hu/jKbtisU9YX9BMwzDMAzDmDNsgWYYhmEYhjFn2ALNMAzDMAxjzrAFmmEYhmEYxpxxriSBk6MTKCvaRDceoQB0PBhQTCYMW5cUQ8Enz9AssK+cRxrVShNT51jgnwrTWc8pJn9iveopDq6eENj73tlGolqFdVr47F//+lcoRtbPK6/coph/++8wSSAOlHsW9S5vJwpYfB0meKwWsuh3dWMDr6OYLZ6LQtxQySLkbCzMAlOud+fh9Z/uCPPATDFDTVBUG/iKqapIhlhW1MNhJsyJFRNJKd5vK/89ioTqPiz5OWV3l71LySsg5X4tVAxmM7z2UBkjE3HxrMJTSNjGdthTTI+/vbcP5ac596+/++YVKK82P70RcifaomPjBPtFtcYV1ljE+mrvcV3c2f0Iyl7A5znaE61TbVOMvy6SdpSkiqvXr0P5+cc4L44PMNnFOefiGOePgx0+73tv4XOtX+axd3iIYvBbL7HAPs1xfr3z9jbFXBCJRtcXlQSYCOt9fYvbfHEFz9MX9dU65TreWse5sx6zcH9DPNY+RTCpkkoQiPl0ok1VYkwkIdeFL+byqUiGGI/ZPFma2aYZC+ylwe1kxG0eiueSCQHOOffk2QMot5d4/v/Wt74A5dtv8HhsNXHsT8UzTBwnHMr3u6e43q+sori/0eCEjg/exef6pV/7PMWsr2LHGI+4Tk+P8H52dk4oplHHvtxV7cIR+wuaYRiGYRjGnGELNMMwDMMwjDnDFmiGYRiGYRhzxrk0aH6J67gs52+ndbEpaz1qUUyjiWaGf//v/zcU88/+ye9D+Xvf/nOK2VwXYgHF8HNnB00HJ0LnFCvmrML7Tt1DPBJmmVHEuiZpQjiYcH1Vq8IIcIk3rJXHWm3e4Fca3l65wEaAkwHqt46EgStvM8vPrm1OPpziL1c7iuPnOUiFvmyqaCvcRGwInnHrPD/FmA9eoHly5cYV+s3a5gUot6ps5lkXxsyJYjEoNw33Cx5aUnfSUDResXwsRcvmCfNOL0ENR6BsYO4Jo2ZXcv9PhNbuJGWTy66H10oL1o4VoqtoGzYPxZC9s8da02/N8DleXmJt0VkyjjRV2iFErYw0vnbOuSjAsXdp63MU015ch/J3vv99ihlGeIO/8LXXKKa3iGqnmjLWKlUc+4//GOe3smR9TdLENs5mfN79p/i7zStsNu3XsB+MCu4XN2+/BOWgxvNQVMN6Xl1gcVYUYH/KO6zfTXM0k768cQXKixXUxjrnXCDm5L3nis51+Ok1tOMp14WQULmaosEcDdGwuKqYMC+J+V/6wycj/k0qtLmeMhfUauI5FU358BTn4O/++7+gmC9+8w0o/9d//9co5vI1fCcUip5MmtHPxPsgy5XfiPlMvpedc67VwPnixvVLFPPB26hBCzRDdmEeXo15zhsPhPZvwu+IehV/Zxo0wzAMwzCMv4bYAs0wDMMwDGPOsAWaYRiGYRjGnGELNMMwDMMwjDnjXEkCyx00PMyLEcVI0f1owELvN954Gcov375KMZ9/4xUo/+jb3+FrZXjuJGFxZ3WjA2UpA44jfvS6ENwHSiJBtYKi2kqFjRQLYTD49IAtD3cPUSR6dHRMMbdu34Dy3g6fZ3FhCcq/9uu/SjG5ENg/3+tB+b1HT+k3tQ6KhZs1fs5SmAPWEhZPngdfCOEDp5j/htg2PUWE+c4zrMOPjlBc+tVvrNFvImEeOBuycLMiBMaRx6paT5gnRzGLtn0PY1Llv0dS0puOWCDrQjx3IOomVNJbogTvuUhYDO4CNO/0fBaVrzc7eJ4xt0MmkgtmQ54LkhyfoZjxnHL4dA/Kk2ucSHMWQcxjOBTJEEHJDTGb4P0Mxjz2sgr2981LbCTtC3Pk2gYnT80c3k+lysLzqajCwsf6OzpEg2/nnFsU/SSJ+DlPD0+hHIUssG80cY7Z3uW0ohsv47W+9cuvUkwqkj7GGddpf4TPsbLJ/TTyMUlssYP3N+yzSe5ggMah+Zifs3so+6CSlCJoNjgxKhNJHrlM0HHOzWbYxknEY7YshRBeZLGFLb72eILn7fd5XMkrRYowPp/gfNGpdijmN3/zb0D56u1Vigmq+J5TfLddKBJ5MpGI5CurFGm2myqJNYmor/U1nj9iYRCcTbmt5NrG14zdRQbHpUvrFLO0hO31wvUoRmJ/QTMMwzAMw5gzbIFmGIZhGIYxZ9gCzTAMwzAMY844lwZNbpyqmd+lQiQx7PH31VYD9T5rq7zp7vJiB8oX1vm78Y0tjKlVWfuUVKUuTW5Oq2jQakIvUmXdVRwJvUjM+rdSaFNujtmE8x/+7h9B+V/+8z+gmEeP0DT1j/7ozyjmlVfQQPPzn/syxXQPUH8xdDtQjnv8/d6r43PVWqydWRNt1Yi19T7raehaQsvm+awbmvlYpx8dszbrZztYzwdCtxNWeYPkw6MjKE8G3G+ror9HilFhWMH6ipWN4+Xm4/0Z691OxSbA00XF8FloKToLHSi/+Pgh/WYxx/4+qbLp8YHQh3htfgZPyC/8jPV4ay3U7rQ81vJ4M7zYeJfbc+cxts3jp0cU4zav8bGfI1b6pDSRLKUDqHPOBRiTTrgfT/rY3wYveJznDueQn354SDHPP8bx2B9wTOEJXVOKmi8/Ys2jvL9alTVL/VPs7++/9YxinJhfj05Zg7bzFPVkCwusHXv8GJ9z8yrPry7AZ/c9fq4LyzjneX4XylmNx/DRIY61hQpv2p2IeVuxyyZqMb9H/KrQhCrav3pVmE0rruhTMT/kGY6ZsuCxF4j3U1Wa0jrnhNTaBYrIq5jhXNVZ4vni8lUc1wurfK3UF9rXKWviwgLn+7iOzzBVNHyFODZSzM0TH89z6SJrkNtNfK4i5TptCZ1hlrKQTr5arl5njWOrda7lFmB/QTMMwzAMw5gzbIFmGIZhGIYxZ9gCzTAMwzAMY86wBZphGIZhGMaccS7V2vbjR1DeWGFxZxTgWi8dspB09xmKRL2SlZHPttFk8M1feI1ibm+hcW6kmFHWhfgvF+LrxTaewznnlhdXoBwqiQSxEIhL81HnnBuIa81CXge//cFjKP/JH3+XYr73nR9AeThmceJ/87/8FSjXmysUs/8EhbdLHRSZv/HGL9BvMmFyOex2KSYQQvMsY5H0eShzKdrmet/pomD2B49YCHzvAIXcS8JUtZZLu2LnDp69gHI+Y7FpJcR+WmmyANoThsWFIuDtyQSANU6S6U3wOTUzyoVXb0I5EJfqfnSfftOsCJNExYT5RY5C9Ipi2psL89pAqdNUmG5GIY/zWCiVI6VOT/v4u4dP+X7cJh+C+/P5/nJxO5MZ99vCoZjZ73BiyIIwMh3/4COK+e5fvAvlxZuc1FAtcMw+fPCCYmYlJlEsrnSg3OgopqU9fIZ6lRNOPJHEc+99TlDwhBA+rLJRZ3dftE3Jwu5qA9siK/gd4fl4P4d7PM5rM9HhfTSoLhuK6XEXDXlrKzzOVzdR5P7kAwohKlwVLhDvwmpFMfAWddgbch+ciMQUTyazKIkFFWEWHlX43ZOI+bWvJH3koo7TCdfXNMV6T2oswi9z8b7UzLmFyexMJBB5GY/hUBjNNyOePyoiYSJb5PdKNcZ5e6TMeUsiUavf5foa9tGQt17n+bVWUzrLGdhf0AzDMAzDMOYMW6AZhmEYhmHMGbZAMwzDMAzDmDPOuVk6fpu/vbFEMe0l1NMo+0m7P/+T70E5L3h9mAkzz9/623+LYjoVjKlU+ftzGOG35bHY/HhlibVatURsnD1VNqoWeAE/Q0Ose72IDVL/1//9fw/lfv//SDFH+2gw+2u/9lWK+fwbr0O5VO55PMXv6n0hwtkecGMVQthUzlgHsCY2BH/y5A7FbHZYZyWJhdnvbpef4Yd3Ue/w/nPWRDTE/by0hhqhSoXbYSrbyue6aFbwvF7C5pmp0INoZs5OaC5luzjnXCRMEJtPeUPpaQ/rp5ih3ufKmJ8haeM9vzhh09c9oSdbj3h6WBSGlc0O61HLMT7X9uEJxYyEDiZgyZLLQmyvdlcJOoNqzG3uO6wfL+K+nYmN46OY57zEoXam2uZ5qJgK3dWQn2FpuQPl5Q0W1mUF9p1GEzemjit87SDBvj1WDLO9ALUyxYj1UoHU2aY8Po+e47EHd59QTEvsHz2bKtoiD+u9ErBW+PAE+9Nohtpmv416IOeci+qo0etNDihmOpVj9iWKkVRjHue5GEfSVNU552JhXltLuN6lPsoJw/g8Y/PkSOg/U+VPMEmJc8HpTpdiQqFHLVK+1vEx/i4KWHdV5Ki7CkLWYaXy3AWWY8W4XL52p4rmMXd4bNA7ppiTQ3zOnRc7FBMUuHY4ftqlmGcP8Nxf/ZYyp5R87CzsL2iGYRiGYRhzhi3QDMMwDMMw5gxboBmGYRiGYcwZtkAzDMMwDMOYM86VJPD6m29C+Ze/dIVicnGqlUscs3YRDTRXt7Yo5pu/9HUob62wuWKYo2gvCKsU48RO9mQ66/HatCLMPBdiFm6WwmzUpSxOTIVIdDDmmBvXbkP5f/M//G8p5smTPSgvLrBQee8Jmlo+2mFR+Z0XKGB8ry+MChOu4+UWxrx86SLFDI6e4rU/+YRivvbq2UkC97axfv7R288p5q1HmBTQUBIv/pMrwiy2xH7SuH6ZflPJsI1z/3sU0xZJDIXmECmyYiKf+85agf0iGrHhYTnB/hUrxomhEG2XCfb12gILxofCIXJLSZjIhGGkNMB1zrmRMNRMc74/T2RM5KWSDJQJAfQii8HfOXwM5ZvNT2/0WLC3s/NE/UUxnzcS/asoeY6pNEQ7NBYpJmygmL8/5r6zeQUTlurHXKe+h9dfWsBxtbHFiQWFSLh6/ISF+9EI+0pYaVJMkIukipL77ckOzkP7OyzUDxdwnHcqbK5bjzag/ODeHsWMZw+hXG3j/SzxaV2ao1HtbMQdY3PxEv/wDEqnmaiKsV/ytaRha6PGiUeZUPiXBc7JqXLtssB5MlZe8cUp3s9g+5Ri1uvYLzzlPAcPulA+fayY0+9h++3v87X6InEm87C8tcHj6uIlHDNlyJPVNMP5//CAk5X6IuFqlrLJ8aiPZsnv/fgBxZwcYb17ylQ1nn76JCf7C5phGIZhGMacYQs0wzAMwzCMOcMWaIZhGIZhGHPGuTRou8f4DbaMFQPLBfwmfOtzX6aY/+y/+2+hXG+2KWYywm+5ox5/N27U0PHQD/j7fSk0QJkww7vz0T36zcoK/qZW4+ccDfD+pn02fzztY8xY2ex1JD5H91K+1ixBzdnbD7kudg/RcPRY2bx6soKba798E/UqnapikpiihuTg0YcU885f/BnG7LLGxblvKMeQf/8Ev/v/3l3WMmy28KP+r15g3dzNCmor3j5AfUE/Z3PbVhPPE5RsilgXxrSRz5qSQOjLYsXwNhUbqK/WWSzjt7EfjBSDyPomajfjW1iu7bH+5/lPP4bya1XWVN1q43gcDlmPUROmqsczNi3th1g//irrEHd2cdz4iplnP8U6fXrC+pUNOoKMTnmz7TLC9szDlGLCAvtBkLNmLxX/v43qrBFdvYla0xNlv/cDMYXUVtcpppagJmhlEeu02uDxMBhh+20oOtJeD+v06IA3Sw8KbBu/YI3jdIIP4aX8oBfWsZ+WinHn80fbUH5w/xHFtJex3tureD+TKbdnTZhNt+pcX5trV6DMvY0JQ547Qw+PFY77ti/MkUOedlwuTKulzjVWDJYLYf4epXx/9997BuXxLs8X7VD2d77BZz9CDfLvPv9nFPN0GzVoR8oAGAvN6li4Vq+ssBn2V76G4+qrv/p5ilnZRO3aiydvU0xW4Lvm2q1XKGY0wvv7yc+4TxbC/LpaVwyfo0//9zD7C5phGIZhGMacYQs0wzAMwzCMOcMWaIZhGIZhGHPGuTRo3TFqGZpLaxSzsYUeMrUWb0YeJqh7maSs0+mfopah22U9kvNQTzBUNgEejVGHMBzgefrKhtK9F6jnGikanMkYdUxPHj2lmI/uoE/KF77CerxjIUJ7sstamZmPOok85G/xC1dRX7bcZF1TKny7shPcKPj4A/b+uvvBz6B8/wF7v0jPmEDxojkPsdhF+foSt/k3lrC+XolYm1UVG1z3M+wDj5+hV5Nzzm1eRK1AErCBTVLDmFjRLMXCW6so2e9q6KGmpKN4f00LPLd/yNdaW0JvrebLQuf05Mf0m6bQCMVDHjOF0HiNS0X/NsP72axynxzGWBeJ4lk3uYj9dE/xKDqNsC2WWqwbOosH7/2Mjvlt9PryG/wMnQrOVX6i6A6Fn2AtYp3O1kXUwVRH7DMWhfj/5GqDzxOLzbTLFOvm6JR1RFmJ+sBY83ur4HnrHb6/hojJC76/yQFqixq+slm6j1qxruYhWd6F8is3uM3bDdTfbV7Aez7NcB53zrmVDupury1/hWIaCfokfuw+phhJPWE93rHQdMVV/juIV5UeZzx3hqHQmMliqfwmxrF28IDH+b/+vT+G8skBq+2GfZyDaxXWrC4Vwmt0nzW+DXH5QZfHUf8U55Sx8Ch9vsMb23cfo1bRZaxt+63f/hUobz/iOcb3sQ9ev8Femfc+QV3m3U/Ym+/KdexfF67wGmmq3ONZ2F/QDMMwDMMw5gxboBmGYRiGYcwZtkAzDMMwDMOYM2yBZhiGYRiGMWecK0mgsdiB8oWrL1NMPkXx37Yi7EtLFG+mioFrNkIh3XjCRphPnqFobzxl4eFAbDIdCQHvSY9FtfvHKJacTFkkXYrdl1/ssmDwvjDne/pnP6SYZ1KYWWOTy5VLL0F5c5NF5S7Duth+7ycUcvdn70J5fxdNeuueYsk4RZFo5CsGuDMUWHqKyet5aNdRbPpLbe6WrwqzzFDZjDxdRfH8ZA83iX/np2xOfDTA9mwnfN52BcW4FbkZsnMuFhuC7w84wSS4gMLRPGbx/KMHeI+LE2Wj8SH2y/e/jUkBjQecuFIXO583FJNQL8PzTgIWcc+G2N9mY76/qjAFrc1YqJzM8FrhiMf5FWGce+ul6xTD1pPI++9+n47lYmPqPOL+tt7B8Vhps3jeKzAR5PDgOcdMsA6vrrN4OKriuJ4o4vmKSMaoxNgHJy0WaEuj4TzneVKaMF+/coWv3cB++uL5PsUMumjeudLkucqPcM5dWWXhead5C8o1ZZwvVDEhLYixHSpTFve3a9iX6hWeb0PHbXwW3R0Wnv9f//e/C+U3vvgqxfwn/9W3oJwrG9AXOb7DplMeI5JOE59r5wm31b2PMeErmHI7eGK+yEvuX3GG9/PGKzw+T4f4XI+SXYp54mOC3N5ImEQHPE8GGc4pH337PYpZq3agfPiUk0dqwjx22OV3/p//6VtQPj7ktvqV38JEwMUV7kvDEa85zsL+gmYYhmEYhjFn2ALNMAzDMAxjzrAFmmEYhmEYxpxxLg1aL0edwg9/xlqLJw8fQ7k/4e+00wl+35W6Neecu7x5AcplwVqZZyf4LbmXspnncITfqLc2UZ+UKyZ/7wrT2bLC376Hp3jtqOCN2sM13BT4433WeE0bHSgnyxcoZq2NJo2DJ/yd/ZN3/gjK+9uPKWZ4gnWRCR3drMnP0K5g16gErH/oiQ3BU2Wj9vMwrqK+YSVk097QR51Et9qmmMYq6nvCJt7fnY/YPHMo9D4vj1lr4ZdCQ1Vhw880w/oaS1dJ51xXGAZruiu3jMamRz5r2bxRF8p1h/ezJsxRnXPOPxTXGvPY8zP8/9o44zE8ynGs1ao8hdTaaN45OmbtxaKHdTEM+H46W2h23VZMVM/io+fv8kFxz4XPpsJHVWFmG/EY8cXm1WXG+pWJ6Bf1FpviNhfQbLraYP1WFOJc0KgKHV2VdUTjOrZDpcrzmS+ar91h41W5UXapaHN3P8J+ul5fppjNJbznmWLgWqngPD2dHFNMmaPJcToT4yrg+8sKPM+L3YcU46fn2R4d2XuwTcfCAY7Hd79zn2Ju3UZ98dVXWBMXC6PaUoyR2YzHzGyA89nT9/k56zM8b6yYalfr2FZFybrIR49xPm01WYPcEPrimsfz2XpNaHwD7JS+skyJIpz/+yf8znjrD1Cb29/mvuSJefD3/+F3KGb7Ob7zY5/77eYFbL8w4TqdZtxeZ2F/QTMMwzAMw5gzbIFmGIZhGIYxZ9gCzTAMwzAMY86wBZphGIZhGMacca4kgae7XSj/83/zXYp58BSNCrMGC6njGgpd85SF+it7aHD72ku3KObjQzTfO1QE/3mKQtH+IYr2fEWwt3OEQkO/yUK/k8MulC8tblLM3ikaDM4UwWxjDQXtyxucJNAsUNi9/eEPKKa7jULNyGPheU20RW+Az9VTzFDrIkEiz/i8UYKi0Dzn+joPMw+vX/jcd45EssgsZ0GqNJCtVfC8Lw7QZNU557wQxa+/WqlTTEckCcyGPGzKEusrXmCx9e4RiuVbPgvPOxeFSHqN63RzawPK10bY15cSTlAYPhZtNeaY0QATJDz24HRVkQgyi9lI1BMC+/XrbM5aE0kUUyXxovIKCqm9FU4McccsOv55/FWuP1/0i6TK7RALI9/RgAXGUYwxQcJ90k/x2H7vA4qpX8D5a2vz8xTjhFFzPcJ+GnjcDoUwpvVCnidLYUY8ztl4e3iM/aJ38IJiZkOMaVV4XlytXoHynd3HFNNP8TyZx4kqsynO/2vL61hexOs451ye4vjcfsHzmacktp3F1tIqHfva61+B8u/9yz+hmP/z/+4fQ/k3/mdfpJgv/+JtKNfqmAiSBNzf3vvhJ1B+/tNPKOZmHZNQvJDnszwWfSXmax2O8T33XDHtfUmM/UbMY62sYB+MfSwHjq+dy5yFlPv/6Ajb+MJSh69d4ty593RCMVGJiT2540SyssTkqZYy/+cD2efONh62v6AZhmEYhmHMGbZAMwzDMAzDmDNsgWYYhmEYhjFnnEuDdiw2Fj+s8+bHU2E8eTph81gXoWaj8Pjb8osHaOpXb7MmyBMbn5/2+btx4OGj7e+iCWHR42c42MOY+iqbSjYiNKQ72e9SzNFAfL/fYA3O4gKep17wd+0XH/0MyhVFX1YRBpW9IZ+nEBt552ID4mpH2aj9IurmDp7c5fN2ZR1+xs3SA2E66LEhaZphf/IUvVsnRJ3JYlUYWHqsO2yl2Hc2A/4/S63E341CNvycOdRWtH02Dt1aQg1mqpjZLlxEPc2XPv8mX0toPWo//RDKWdGl3yRis22/zs8wHuNGxp0F1teUFWEYrJgc126j/mjzIusrp7uoNc1qPNbujLDNb2xepBh3zBqbnyfn23NRDeeGSDPbFRs0x3Xub1mI+rfjUx57PWHG3QnZRHWUP4NynrDWLgpxDp5mOC/WIp4nS2EqvHvC2rHtA9w4+3R6QDHVUpgw55cpppuhLvLU4/t5to/Xj0Ou0/GsC+W05Lm9DFErVhGGt9XyF+g30xnOea0K6/EWl3AT9ueONb+SWou1k8UU2yrhbuGev4d18UeKxndpFefg2y/j3PDgLe77f/KPUB++POG+ffU6js/JmPvkTGi4S6Wtiuc4D3kpz6+ZOHc14vuJO9hX/C5WWDrmtkpCHNjKfurOm6Cm/NoWa8ErCdb76B73/1khDKmVebt3iNcaKO9h3316jbb9Bc0wDMMwDGPOsAWaYRiGYRjGnGELNMMwDMMwjDnDFmiGYRiGYRhzxrmSBIoAhZB7Azb0W2ijAG+0s08x4ymKyqfkNuecJ8w8n/7sDsXcfg0NLOMTxTiuQEFeOUSxabvO6uGmMGdtCGNd55yrJ1gXj/dYqFmvd6DcWVmkmIowntz5hEX41XEXyrWFBYrxIlxj+30W58ZCQFyfoJhfSxKIpcC+tkMxlSkKQIdDbs/zsLuNwsxoxqLV7AT7TmVBSSQQZrYby1jv/6vPYb9xzrnNCZ53YdyjmOlMJCjUuY4XrqGpZEURkm4Jg9lpyKLaUYb9v3PC9xOsrkB5fBGTUKLnbN6aNXGoT5UknqpIOInEdZxzzl/DY50FToaQevXuo8cU07mKgv9HExYCv/NjHFuVpmJUewZ9Rbg/nWE/rUVscjns4xyXVbitvAq2sd/mush9PM+0pphTVkVbVNkUtxRJAoFIpCmc0g4BjuF2dZdidqY474y7TyhmKgzFT3Our2nnG1B+km1TTDj5GMrNkNuzGmNiSqd+hWLiKs7lK63rUA5mnJSSisSZRksx3g4//d8rph73r90DNG2vK4ayHdFeux9ym//gz7D/n+5jEtv3/+G/p99kL7AvXd3iMVwT777OKr/nSmEWO55yfe0d4D3HISdMtKUJdMHnKUXiQJnjBNJNuY5n4t0TBjx/LNWw/y9zt3V7OY7PquO1jS/+jhWGinFuH59rPOTkFucpiZNnYH9BMwzDMAzDmDNsgWYYhmEYhjFn2ALNMAzDMAxjzjiXBs2F+PH2dMoaId+hfmt9nXUAk1wYm3p8nqR1DcqNTDF3m+L38dub6xQyyzAmH6CWJ/BZI/Tl26/h7dXZYDYd4bfmjVU2v5uIU48K/j6+t/0QyvFM+fYdYZ32HX/jD4TJX63O2qwwQBPQWJiqFj53g+EITQgz5dpSZlUqz3kenj9DvcrlMdfFNEVdVT3mfjEtsc2bdXyu//ziFv2mto0bqI8U08a+2BA8EVoy55xb/gJq0DzFFLc4FAaMd1nXV/a7UB4fsgZt7Ve+idfaFKKvPusrwwz/L1a5xH17ekEYuK7zuFpcw/5+8uO3Keb4h4+hXCgmtIdNrJ+3P3lOMbOR2FC9y5vdu0hxooV/ZwfLVOhrBormMRA6tYZmSCrG0WjC5tdtsVn70gb3276HpqUvjngcrS+huWirIzRnKY+ZMMB+26jytW+9gvN0vMP9dvc5akT9Dmtpjj2s57sn/Ay3a8L81+O/DyShMPCOr1JMWeC4OTnEZx8cso5ulmFMrmjHnk7v0bGzyBw/ZyqMreMqi59aTRyz0zHX+/f/PY6tD/8C+2D4nMfDrVUc14Wi8z4V+sqtBdaghVVxfxlvhB4LPXajyjrIpUXUTRc5a7MmI2E8LCRefs7v6v09vJ8y5T65to7vwihX3k8jvJ+Gz30yFgaz04zbKhfPEPAtu8yMag3DMAzDMP76Yws0wzAMwzCMOcMWaIZhGIZhGHOGLdAMwzAMwzDmjHMlCQTCmC1UhHT9AkV6/T4b0o2HKDaNY1bSra+hGHaS87WeCxF5oAg1S5EE0JugyHw8QONH55y7VEfjxP4RC0m7wjg0qbJpaZqi6DhwLCqMPLxnT2mJvEQR5jRgwXMszh02WKiZpUKcWIg69RTxYtmAYmvzIoWkJT5D0vls6/1OBcXW61xdLhMxsc9mgd4z7F/TPTRLnsYs1o1jvOdAqb+GEIy7AQtdoycocp9kLNoeH2KfSxTRaBhjnfoFi9Nn30UDy0gkivirl+g3xRGaSnobijlxjOfJ9/k5d+/8BMrde48oplLD8xzXuE5PToWxo+NEgnHehXKqCIHPShIoPe4nvjCYPewfUcxCHcda2OS6yErsT3GF57PlZXyu9iLfz8FBF8qTHTaU9Uu8n+kE+1ficf21q5jk4Vd5fLbqmPSxtcZjZLEukmJe5bngvQ9xzht0uX+tL78C5WjCCTD9Poq/e8cs3D/Yf4a/6eK1956wUXNdjOvS58QQTwy1RXeTYiR+zBN31MRrHQ8OKGahI5K5lLb56RNMHikTnJNf73CiT7uC9xMEPMccHaPhbXuZjdSbYq7s9fh9nsTYJ+t17oO+WCtUlfdlIN6FLhTzbcZjfDYS/VRJOLmwjn3w+JTn5IZ4j7RDbs+JMGqOlATDio8vrcDnei8VI9+zsL+gGYZhGIZhzBm2QDMMwzAMw5gzbIFmGIZhGIYxZ5xLg1YTm4h7imapEBtVlyXHNBPcuLVUNpTuC5nJSJFHJVITJzVWzjmvxEfzxbXrEX93PzhBXcIoZy3DzMfv0bOUYyJRP75SF1SHLE1x8lO3IrtypRCvFYqYTcpwfKlBK5Tv5YHQMiSsI1rvoMZF6xfnYamB2r8LFaV/ic1wx60Gx/SwLZakua5i2jiuY+X4AesEkinGeBkbkg4//ghjEm6HRoTnVrwMXRnhsycr/JzNLtbF5Ai1bbNGh0/cwjE8u/eUQrKuMHBV9Fu5MICuvcRGoq1XcfPqR7tsqFnW0MByqcOaJV88e3OJ9StuzFrSnyefsj61voJt01zvUMyy0PWVJetRT49Ql5bEbPjpMnyG413eFDuqoL5HmS5ckKDGpSK1kik/ZxGgxmt5mcewi/B3oaLTdB18rjxkkejFLTx2esB1MRlgjOe4TsNYbFKfsPbvxQvUUO0+xz4wVTSi1QHqmJIKj8+ixHlxUakuSWupQ8fq4tjJ6COKqVZEPSuTgZ/h+KvFeEMLCc8NUYlzYFkq71ixkXf3lN9hZYj1lSpa8GYL27ha5bkzE/NFkijzq9AXF9LoN+ZrNxr4m2a7TTHtFmriTk943l5qYh2eDrhvp6K/TxTZ68YWzl/SxNc554rPYORuf0EzDMMwDMOYM2yBZhiGYRiGMWfYAs0wDMMwDGPOsAWaYRiGYRjGnHGuJIEkOttgLc9RSCeTBpxzLgxRGFmtsvFqIIztNMEsndcpqj0phBcqzFwRT8rlak0x+YsKfE5f0f1FwjQvyDgoF+a6UaBJxhHtlmUyRKZcSz57KBwZY6UdasJctFLhOk6EoDiKtO50RzmGLG5ewfP2WbQai4r2K/x/i4GooMoVNNiMjlBc7JxztTEKZoNcSegQ2RpscelcKGJkP3bOuShPRYyS0CESLdL9xxQzFPeYTUXffpefoR9hGw+n3Jlmol/kr3ICwOoraN65dotNcZ1I4Fj8KZvZnoywLsIqJ3DUhIFls/3pkwTqzSYda4jT+AGbcEai/0+GrBgfT9HgthZxUsWpMLYOKyxgXxL11VaE56WHY+JUPHdVSUqJ2mhkOimUuppiO5SF5hItTLU9ni+u3sDzfPtDNhV++6eYIJG4hxSzvo6NEydcp2EkYqrClPyUDXAnp5iQsBItU0yeiTF7jiQBp8x5qbjlTDFS756iYH045T5YiKSmOMByQ5kD68IkOlfeYaF4n+8dnFCMGJ4uinn+l8uCUDF5jWIMksa1/yEG+1Mq5tKaTPZyzuUigalWVxIU5DtWaatGHY/VEh4jqZiHWk1Ozrh6awvKfsjPmQ0Vo+0zsL+gGYZhGIZhzBm2QDMMwzAMw5gzbIFmGIZhGIYxZ5xLgxYKTZUmCwvEUi+psU5BUlW+a8cBHpukrPgZzvB7fVqyfiUK8frSsG8842/+WYhPFmo7mAszwzDgmFB8H49l5TjnCnHPmbKhOn2vL5XzCBPVqqKDWVlBE73NTfxeXm/wN/VKgu1QKi65qbgfqUN0zjn3+GwN2p0+6kM2l9hEOJhhP7j35C7FbL0sNFPrq1B8ccjalGiG/WJJGKg651winj0vWEsgpR5RqrSnh7/LFJ3CVOjS8j73/0JswJ2LDdZdj6+9JzZdf2vcpZhDcZraNm/y/J/95q9gzPXrFJP3cWx9dIc1aPunYoPrAY/HFw+w77ReYt2Q29zkYz9HqWxsXGR4rF1lk8vhUJj2jhVdZBPbs7XEz9BuY99pNPkZ1tZwPIYBm8U+efIAyidH+1CuNlnnlHqokVvx+dr1CMd+omw+nyQdKI9nPEZaCziGez2+n+/8e9Sg3b7Kz3m8jUa1CyuKtqhEnVVjAcVigxG/e/KZMBhXTEMDzQn8DLT3SCmM1BsL3L9aQsfX22MdmBcKE+EQ6yaKOvSbIsdrp4pwOUqEabVictwX47Fe57ppt7HvaJo4KZyW7xXnnEuEzjATespmh9tzucTfTKZsQrv7As24C8UNeDLBfuspovJKgs+1fok3qV++iO/YzOM5WNMcn4X9Bc0wDMMwDGPOsAWaYRiGYRjGnGELNMMwDMMwjDnDFmiGYRiGYRhzxrlUa9J4VTOb84TAvhKzAFRK9BKfBaCVEo9pYs4sQwFjUmVHwaLA+xmNUQyYKeLJMMRrJ55izicE/7liyCvTKDxlHRyJOgw9fs5CPPvy4hLFNCstKG9tsWh6YaED5ViIREsl7SPLRBKD4n+bOZkkwEFjOsIc5mjeua0YO/Z7KAKtezWKWUiwLvb2UCT9zw+f0G+Oxijm/LU3vkkxL29dhPJo75DP82IbY07ZFDef4XOGIT/n7S//ApQPupwAM5ihYL0shXnyKo+rRyMcM3dzTj7Y7+J5LyqGpK11rIvuLj/n3qMdKL/1YIdiqhEmgsQej+GaSNi4evMaxewP2fj152kusLlt4ONvllos+n2xhwkSSYtF0rEQld9+hU17N1Y7UK7HnJCTjvDY3buPKSYbYn+/sHkbynnMIuneBEXlYY/bs7qA80U24Rjf4bFpxnOeH4ljfodiPn4fhfBFl0Lc2jIahc4mPM6rHRwTfox9ubmE84BzbOY8G3P/D/xzuKILTk95fC4vY79NC04wGeTifjQBuRh/M5G09kwx9A77OBdEHvfbzgKOvUab6zgXc7sXcL8YCRf5ncNjiml3cB2w+doVilldQDPpbIJtU8yU95OYt589ZoPZ/rGYG5R32EgYBPuK4XOtjfc3URImhiXec7Xg+oo+ffeyv6AZhmEYhmHMG7ZAMwzDMAzDmDNsgWYYhmEYhjFnnEuDVhWapUgxQ5W6q1LRjknlgqftVy6+a8uyc87V6qjZ8BRzxUEP1U9yc/RKwt+I4wi/lzeU8wZCO9ArlK2zhWtplrFpXSLNDOusTdnYWIfytauXKaYhzH6TmPVHaYo6iZTumdfpvtDERYrhZygO5Yo533k0aI0Y7+80H1LMYgc1SkurGxTz/V3Ugd0U+ocXyn9HtkfYVj/qsq7jUYxatkcPH1PMs6eos/IVA+NSaCevXGZD3uol1DEdKN6sb33n+1D+T//G16Ccj7nWv3oD9VvTP/shxfR+8gGUNy+xnnF1CXWQf/YH/4Ji/p//t3+K16q8QjE3L6KJ8Juvr1PMwRG2ca+ibJY+/ISP/fy1SzYVrlZxzJwMWDuzsIrjc2Gd+1tDaB7DIY/hH/7RYyjHNTYkrVZRs7R/xLq+y9ex3heWcPClykjbaAkD3Jw7UyS0Mn2uCheWOBfUGjwnX7uA2sRr3+T6KspbUL5aPqWYly/hDYwcmxwPJzhGpUl0oegrR0KDGSqar7TgeecsPnyH9ZXDPTTEbi+wvnL3KWoGj8c8d5ZCg7Z7Ks3WWXdYi7CtlpQxMw6Eua7cGd055wLs/0HMdRMIbVjnQodivvTrX4byhZcuUkxTrCcysbH98JD1ZUdP0ah5pugHax2cXydT1qsGOT77QofrKxSaxtqlDsXEwjzcL5SXjfIOPQv7C5phGIZhGMacYQs0wzAMwzCMOcMWaIZhGIZhGHPG+TRosdCXlfy9XHp9eQFroQrh4+IrPmilQ91QHLLeTW4s3h3x93FPfJNuCq+0Ro192qRsKFK+a0/EJrJVxb9M7oHdWWZfnosXUN+zvMx6pI7wLwuVzXylJq7I2ZeH9mqXmo1C0T8IxWCpCAYL6SVX8LXPw0xsTH1nwLqOHdHmi+svUczjSgfKWxM8b33Gfj9+inqWn77zAcWkwhNuMuUNkkMxlKoRaxyTBPv7pOD2/OGP3oPy8YB1E9evoU7t1m3UJh7voT7DOec21zpQ7tS5/zeEfuXGBvfJmo/tUFO83FaF9u9U0co8ePIYyldX+TmXUtRifftPuxSz/jneuPvnCRPW13RWhZ5xiTeznqSoI+oe8bWbwk/q4An3i/EhaloWbzcppqig7mrpouLR1cLr751inS42eCpv+9gHO232USwd9sFyzO15sIvlVtyhmNUa1vPf+i94bp/1sb7u/6ufUUzhibrY4Dkl3RYaX+FxVon42sMS+9eg36OYivJOOIs/+hc/oGPJBOuwDLnN80To+ha43n2xIfhY6GNPRjxmJuK804g1tbsj7F95yddeWluB8sbWKsV84RdfhfKrX7pFMUsb+O7LEn6PjMS7ZRZjXx4oXm5ObBSfBOxlWF9BrWnU5/F5yeHvlm9tUYwvNITJKuvUvIa4R+VPX9FnMEKzv6AZhmEYhmHMGbZAMwzDMAzDmDNsgWYYhmEYhjFn2ALNMAzDMAxjzjhXkkCngSK5wZBF+b5Qno+nLM6dCFO4KOb1YVqg8DFXdHWZSFKoKqagdWFGWRUJCpWEhYe5j+LJobIRcyBcEa9usiHj1aso4l5eZnFutYZ1WiqbrsvNx+Xm6c4558RG9h7ZATtXCjG/NHbUdpH1REzpcVtlQlzqf4bNhp1zblqi0PtoxG6ZuzkKPJcSbpuwhSLk4RSFwFPF9Hgk+lI5ZIF2nmNMEnDfkT2wGLFx6CzF/r/7bI/vp4+/u3XjKsWst1D8vfPkIZTTKQuD//nvoSB7f4c3fH/5+gUoryTc5s/eexfKg+1tirmygoatg5Tr/SjDc+8/e49i1pZxDB8qmzGvu788SeDiJW6ry9dw7C22WRj86B4KgdOMEx1OD7BP3vuE2zPL8Po3X1uhmKuvooHsKOD2e36EbexKfIa0ZKPfE7FZdBQcUczaOt6PV7I599Ex3s8k57po1THmc8qm03tPnkP57v4dihldxH5xocPtG/jYNsd72JcnignttI59MJ1p4/zTJzk9+fCAjoXCpDTPeRxVW5iYcusCvyMOdvDchXhHeJmSiFTD57zyee7bC2tYpxOlLpZWsU+uX+AkgdWbeM9phd89L04wYSlR8jAqYh1QisS3NOYkNtfCNo6usAnzgkhy8nNluZNgfVVX2VQ4q+L9TD2uL5lEJ9vKOedS7f19BvYXNMMwDMMwjDnDFmiGYRiGYRhzhi3QDMMwDMMw5oxzadC+9tUvQTlNWV92eID6kBcvWOMSVNAotNHsUEzsowZCkQ25NMPrFylrB0Z91MlV5cbnPn8P7gtDzVg6ujrnrl7FTadvXOfNX6sVvJamHSsyPKZpx0IhBCsUHZhcYhcF37PUoJ0Hzz977e6J+vHP8RuNqtAcLCoGrrEvxAsZt/ngpAvlygrqCTpNFkC0BjgEyinXnzRdTiqs00kzoZNQ9JUVoYus1Fjv8MXP4cbiG0tscjztd6GcLeJzPX7MG0y/947Q+yhyiIufewMPTFhr+tPvfhfKuzu84XXvEMd+fYGnmY06tnm9wu1ZLqCupNJgDdVZ3LzFG5j7PmrHHn/ynGIWG69jucZz3vajJ1BuVrmttjbRRLgV8f0Uoj3DFveda9eEbijFPtnf5vvzfDRIncx4o/bjU9TTNKubFHP7dWyrOGAjZDdEvc/0KeuG6lNsv/U13hTe97B+RgNlnhabaecZ3l824980m3jeqWKePEtZN3oWw67Sb4VwepxzXbQSnAs2FW3WOMN+WlawzetV7kvVGs6dq5vcnq++eRvKpwOui0ePn0H5wUMe5xUxhpOYDYLTKc4hA5/rQvqvBxHOF8WMf5MNsb/PhmxCO5vg7zy5BnDO+cKoOd9j/acv/M19xXA29vDZfSnidp/tPWx/QTMMwzAMw5gzbIFmGIZhGIYxZ9gCzTAMwzAMY86wBZphGIZhGMacca4kgVYdjQHDkEXcq4soEr157RrFRHUUrQYRG+0FJZ7bV7IEPCG2y8dsHDeZoEljLITduaKSHoxR0Oh7rNxs1FEIXCqix0IkUXiKYFCujDX9ICUOKDHyKZRL0fXPI1aUMcU5DHA/K1cqKPAMIxabVkPsqi8WaxTTG2O9L11Gc8Uv+Ghc65xzZY79Qp7j/xMFJa09R1Psg5nyX5/Aw9bqVDnoS69fx/OM+hSzfyhFvXg/U8VvM01le/Iz3H2AyQWRMvYO9tGYdjJmgfFI3MBonw1cpY+pt86C548P8NzT/NOLuLdWF+nYz97C5/zgp2w2enEd56pmnRM62vUOlDdf6VDMcgdF2qtrHFPvYNv0A+7b4+w+lMsSBfZRh+eqRIjTo4TH63iEdZxO2XhY6OtdHCpJMiH25dYaJ4l5Ifblm65DMUGCBq6u5HfEdIjP3mxiWxWKqfAsw/G5stqkmO7pp5/PpjNlsIkkpzxQzhti2xyccAJMf4rzoh9jv5gE/A6binno4084YSip43lOejwv3hNzgTRWd845Xzz68WM+T6OK/TJpcN+ZFnjPU/HcvS63ZySM5w+3uf4ePXkB5XiR2zyoCFNhj+f/akskdyluu02RABmFvLSS5rWtM0y2nbO/oBmGYRiGYcwdtkAzDMMwDMOYM2yBZhiGYRiGMWecS4Pmi0/ombIRelUY79XbrKMoheFnpmiYQrHpqJ9zTCQPKRvz1oRWLBXn1dQGcoN1V7IWKhdanlw7U3D2ulfqt0rtPEICpOnAchGkPZcvGlDddP0MtG3Q5TNo2qzzsLCFZp5jZcPyQmhcNi+uUUxN6iTawjxwj/UPe4eoXegqfTsQ7ak9Z5SgVmZxkbVPLaE5u3FJ2eBXbMybKXqfouxA2RdaTj9mrcVYGvCG3Ef3xUbt048+oZg4xL4jN4B3zrksFeOxZJ3mLMDn2nvI+pWTCWqNfE0eeAY5+1e64SGKqt64fZNiajWsQ6l5cc65Rh2PLbd5w/JObQPLLTaz3d1Go9yHB4qx6RbqKZe2UBcctVifNxZaLU/R1IYh1kWR89g7OUENUNli89OkijGt6i7FlDGe+5J0KHXOTQbYL0dTrvfrN/D6J8eocaw3+bzFADtP6RTDVDkkzjFNeoppqS901I0a1/vaRgfPo0ydE2FmXhTYxs0KP2ezjXNgqtTx8z00le8qRrUTYXheTeoU8/HHWO8/2btDMR0hYFy/vEExgwz14qdHaKg87CvmscJgNptye5728LmqJ6wXTHPsF6liep8XeO6y4GvFwlxXmtU759xshtf67V/7ZYqR2F/QDMMwDMMw5gxboBmGYRiGYcwZtkAzDMMwDMOYM2yBZhiGYRiGMWd4v/M7v/NX4zZqGIZhGIZh/JVgf0EzDMMwDMOYM2yBZhiGYRiGMWfYAs0wDMMwDGPOsAWaYRiGYRjGnGELNMMwDMMwjDnDFmiGYRiGYRhzhi3QDMMwDMMw5gxboBmGYRiGYcwZ4dkhzn1uoYDy+PSAYurNGZQryRHFtJY8KHdWKnwxH3eTH44KCuke4+9ODwOKGQ/x0fIswoCS16ZFhteajKcUE8cxlIOQz9OfoPfveDChmEqJ9dX0+Vonoz6Un6TcXImH16pFMcWMxymUnx8OoFyv1+g3v/yt16D8+mtXKebP/vQneN7tId/f9VfpmOTqCvaLVPl/Q1SpQ/n4gOv0//J/+idQ3t3DPuhFCf3mS1/+HJS/8bXPU0zvtAflsdIvhhM8dvfpC4p59Pgpnmc0pphS2EZXWssUEwbYxv0TfM5hr0u/8UQ5DOQR59rNKpQ315YoprO0BuXVzSsUI3+30KpTTBxgGwcBj2HniWPKmO3Pdvl3P8deb0DHplNsqyzLKGY2wzEzzdjPOyvwGNcoP5fv8zPIx0qznGI8D8+e5xhTFnx/gegn2rXleUvZAZ1zZYHzYq5cS9bhZMLjUxJFER2TzzUajs6MkXNytcJzYC3CuVNrK1kXb758RYlCHr/9F2fen+YEH9bwHVYqN1SIepftd3Lapd+UBbZDu8rv2EaMdeH7yvtTdEpPafMkxPZr1nmcn47EOyHnseY7rK+2mC96yhiOxLUOTzlmcITvz06H57OjYRfKlaoyPkusr5Nj7pMDMZdXlHqvVnF+/dq3foViJPYXNMMwDMMwjDnDFmiGYRiGYRhzhi3QDMMwDMMw5oxzadCCFDUu0ewdiol9/NYchynFZCP8Bnuywx/eB0P8Hq18ZncnR5Eoc0xQoK4qcKg/ylL+Fi6FCYXy3d0Ta9ogZB1FJnRpiqzDpUIrcJrzN/TxGL9rRxk311RoPXzxnds557o9jHl0/xjKu9v8TX2rg+VmhWPe+uF7UO6xpMq9cQ4Nmh/j9/qi4P83ZBHG9NIZxXzhq1+HciXEuojbLfrN0moHysvLHLO6ifezsblGMUIu4n783sd8njv3oByF3J47u/tQPjruU8zlK5eg3D1ATWj/FNvXOedGI9Rd9U75vEOhF7nzyROKCZJDKL/uuL/d+fgOlKOS22pzHbV1qysrFLO0sgrlSsIaF8dyI7x2xHWsjWvJTMwPWcbzmYwpStbLemJS0bR2vtBi+SHHSI2X1Ippz1QU8p55vpW6piA4+//ssxm3p7y/UOnb8tk1vZvUb0kdlnPKPYtraXUxEhoh3+PnrCjatbMYz7hf+L5sc64L+ZyDEc+vsn5arSaU252Ocm0sV3xu80BcO1R01IHQ9RUz1kW2m3j9bMp1IWR96l+EajG+m+WYrVZZO5zUcd4JFD3jUr2B541Za11fwmN+wP1NyuYajQ7FdPv4/tZ0rVIreR7sL2iGYRiGYRhzhi3QDMMwDMMw5gxboBmGYRiGYcwZtkAzDMMwDMOYM86VJLB1GcvTFht15hUUxU0zXvsNhQ5+OGTh4aBX/UvLzjk3GODv0gkL+6pCeC5NEYNASQAQYsnJhMWw0hAyV5IN6glWqybCLHK8nyhhE72J14VycMyJBLUG1k9rcZFimqt4Pz0ffzOZsqlqXEdB797pPsXcebIN5TxoUswbdISpNa9DedxnsWla4j13FBPVb67heWIPRZmlYh6Y1IQYdsJmu/0+CuqPT9mE0xOi40q1QzH7+3iew/1DilleQfH8zVu3KGZpGc896p1CudXkRIfOgqi/Do/hqUgSSKec9RFW8DyvvPYKxbz3kx9DeU8x7X3y8AGUl5bZkHdxCY9duXSFYm68tkHHfh7NnDVJsM2lQalzzmU5jvO04JhKTQiVlWtJw9vJlOtdHvNSvpbsX764Z+05pfG2akIrpuB0phnVijkvP9vMNpMnds7NSh7XdB7x6EnCY1YK7GUde4pgnATaSl3MFIPgs0iVvhOKpICZYs5aEfeoJUPIpIpZis9ZrfO7MU5QUF9MeAyf9nGcL3R43p6IsZ/4LNQfDzFGyZGhpJPYKYbUon7SGY6HKFLG1RSTKkppau2cq4pxHiTcLwbiGbKc3/l5JpM+lISEpQ6Ux2N+R8ikv/Ngf0EzDMMwDMOYM2yBZhiGYRiGMWfYAs0wDMMwDGPOOJcGrdEQ+rJDZWPSPq71+mM+dfcIv8v2TpTL56g5qFdWKaRdw4/dw+CUYvojNOvMhYapUWOdzlR8RJ8p39TTKeoUPEXL4Ak9QaPBOopQmFHOxqxT6HXxO3ukGPY1hX4giPhbfEPoHW5cQZ3a+iIb6H3+C6jnGiibFjthKHs4YP3WeRgOUFtxqmi8dg5R71bM+FpBKkwuc6HBUUxCpdGwNEB0zrmNq+tQzmds8nr8HM1iHz7vUszh3h6Ujw5Yg9auY7/c2rhAMfUG9oO3DrH/lyn3ybUtNNet1hQDV6EFiRWT1zDG+uo0GxRzaQPH7MVV1ri89dP3oXzt1dcpZiz6nKdoUc6idDyISyF0ikIeV5UErzVTdFeZ1M7krGEqxFbZ0lTVOecSH49lih6pEOfOxXk1M+xA6qPO9udVKcTJA8XkVVZPrui5MqGhknXjnHNOGKt6mrZOaOJKeR5FF1aINteMajVz3bMYKqa9NTG3a8q2QhiMaya58jll/fX6fOaqmPPGp/xuDISJ6pOnzymmtdLBa415zhudCq2YMo6a4t2y2mCz6ZF4zxVCBxkr2rFSzE0nikt6XdxPZ1Exehf6zzDisTcaYVsNRxyTCD2qpmvV5tOzsL+gGYZhGIZhzBm2QDMMwzAMw5gzbIFmGIZhGIYxZ9gCzTAMwzAMY844l2otm6CocNJjw8GTHgojT4a8c/whaqRdyvpK12gIkaM7oJhCXF6KwZ1zLh0JM9sqXizPWfQe+ChGjBXBfSYyBzTdrSdMcoMKJwmkGd7PeMYGlvUm1mGjwXUqRbSaONHlWGE1h+XOMp93oYFdY3lxgWJ++W/chPJP3ue2Og+1qhDmH3Pb/Ls//CMolynXV6uG9ZwKE+GJYh4Yiv+jXLqyRTFvvvlfQfnVS+sU87MjTEr5YMLXunXjCpQXvvI5ijk4wOSH7V02CH7l9RtQln0nDrg9a8KkdzZTzHZFkkxVEWgHwoRz9zmb0PZOjqD8/OkTPk+MAt7NyzcoZiKMcy9srFCMcz3l2M/9a4/Fzb7Dca4Zr6bC5FUTnmciKSXLONFHGsxqhqSpmL+kOFxDmpj6ju9Pmtl6gTI3yPMqxwpfmPbOWJwuRffVKgu7MyGSTpX6ygo8t68k9sgEK5kgodWfNLP1fa4L7X7OYqa8ezKRLKUlkiXiGbTEi1AkMPm+qAulPZsiaSdS3GMHxzhmJhN+7mXx7os8XirUKyj439/jpKeDA7zWasz9IorxWiMP62ukZOuVoq36SpJAKN5he/tHFDPMcO5stTmJoVLDJKfCcX2NhMF5qYxHxdP+TOwvaIZhGIZhGHOGLdAMwzAMwzDmDFugGYZhGIZhzBnn0qD1TvD7/WzKZp4n+/jdeE+RI81yNK1rNNjYTpoFxrFiLhrjujKdKqabQnMzSfFbeKXGurBmow3lvf0uxUwjYYYqd/d1zjVaWD+lFM051saEEZ9neQnvJw54PT2V3+cVs8XhFI2Fp2ID3XTI531y/ymUX/3iVYr5xW+9BGVFRncupileP6m0KeZrX/8WlFdWOxSztoobqKfC2PHkhE0b3UQYFSptdbKHv3ugaHCGY2yH9QXezH33AEWYDx4/o5iggnqHe598TDEf3HkHz3uE591cZXPbqI5jLa6xMWY5RZFEI+SYVGiEHj9ifVnVE2KLgutrPMJ6//jjBxSTTlGnOVW0Mi/fZM3Iz3MktIH/4X6wv2nSo9kMDyZVni+kzETbIFluFq3Jy3Ixh+SKrknqbGOxEXRVub9IzAXaZunyWlqM1LWGIc8XvpiT5XM751yairlc0fX5QuukaWrlPeaiAaWpr3apKOK+/VmMaqdjFlIXGc4hK2IjbeecC4XGS9uoXZoaz4QBta8ooHunJ3hAMdItxebf2ZTbqip01P0pm9NXK/gMcZXbaqGNpugtRdfthCnukZhve4q+7Ggfx/X1K9co5vgEFyFRzONKTuWf7OxSTKON99ds8fqnVse2er7N807p/+VzlYb9Bc0wDMMwDGPOsAWaYRiGYRjGnGELNMMwDMMwjDnjXB/dnz3Db+rP77DYaJyjbqhS5Q2SEx8/+Gqf/OtiE/NalTc1DwL89r7QYY+uk2P0JelO8P4u3b5Cv3nxHD2n2uvsJ7WR4E0fHbC3SvcYj6WKOEta2kyHrBUYDFCnVqmyNqvSxHrWvJjyBL+958IHbcJWUe7+M/wWv3ChQzEbmxtQXlxhPZJidUcMhR4piPgb/xe+/EUoJ4nijyR0L77w8VrdZI+zQDg/aR5P4xlqIB6fsCbCa6I3Wm16QjEHe9i/Pnr8kGJuvYbeaFnONXiwh5sbFyJmeYnHTFxF/UNRcv1VhI6ipuh0phPUoswesmed7/CY5ifoCqzD/RdPKSRNsd9eubzJ5zkDTWsk2zjLWHc4nUrfRNXxEEqTMfcLX/RJTw78/xCEZUXXmsvN0j2hhQ1ZXzMVm7lrO6rnii+bROrAPMXjSd5fv8+TitTRFYpHV3mOzdLl/UhNmrohvfAdSxLuF5UKa6LPYjRUNumuoNdXEimecELrKvWyzjkXC71zKnz3PEXQKL0MPaVvB6KOS0X/NjrF/p+E/C6cjbF/Nev8furU8Nlryobhh2LD8sEE72f/gL0OJyN8rtGI33sHQqd2+5XrFDMQGsKyy/32tIuauMmM57ybt3D+X1JefKXP77WzsL+gGYZhGIZhzBm2QDMMwzAMw5gzbIFmGIZhGIYxZ9gCzTAMwzAMY844V5LA3gEKD4cTFuUHYuPUep1FhYEQCwesnXShSAAoHYscq3W8flxlwaeLUdj3C1/4MpRXL16hnzQ3hbh/xILB4cEOlPd3tylmPEYRYVvZgLXdRnF/LgW9zrl7D1A4/fYdNvP0E6zn1hobVl55Da+VrOK/T485ieHgBIWZ79z9iGLeiLH7LG50KGaXm49YXMH2/Fd/8F2Kuff4EZQDnwXGgRAPS4F2qYhq44ropxHX36ZIhvj13/hlimnWUAC6sLNDMVfvXYFyV2wG7pxzDSEo7k3Z/LQUSQuxEP3+yi99hX7z0bvYd3a2eRP2VqcD5UjZ2LjWwOdst7hvH79A49wTxSy2FKL7wxf3KWZjCw13/+Yv/QLF7Ly4Q8d+nuWlRTrW6wmRb8lCb+l1Oh2x6ncyxnEznZ7t1KyJ3n1hCBzFPJ/JzdGLDOtPGv86pyQAqHuwi/lWiaGNxZU916U5rJasJMX82ubkuZOCf22z9L/cgLdaVcT+4p4nEyXRRzHFPYtGjYXfHTkmlESMmUgoqVX5PDPxHpmJ5JYwUvqSuFZU8gRcE3NeOua+MzjCuWllhY235Z7hvT4bgfs1vOfmQodifvjhPSgfzLD/TyecxNBq4Dvj0X1OUGu3sU4jxWC5FA9RV0xoM9F8/SGb9g5E0kLgKabyI/7dWdhf0AzDMAzDMOYMW6AZhmEYhmHMGbZAMwzDMAzDmDPOpUGbZXKjXv7GX3qo0fBz1g7Uavgde5SzvmaW4rFQ0QpI08H9CZ+nubiM1xZ6qYNnqGlyzrma2HD4B2/9iGJGXdTTRDHrFupiE/iaolOQuolSEXasb6H53cRnfVS3i9/nxwPWNR0eY/1sbojN3DfYeO8kQj3BcMJmgUtdbM/rr/CGtbvv0iFiZw81S/cfs57g+S4a5/opt3lNGlQKTUmmGDI6D/t2s8Payd4eGsomjrUEn/v8G1De2T6gmERoY27euEIxswneT8VTzEWFNuXNNz8P5Vdu3aDf/ORf/iGU66eHFNN9jlqUsVMMLIWxb+nxFFIPxWbRy2xaHQij0Ead9W4XhDHtSofrYucFHcLzNlkjFwjxa62qxWD/Pxiyjq4nTC3HilFtVWiLNA3aNMO+LA2WnWPdldSkaeaspTiNthE6nUfZ5Fxq0JTbc4XQPhWK3lPG5AX3L2lUW6gbvAvDVqk91TRyYtNwP+D3k++frSGUdBV9pV8IcVaN35eLnQaUtfbLxZDoC3Nn9TmFwbK2gfnqIo7Hp5rJsdCTPTjg+ULqF+MKd4zLX34Nygs1NtEuxBwyFHquo/0u/0ZMKb5ienzl8iUoDwaskZtMcS7VTKuzAuswUYy3T45xLhj1+X3Z1rSRZ2B/QTMMwzAMw5gzbIFmGIZhGIYxZ9gCzTAMwzAMY86wBZphGIZhGMacca4kgaJE8eRkymLYihDajhTzu+EMhdPNlWWKOTpEkXslZoH9ehudVgtlnVmt4f1Meyf4m5yNJ+/eQ/NOP+PnjIWo3FNErA1h5umzptDNhNA1lW54joXBNy9wfRWbKGDszThJYBbic0y6KEpOq1wXjQbedKSYOA77WKfV68qDnoPmErbn3/i7f49i+qeYSPDd3/9XFHP72hUoDwYoAO33WdzvCUH7V//mmxQTC+PJ/UesTI9neO5WwgLoq5ew/d547SrFtBfQgLHeYtPS588xYWJ1GY106y02lfzSV78E5ZN7P6SYfIbi5vu7bGa7+fIWlG+8zIkh7RYmWrQXWBhcFcLplpIkEFWwP9VqnBjyHh1BMsWos/CwbRo1ruMoQxVydsTj6jjF+vJyHsMVIQwOIn7O4hT7aVkqY+0URcilSHiJNXNb8VyZcn+eSE5qNDhhQuYvhQmPc2lUK4X8zjmXi3vWkhacMBPNUm4/aUAdR+LZFcG452NMeA4D3PMQKvPiUhv7ezbj90irgWNEu59uF+eUehX7TqC8WAKZwZGy2frKIr6fPv/6RYpZWmxDud1uU8z9e5hoVypOyC/dxHMnJScM9Yc4jnZ38b0SyWwX51wpjJpX1vndKI1pZznfXxJi+1VrfH+TqRjnisO+9CKW5uHOOVePP/3fw+wvaIZhGIZhGHOGLdAMwzAMwzDmDFugGYZhGIZhzBnn+uju+/jtVhrXOuecy3CtJ/UGzjmXOrGJuLIZ8/LWZSgvrl2mmMYG6mBmIzaFO9lHs9O9+8+hfPEqbsTsnHMrq6jd6e6xBqcQJoTVkM3nPPFdezhhI9hSGH7OFN2J57B+GlX+Pp4JnVyjyptD50KrsL39GAPqHfpNU+hMkoK7yugQ7/lon00bnWPtgmQ6w/5066WX+Vp9fK4//9e/TzFyk+mlZWybXo/1GLMpalzCWoNi2isreJ2c6+Jv/cavQrnWZFPhodhMu1CMJjOhn5lkrOW8cBk1Gk8foSZN+803f+2bUH6ywHXhT/B3C7usZfvyr38eypeubFBMmuMYSSqsjyqEHsqT5p7OucITmjOPtZJnUuXzuhLPE055rqrmoq1KjhkKjcuhMoYXllCP5Fe4XxR9fM5c0a9IfVScn23CvLSCY6Y/YC2U7P/LymbWp13sb4liZns6QL3UoM+avVK0eb3OY02+N6YZt3lSxf7kCT1x4vN5vQTrXTMGL0qlr5zBhc11OrYiNJdRwHNgJoy2W60FiikyuQE9voenY66baoh1c+nyFYq5dR0NoF+9xe/CS1fwuZoNrtPj49tQjiKeF6X+rn/EfacrDZ/7+L5cX1mj3yw0sY5bTTYYbwnD+EqF9ZVrMZ6nr2jnTwq8H8082RPGx60O62798tMbIdtf0AzDMAzDMOYMW6AZhmEYhmHMGbZAMwzDMAzDmDNsgWYYhmEYhjFnnNOZD9dxfqgYtQnNpacY7yUenqd/2qWYv/M//19Aef3G6xTz6BGK90+2H1HM6Yu7UB4MUYiYFSyqHU2EYd7+CcUsdVCMmCtGhWsrKPicKckGRz0UiTaX2Gjvys1XoHzhKtfFQIhzKyELGN//KZqS3vsYRY/VqiJcFqLaachC78MR1mkRPKEYV2EzVsk//Uf/GMqdCzcopsxRdDzodylmZxcNZJeXsB0mExbGy35w74OHFLN0hL87eXFAMX+QfAcP+NwOI5Ek4Ec8Rh4/fQblu/ceU8zR0RGU220Uv/723/st+s1Lr16HcmXMBrOJEOrfCl6imEBomccTNv/1hQC7UATZeYqCcV8abDrnCiG8zT7D/yfbHRY3zxJhfnrM4vnDXUy8qPg8Vd66Jgw+9/YoJp2IRIeC+0VdPPuUp1dXa+D4a9TwN6eKefjKOiZ5FAecxJOeYILVeMoJTTJBopyy2DnMsO/MhnweXyQrVRZ5ThkLY9pYmXfk0JpNUCzfz3mclwH2wYVFFu77ytx5FssLfJ5AvBOadRawZ8I0ddznRLeGSFgKfOwYp8pzJhGe96UbnGR38yomAIQhj8+ojv09irluKnWRSJZwW03H+LvDfTablkbWb3TQuLwZ8Hllv0hifoaaML/uhCzcT0SiYm3A9+dS0f8dz9tOJAh5npJ4lLDp/lnYX9AMwzAMwzDmDFugGYZhGIZhzBm2QDMMwzAMw5gzzmdU64lvwMomraUwbYwUzUYpDCzTKX/vffen70B58TLrYF7+PGqx9ltsFnt0710oB2IT6os30GTPOee2+2ID84DPOxCGvJMhGzL6YpPnxSU2/Dwdo16l1mQTvQvCTPfW61wXLse2OX52l0I+nqJmailE7YKnbOY7OUWN0EAx4Syr2Mahz2aL57EW/dW/+WUo5xHXRfcEn2H1N75JMVKbMp3i1TcvoLbBOedyoQmqaHqHAtv80oUtinn3g4+hfPcet0N/gH3lwlXepDgQZo8bG3ytr339K3iei/hcV66xeWwpdE0zjzUlhztiE/iYx/BaG7WSgaIRioRGI8p5vhh1sc+lihFsVWiUeNvss/Fniqm2aPNU2UQ8FfrA/SPWo8oNuGlXcedc0cM2L0vWZlWE1q7SYa3K8hJqndaaqE/aPuH72xY6uv6Qx3koNnCeKHNBGOFzRTOetyse1mE14v/75768FmvZJsI02FdMewvRprkwmNW0UCsrWH8LS6wdKxRd8lnEio5Uas5CRV/ZFEar/T7rydKxaIsQ769Z53myKjRorQbri6MA6y9J+D2XijGcKq7annw/KpuIxzWcQ0ZT1qyur6MmbjjEkd5StFtTYbAc+DyGazV8hmZFMdIVZr/tCj+Dv9SBcqg852yGfTBTTI/7A27js7C/oBmGYRiGYcwZtkAzDMMwDMOYM2yBZhiGYRiGMWfYAs0wDMMwDGPOOFeSQFJFMeB4ygK4vECRXqXGQs1AJBdkAxaJ/v4//rd4nuomxXz9b/0alBcvsRlqXuCjtesoyly5wmaotRBF7lPH4snZGEW+vd4pxRy+eA7l7pCl8hsbaCC4eZmF3a0GCj6fP32HYtbX0My21eF6r1XwPB0h7i8yRaAttKWtgNfytSWsnzpXlxudw/vx7/6dX4Xy5WtsoioNNEtFhCmTAoYD/M0sZZm5FJtmmSIYF7+TZeecG41Q0DsefoNiMjFGGotsnNhs47FOkxNMKjG2cV6I/uVx3WR97KeDCT/DySmKWFvK/UWBmDJKJWFohn1lb/eIYnaeYJJMWWUR8vXGFby/zyCyHR6zAehhF495GfftRBiZPr//lGJ8MX1WFQPvUHSncsJz3sxh0NbLPOe9+Qs4zrt7mACwVGPR+2CCg6+UonPn3PJyE8pj5f7GItHBpXyeijAmX13h++mO8Nye8ueBUoyRYsZzUyDqywmBeL3OovJWSxwreIw4JVHlLDzFeHgi3hG+krSQCnPYMOD+70SixWkP+/+T+2yMfPXCIl4nvUQxWYbzRc3nRILUCaNypR0GA5xD6spyIhd1KudA55x7+SV8F9/9+AGUF1ts9Ns7xT6ZppysVxSiv8lMKeecL+6nVeVrVYVp+2jESTKReHYv5jqdpudJmRP396l/YRiGYRiGYfyPii3QDMMwDMMw5gxboBmGYRiGYcwZ59KgpTl+R+40+TttXEfjxErIp+738Jv1Q8X8sd3Gcz/42Z9QzKUtXFfe/NavUEwk7nH8HDehPrj7Af0mXrkC5VdvsRYqqHfwvDPWIOxto+Hnyd42xRRCxxE3WcD1/l3cBF75PO6WltHIdDJTNgSv4PfwmtC7zUrlm7owMo0TRV8gtGt728rG2SytI/qn2A+8nPVRVWGo6ULWmVRqeKyz2MF7UTa2L0p8zkIxLXUixlOMJ2fChDlWNCVHJ7hZ9VBupO2cy8T1vYLrYkab9yLqxuNiqPf7fG1PbMacVNkI0xcxecEaNF8YWPb7rEF78nQfyrffZB2pJ8yuT5UNpc/iVNGg9U+xn15QzIAvX0KN6NMDPo8nzJsjRb94+ATnAmVadIXQMT3f2aGYK33UpU0z1Dk9fHyPfjPawX6S+Iqea4r3vFbnzeV7GbbxwiYbPkuJUpkoWp4Wanw/+PghxUi9W6Bon6rCHFaapJeK2e7gtAtlqZl2zrlA6iu5WxC7h6wDK4XhbavBdXphEcdWXOH5Qhoo9yZYfvgCzbudc25hEet9Z5810ktLYlwPWXeYi7kyzRTNnqjDyZDnlFEPdVe+olm9uCg2hb+xAuUbN9Cw3Tnn9na6UN7eOaSYbh/HeehxO1Sk2a5isO+J+X8y47qQPr5+zjFhoGyyfgb2FzTDMAzDMIw5wxZohmEYhmEYc4Yt0AzDMAzDMOYMW6AZhmEYhmHMGedKEvCFCLOaKDvbFyhaDRRNoRRm3t/tUszyEhpzhg9eUMx73/selJtr6xRz6fptKH/vBz/C67Q+ot9U1lHE3bn8KsWsLqFytL60QDHtFXyGdKwY6U5RyHr/Pot8Dx9iksDXvvoFillcw3PvFyz49KpolFjOOlAOFFF5PsPzjKcsAO0doAB12mcjwPY5kgTGQ+w7wwkb+o3HKB6ut5sUI2W/MimATFadc4Ho237EdSGPFIrAOMzxWn7J5/FK/N2gy0ky1RhFvoEy1kpfHPPwuUpPcQcO8FigiH4zJ86rGK+Wwmx6qgjPc+HOOqxwjLeGCR3L11Yo5kSYpo6kEvccxAkbRtYSvL/rV3l8/tbf/k+hPJhxe/74xz+D8ppISnHOueV1nAvyEQvYd7Zx3jnxeKx9/Vtfg3IxwL5ThNzmT1JMNlhqc3s2F7BONzdZkD1LRb1H3A6LS9h+l2+8RDE/ewfnuD//8x9TjBOJM7WSr7XRFIbior/V2pzcsrayDOWPP7pPMVNp3vzqKxQjKRQxeEUYu3tKwlAszKaLjOdtmcAUxDhmmgtsJF1r4Lz46CknMVy/JpLEZpzcNRjhMS1JrFaTiW3cB48O8TyzjOtifRXb5uXX0Fy3qiRQlCJBzQ+4bz/fw8TAoWKwH1SwTjMlJhUGs1PF2D0XRs0DJTkp0jKEzsD+gmYYhmEYhjFn2ALNMAzDMAxjzrAFmmEYhmEYxpxxro+iUgYQRIo2RehXMsffcr0q/k6R6bjjLmo0wjGbu739Q9QPLG78hGJuvf4VKE9D/F7/6Dkb2726hmaQu/scs/kGVlmlw3UhN5AeHXNdTKaoqbq+xVq25fZXodxZYeNc59B8r9VcpogUJV7u8DFe2/PZ9LUQZqie0lhhjhsi+7GyW/o5+Nl7d6HczXhz4e0XqKfZ2uT6unnzCpTXVlAXU2Rs+to7FDo6WVnOOU9ovhp11rjUhfZDGyOJ0EM9vP+cYtZWUQN05ZbSnsK81vOwv+U5ayQKoccLStaL+OI54yr3i0AYORaaaaPQBDWX+DyfW30ZyqOM78eLsU5HE94Q+SzqbdbpZMKcdTpi/U+7ib+7fJE3nf53//47UN66uMbXivFaG1dZlNnZwnN///23KeZ3f+9fQ/naCt7fxS12Va1EWH+dRR7DGxdR89jvsUauk+A4ryvGq3GMxz745GOK+Zf/4g+hPBuz9qkh+uBGkzddXxXap2mCfae1zHNDvYL3NxvzXHAoNLXnoVbluaohNmuv1di0txDvy1IxSE1iPPbs48fi35VN2MU42t1mk+jDgy6UY2Uz96PTXMTw/VWrwoRWamOdc8/20JD64uUbFLMo9IFLa9i3u0dsyDsSY7bX574kFxieYhQ7Fu+ELOV+EQh9WX/MYySo4DuhN2IddaOOdcgqasb+gmYYhmEYhjFn2ALNMAzDMAxjzrAFmmEYhmEYxpxhCzTDMAzDMIw541xJArnQ74ZVFkkXUkSuCJWDFAWzC4q+vlpDoWGnzkEnJ30o/+Tb36OYWozCvje+jGaUn7zLiQV5jCLurWtsYJlNUUg63N6lmHSKyQVBycam40NhNDljceLyIopdu8MnFDN9hPcz7rIxYSE884IZPqcXczeIAmHgqizl0wkK6sPgs633v/uDd6H80TaLwU+6+JyXL7Kx6a5IMGlUHkM58Pj+hj0872TEBoNVIfq99fJNirl4GfupH3F7DoQAu1pfopi3P0BzxQfb+xTzxueuQ3mxg3LTSBEcp2IQ56mSxCOEy37E5yky7MvlRDHFFUawsZIwIcXMcZXF4PuHOM6//+csnn/1tTf4+j/H1StX6Nh4EfttvcIi7vEYYzY2OVnj8lVM6Fi7xAkAE2EcffU6zylP3sc2dwXX6YP7j6F89Az7cr3Nz9BYwHvuKQbLpxn291aLpcueyPEIfD7P8QGK0f/43/KcvP0CYyLHou1lIUbfUAypQ9EvhzH25Rf9Lv0mzrC+yoATmuIaJz+cxaWLm3RM3l+zyc+QDnEuUPTrrhTnGQshvO/zuNoXCQDNitKXHmLC1fIKz0OPdnAOThK+Vkv0uUAx5D3o4xi+0eK1Q1TH99HxKf6md8rvgyfPtvE3XY6Z5TgHJxV+hkKMtSLnvh2J+as34aSicobPriUJHJ/inLJ8nUII+wuaYRiGYRjGnGELNMMwDMMwjDnDFmiGYRiGYRhzxrk0aM3OIpSzAX8wHwzwu6yXs5lbJnRptQabSMrvz5OUNw6WGz0fKGZ82+99H8q/9Ou4eXoxZHO+QdaF8g3FhHbvwQdQrmZ87dzhPQ+H/M1a7jE9U7597+yjkelwyvfT28H66h+xZulkDzdjlhtIT2b8vdwXN1jVNhoXm+P6itaIW08hxLbIfG6bU3GiZ6esrRg8RD3NbIIGh6MemxnKfZ+bdb728gb208N7XYpZ6eGJ8gG3w/gQ2+GD9x5RzMcPUUO4vsZj5MKlVSi3GqinSRTjYU/0t8mQx2chNBva3uSp0DH5yhRyfIh6kFLZJLi5iLqXJ8+7FPMH//rbUD44ZH3gWXzty1+mY6G4n1TRf959+ADK77/3EcVIn9Ben41OsxArcXufTTdPB/i7Vp3bb0uY2bZbGCPNNJ1zbjrDMTKb8Gjcf4Fz08kO1/HGBXzQpM3zxU///A6UH93h/l/xUONVU94+FzuoUWpUebP7YBnHRLqC/T9VNHJSd7t5g419O8pG9mfhKbrWmehPuaZrqqJ+a6yYn5ZCHyW1f0WhmETLA4oe9ekTnGPufMLa5sf72Fc0o9rOAmrr6src2V7Aev+LH/2MYprCTLrewPdIptRNt4vvPedx/89yoQtT5o8wwt8Fio56Kt4bhaKdzD1sKy9kjWOgaAbPwv6CZhiGYRiGMWfYAs0wDMMwDGPOsAWaYRiGYRjGnGELNMMwDMMwjDnjXEkCXWECV45ZbF2WKJILAxZxtxdRDHg5Z9Hc7BEK48OIz7NyAQWWk71DinnxAs/T3UZRbdZjQa9rorjz+bssaNw/QJFvp8MGkX6BzxUrovedAzQLrLS5LoZTFGpuP1UM++7ieWYzjkmEAaMUbUeKwWAgTEunUxYYy19pYuvz4JWoYI8Ug9RaE5/BC7hOm60O3k+MYuZ2A//dOefGA6yvacbPsHeCBoM9j9tqmmD/Gu2xILU8xnHz8AmbHO/38H7WL6xRTBAKU1xfiImpZZwrU6zj7nGXYirCJDqIlGSgsUiA6bNQOayhwbKXsAntux+jOeuHH7EIf1bgPa+ssaHmWbzy8qt0LBNmu0p1uWdP8f4ePXhOMRc30Jj2SJlTTobY5vvP2Uh6coz9a2uD2/xXf/VbUL58BUXuScKi5O3nOC9q4/PWjctQHvS538rh+Ad/+IcU894796CclVypDfH3gJtLbP671Mbn8Jr8XNe/+jko+5vY304zrE/nnAukfL7k98p0KpK59rhvS57v8runXhMJADNOJGt18J6PDpW+c4RJRcuLOI4yJYsniTHJYn2dx14xRYF9VzGCdcLId3mV+6TzsE5Hsv6cc7NjPLa9y88pDcRrNZx3YkVcL5Mzphm3VVYIs/WQ3xmxMODNlPOUYoIYTzhJplCS6PhanPByFvYXNMMwDMMwjDnDFmiGYRiGYRhzhi3QDMMwDMMw5oxzadCCEr8Je+r3Vvx2OxywZmnSx2+3ScT6gqsXUGfSG7HebXltHcrjgHVg23t3ofynf4bGk6MJf7/fEpucHzx4QTEnp10oVzuso+gf4Xf2i+v8/b47RJ3E1ZduU8zKAj6nl/L93P/wIZRPFTPWy0toKJiLzdvTgje2931hvJqzZqMUpqWKV+C52H2KRolLV1+mmIrY0HpN2XR3SWzSPcmwv02HrC9IIvw/Sl8xlSzFecKcNQijHuo6Do5Yj9Gc4PVjReNVCjNKzcBSNpfv4XgMfD5vkYq2Up6zUUe9SukrJpzid80V3rT+pIcxP/nBhxQzHGMdeorRakO0sfZcZ8NzjO9jO2hmo+0WmnN/8+tfp5hfFNrN3QM2of3hT1DH+uOfvEMxEzEX3Lh8kWK++fWvQXlFbHAdKLttX7mAfafbZf3P5Qu42bfveJx//P7HUL7z1mOKmQ6FDlIx/NwSG7HfXFykmLKKdbrxRZ4LrnzxdSifDHDOC0aKaa+Hzz5LeQwn4mccwQxmPHeOM9R0VWtsPNyboi5t9xnrUZfaqLu9eQ11h9uK/q1wqLOaZvwUl7ZQOzmTmkzn3KSLv2u1eSP5ntiUXhlGrtPBOWXQ43mxRZvU47X3d48dIeam1gJr7TxhKFuNeS5oNlEXFihzXiHec4+eblPMcIRjWBuPvqJ1PQv7C5phGIZhGMacYQs0wzAMwzCMOcMWaIZhGIZhGHPGuTRo1QqGeQH7ecjPq57ig1MI/5BQMSCqVfB7dGeR9WWJ0CNNQv6G/uQQNRG9KepOFFsvd28ftTK3rm9QjD9FzUHW5+/jvV4Xyp+csi9PJnRzB8cPKeb6TdQcPHp6l2L2T1D7JDdwds65dIbXz4SGyg/ZZ4Y8YxRvspnwjAm9z/CR3Tk3GpxAOVVO0xFav5oSUwvx/xuR6Kanz8UGu865WYG6hH7JXlFxHfUECxFrSgKh/ShKpU6FeGxwxLqTmdAj5eMmxXgzsWF5ifdTKhrRIse2Sof8nOMBHgsT1p00F3Cj9ufPWdf0+/8GNznf3elSzKXLuPl37rE+0BMar67mXfiZEPoQll25Tgf1Ue0mb1ovNTeXL12imPVVrK9szPXe66H32Ne/wRu8ryyi1i8JZX/jh2g2se8kygbOTnhF7WyzT9v/4x/8LpTvvseba9eEb1a9yn3wpvD0W6iyjnThJfRl+8Zv/xbF+GuoNxp2sf4iRVO700PdUK/Pc8FEbCb/5NFjipEMpsq1tvFazSY/p6SitE0ojo2k1k7xGk2F5qxUXvHNNvaL5VXWAu4P5dzE/bbREJvUK7Zx1Ro+e+h47nRCxxeKDd69kp8hy/E3vT5rrwcjrJ9mndcS6QR1mpoPWkvU1+oy+zGeCv/W2YzXJCuLPIechf0FzTAMwzAMY86wBZphGIZhGMacYQs0wzAMwzCMOcMWaIZhGIZhGHPGuZIEXIHCuTJlwaAnNjSdTjhmJATQfs4CS08odj3NzFNcv1ZjgWVtuQPlhzto6lcW/JvKDAWDRx/vUMx6gHXx+QU+T2uG9zyNWRzYFUkLhy8eUcyHd+9AeTRj09LhCOtwc4MFqZ6HxyKhXy88bodUbBqu6KhdIY6WJQsjz8PKRRRd7u5ywkSRPsUYRYRZ5tehfPsWmnC2X+O6ebqDwuDTPTZ2zDP8f0zgcZtHIYpfA2VjXG+G5xmecoKJL+q9mPFGxj4lY4iy8t+uwQRF0U+22fT41jKKrwvH9fXBBygQf+sn71PMixc4bmIlqWJ/H0XIlQbX6cEBjlk5fzjnnHudD50F1Z+ScOLJgx4nfZRyrlKudWHrApR/6zd/g2LGY3yu2y/fophYDFqvFH1SuXbpcFwHAd/hUIir/+Bf/hHFfOfbfyFOzOdpifu7scUGxksL2J+a7Q7FfOVv/U0oX1cMvMfiuUKRuBIryUprI5wLpjNtnON5n/z4/04xkoNjFqf3RnjuzOPX7GIHE3AKZdCOpZlzG+eUWo37ZCEeqyhZ9H7nk0+gvLW5STFJgnXYO+UN3zsL+Ax5piUe4fzl5XzPGZlW47/XazwPJcJg9uFTTlzJC2FC2+R2yFN8p0Yhx7x4inPl2voqxSwIU+2JsnH8RDHdPwv7C5phGIZhGMacYQs0wzAMwzCMOcMWaIZhGIZhGHPGuTRoJ4eoBRkfszYrrKLOJFM2YM1n4nu4x8qmSOgkfPkb59xwiN+12wts5vnSNdRAdI+FvuxEOa8wqZuNWP+T1FCn8IUvXaCYVoAmkj8+Yj3Snce4sfJel40TpTZMkRM4P8f6ipVNp8tImM6Kek+VOi6E2eN0xvqCSGyIHCsal/PwlW/9DSj/8F3W4z2+iya9eZ/1SI8eoWbv/l00xnz1Zd54ee8ANWiHB3zelXXsS3nOmsKaMPutN1lT5U2xbUKlvi4udqB89RLrQ6QR8t272Ldff+Ml+k21g+Pz9ldeo5irt1HQtX/Ebf7Be4+hfHrCuop2C+vn6KhLMZNj1N9dvnGNYlqtDpSzTFNCfgaUeefs33BbSZ1aqZjFBkJQc+PGdYpJM9SrxLFicixccenaikrUF/OH71hr+oPv/wDK/+b3WYM2nYn7q/Acc3EF2/yGYn7aqOOYuPWLb1LM1TdfhXKgvKIaTujx5C7UyjS0UBfmoop3LOkOz0ES8t841lfw2WuKQWqjjce8nNtPGrZWasJ4uMau5IMX+1DOFRPypIbvowl3C3flBhoG3717j+9vjP1Amsc659xJF9cOUcDzYlBgvc8SfO7C4/42Ehqvap1NtQdjWVbm9g62Q6xsqP5iG5+hr5h8xxWhd5NCb+dct9ulY2dhf0EzDMMwDMOYM2yBZhiGYRiGMWfYAs0wDMMwDGPOsAWaYRiGYRjGnHGuJIEDIegNZ2zCVqugYLGhmOhFQoM5m04ophahSE8T3noeCvKyCd+P0K+7axcWoFzkbBJ62EdVYZ5x9fR8FCweZCxOjFdQgXrvEZvoPT7eg3JWsPBwsY3nfmn9EsWMDvDZV1tc7x1pOijqq3fKBrhjYaSbKSLW9c11KD85YMH41hU6RFy//gUodwdtipn2sd5rl9hosjfsQvnuw2dQvnef26Hbx0SQ7pj7ZJhgnS6vLVPM2qUrUL54hUX4FyvYKS9e3qKYK1cxKWBxbZ1i9vax77z2Opp5+oprqRfj+Hzlq1+imPfvPIfyvRfPKWbaRyFwrcYJOtIcc6gk27SEUac0YnXOuVQkpmiGlZ8NmcB0tji8VJIEGCVGzEN+yY0jkwI8T/t/819+ffVfhXF094TNRr//3e9DeX+HE8CqVew7rRaL029cQvPOdoXb88JtTJB4/Ze+TDFJC/uFx9Oi84VRrmybQkkCCT9DAsB52FzhhCFpeFutcZLYxMO2iRN+18yGOE+/2DmB8tYGG6bmomufjnienGVYF89e8LuwvYHvy0qL5+SJuFZdEeq7Uhhvyxt0zkUVfOdXapjQNBnz/JGKhIREufbEyeQWJaligu++0TEn6+VimXR0wvfTXsZ5cDDk98hx14xqDcMwDMMw/tpjCzTDMAzDMIw5wxZohmEYhmEYc8a5NGjHffye2op5XRekwuxU2dg7DvEbcKQsD9nMjbUDURW/+9crbC7XExtRN6r4qNevsHagcoDfywdT1ov44hP6v/wpbxYdige7c6ToAIQWJVQ0Lpkw8Gt2liimHIuNgyPFhDPAtphM8Fv4THEqHI2xLryQ6/j+EzTw2+uxFnCLpU5EV2gcm03WNW1cQePEPGPdRCtCY9p8ipqXcZ+1A5dEg46nrEE47eOx/pDPM+n3oPzi/nsUM41Qi3JFPJNzzq1toinu5ascc1NoeZaWsC+HIfel5zvYVj/5IffbQY79dudY0SYeCCPMXDGqFZsoN5ts1BkKzdlwyNeaCQPlRNmA/rNxxmbz5/jF+YPOsTF7Kabhc5jiSnTrXTz69PFTihiJvt2scx1LNdlLF1mDubiIY7baZqPaV77+dfzN5kWKkRuxe5r5tXhYKdnz1fr7KzI5FhQFa6oKof0bDHi+yGOc/0cDNlFdqIpxIwx59w5wTDvn3EBsyD1S3M2ncv6acky6i++EOGb9Vhhhvz3cY41jJcH3hmaKLjWzUlKu+NS6qdAK98csVvSEQXsUKScSS6BKhfvOQNTXWNG812f4nIEyXteWV+jYWdhf0AzDMAzDMOYMW6AZhmEYhmHMGbZAMwzDMAzDmDNsgWYYhmEYhjFnnCtJYPsABYz9iAV5m8soiourmqhVGgzy+jCpocB4PGWB/XEfhZBpyUJNz8dHO+2iGNZPWPR4easD5TxnUeFojALBac73l3lotLe4xAkJkRCnt2p8P6mHz/DuJx9QzKXla1D2lPOcCgHlZIoC0FIR0E5T/M3BIYvnnzxDYXwecHf6JTrCjEYoPG/U2RTx1m1MANhcv00xpwNsm5MjFHe+2MbrOOdcJETIsl2cc26aYV2MJtzmV6+jmH9/9xHF/Ox7b0H5yoVfpJiv/+I3obyxwWLrSIhzA5EUUGTcnqc9vOciVJJk6njealcxlRQGs6OhIs4VIu16k00k9/dR4Dye8FzQaqHwvCYMLD87/xH/X0o5AlqWgCZe/pQoht6+UF9HIZvHNmoobr6wtkAxy000CN5a5qSPuIbHbn/pCxRz8aWX8f48vh+qr8/gL6vnavyP0+alcjWZ3CLHg3PORVVMxqjEnIQlvFhdWmAbZwUL7nOHP5pNWdDebuB4rNXZAFoak5fKnFKWeK1AGVfjCYr5PZ9jTnqnUE6mWBe+x0lsMskoinkM5QX+bjJRTMhF2yQ1boegj/Ngqhhv947xubR+u7rKxsJnYX9BMwzDMAzDmDNsgWYYhmEYhjFn2ALNMAzDMAxjzjiXBu2wi99uh45NJRcbqEEoYj71QJhRssLFuVLortKc15Cl0AkFyrVCD7VYXoDf4r2Sz9uIURdQpPzt2wVCj6SscaUp7vICazYCsZFrs8nfvuMmarHGQ9YK1ALUFs1mbF44mQjTWWFe2KizFiQrsS7KgL/xV4RB8CT9bOv9qTBKbPjKprJT7DtXWryJ+MXPvwrlfobnvfd8m37TG+F5B91Tijnuoinuzi7HDIXupL68RjG9KbZDo8OGvLeEMW2acV2UQmey8wzvr3vCv3l8HzdYLwO+9sEObo4e+6w7yYQJs6+ZVifYVzLFzFPq+sKQx0hfmKjGis7E+P+imLMKbdvWhU2KuXoJj202WOfXFBufjwasR125iKazr3/xTYqpindErvSLwP8rEKH9R6RQ5v9QGCrHEb+fEqH7qlXYIPhY6DRbi2gQnKb8Hh7l+K7e2uB5SJrOzpSNvVsV7AdhyM9wII1yNa2deEdoUsBCaKD9EIOkKa1zzoUx9slalbXXR8ddvHbB9zdKsQ82HOv6KjV89lqNdcGzntD+KYa8o16Pjp2F/QXNMAzDMAxjzrAFmmEYhmEYxpxhCzTDMAzDMIw5wxZohmEYhmEYc8a5kgROhLHpIGWjzlORABAWLOitJijs80MW7UlzufGIhfq+0APmmSLmF4kDgRBuhooh6eoqivL7vRHFREJgWZuwUac0L6wmXBfpDNfGRanUhTAZjEIWbY9mKNidzrht4uQvN/ULAl6n1+ooEl1RqjgXxokv9lg8fB4SYXKZpSwK7R2jIPWtt96lmIfPDqB86QYKl29d26LfRJHoTBm3Z5phO+ztHFPMaCTMDH1uh47/t6H8+ZdvUkyZ47VSZawdHoukgC7201gxvXzzzVeg/L3vfYdihkKUHyjGw4EwgM6VTJ+DgxMoX7jAQuWlxSUoD/r8nFPR/7vdTy+y/f8XNDNUOacsLLK4+fKVC1AeJjwXVMVcehCzIPv2597Aa60uU0xxDhda7TnmmaNDnguSKo6/RnOFYvZ2ca6qJDxmeyeYjOSJv6ckyntlaRnr/VQZM75IxMuVv9OkwpjWl8kbzrlqrXlmTBnhBCHfRc45l8xwzpXjvtFi4/I8RxF+pCSxra7gHNM/ZdNe6e+szZ1tkeQ3HSlJC8L4vlASYDSj3LOwv6AZhmEYhmHMGbZAMwzDMAzDmDNsgWYYhmEYhjFnnEuDNinx++5Jn03Y7r3oQjlb482Yt6q4SeviIm+iLDUIyZC/G09SvP54xtosJ7Q7ucNv31nG5z3uj0UMnzau4PfoirLfbyp0TEPl23MkdB2F8g19JnbL1TbUHYvN2n1FN0Q6IRFTa3BbpUJTOJvxM/hCU9Ku8/2dh1CYNJYl65Hk9TeWlyimL4xg337nYyjfUgwPK8J4ddpnE9rlJdRa3F5nw892G+8nDVm095vfQPNORVLofKHrm6Ss62i1sL3W11DjlVTY9PXP/vR7UD482KGYmjBY7vfYCLPd6kA58LgdnvVxM+Gecp5EaFGCkNs8FIaVmTYgPwOlsrH4/yQRGrQoYRPaTWEw+9MHDynm6AjbL2qwJmhpYwMPKPOZRJOb/XVrm9Mem0J7fdSEZinrkYZjjDlRxJyZ0Fb3TvFa61usbYuEgev2sz2KGQtj8LVN3sTbz7DNfaWxFhawHzzb5muVAT5Du80G2bU6zleHR6ibW1njOaaSoNFvXzGBXV1ZgHJ9vUMxB4c4389S7n/FUGjkRqxTTjz8XavJz5mVipD7DOwvaIZhGIZhGHOGLdAMwzAMwzDmDFugGYZhGIZhzBm2QDMMwzAMw5gzzpUkMBbaXMXvzT05woO+Y9Fe5KEQslbj9WEijBI1c9ZQmIuOFbPY0RhFjqkQYYYBix57x2jUmWV87cBHcWeiGAyOJkIkWrAAeqmGppF5zpWaCsM+N61QTD7Fcxc5C6mrNRRUCj2jGw9ZxB342A5hyNkQeYr13mhxssG5iPDcccHXqtawzfd2WeS+eeUWlP0AhZphyOJ557C+7t27TxHf+/ZjKK92OhRz6eI1KF8QJrnOObe5hckFq6ss8vUi7E/Vep1iYtHGmUhK6XbRBNM55x48/ATKaTqkmECMNSnkd865nhBFjyfcd5zDtvIcG5v6PorIFxZYVFuIhInZ9K9GQP7XzQz1s3Ke51y/eBnKr3/taxQjDYxPe9x3qnLs+zy3++LvAWRc65xyZL6ZZSzu93zspzt7hxSTCLNfLQEmCEWihWjPnd0j+s1QJLrNhnzeQ2FeO1G0650GJvBVa5xgEozx/XR8ygkTqUhi6/V5vmiKvtM9wfMMR/wMGxtoyBs4nqtCD4+dKKa92zuY2KA9pzRtn4z4Xb2+jPP2cMrPOVIM2M/C/oJmGIZhGIYxZ9gCzTAMwzAMY86wBZphGIZhGMaccS4N2quv3IZyt9ulmERsPt6JWS9SW8JvuWWVNUH1Dn77jhXj1VAaLiqmiMdio9mZ+Iy90GG9lJ//5Zu2OufcZILHKlXWoLUc1sVozN/mWx2huSlZyzAT+jLtO3tFbHTebLD5b10YAUZC5zSeKhu+e2Lt7itGuuJ3mbLhO28lzLQW0FDw+Z0nFHN0sA/lPOczez7qOi5dR01a4bO+wBfmrJUF3lDaO0K92/Yha0r29rpQvvOAtWxhBa//5W98nWKu38IN1CenJxTz0QfvQbkosB1mitZhZ/splOOQ+9t0hv0tnfH/306EaelQ0WNkQncyrbOGpFbDPphmPEZqNdRc+lI8+RnRNjL+nySiujRNWlzDeXDxwhWKub7YgXKhmFZXajjHFDm3VSk0yJoG7a8bac4CrmqM4zyM+DmlxjdSNqDPCnFu0X7dU9QGOufcRGjO6j6/P30f3yMTxUj3dCRM2+X7wDnnCeP0QHkX5kKuqLxS3eCFmMtFdWnz2WS8DeVWnfXZgRjn23uszR3NsI6DiM8zPsCHGA4VfX1UirKybgnPtdwC7C9ohmEYhmEYc4Yt0AzDMAzDMOYMW6AZhmEYhmHMGbZAMwzDMAzDmDO83/md3/mrUd4ahmEYhmEYfyXYX9AMwzAMwzDmDFugGYZhGIZhzBm2QDMMwzAMw5gzbIFmGIZhGIYxZ9gCzTAMwzAMY86wBZphGIZhGMacYQs0wzAMwzCMOeNcu3d+9yd3oaxtuuuJzb4DZWPjJMENYT2f14e5OBTFvEG43Ow41B6jwHuUG5WWJd+fL+7H95XnFJvGqnUhDhUFX0v+Llc23ZXPmWa8qflMbKhbKOfJxLFAbGpeZLyZtawfbaPXTPxO1p9zzn31CzfomOTNP/4nUD485c1xB2Jj9h4/ptuf4j3v457dric7l3NuIJ5zpGykPRP1lykb28sW9kplc2HRL5TTuEIc1EwKC3meUvQBpW8Xom1K5f9mhRdAOVbOsyLG9dcvtyjmN15fg/Irq7yJcsUXY7haoxgnN5BW+vb/IfoC/+7nyN78Nh17/nwPypMe9+3JPh7rH3FdHAywg339N69STGNpBOVe/wXfpNhY3B9tUcjK4jUoL29hWxUFPpNzzo2PcDPt3n5AMScH2DZrl6sUM05xh+siHVLM0Z9g28ye7FNM440mlDeur1FMtIpj3293KSacYl+JIqyvzOPnnPXxGRJlfOZT7G/jg+sUI9lbOKFjK6s4Jnyf+86wh3VYlnzPgY/HRv2RKA/oN/Uatt/K6grF+HLT9S5v/t1utfH+KMK5NMc52VM2hQ8roSgrG8fHeIymHXUuxboJAx7DFTHn5Sm/50ZD7G/TKc8xZXnG/TnnCofzWaXCc55k9gG/zyX2FzTDMAzDMIw5wxZohmEYhmEYc4Yt0AzDMAzDMOYMW6AZhmEYhmHMGedKEvCEMFjRxbsgwIORz6JHKXqvJCykiwIpwudrlSLGV8TWYYSPFkWYbJCmLNCTz6CDdVEqovJUispnfC0pBs8yRfUu0BIJJiJxQEtaKMU9y9NozxCJ+tPOK5Hte14qNRT9JjOOGYpEi9wpdSGEmmPxG1l2zrmZuOdcSx4RhyrK/2uCAPu75/PQkkkxec71lReycZQEE5EUUAqR+Uz5zUScdqIMmpkYV6nynK0Qn3PocRLP8QSvP1DasyLEwnnKQZ5I0vG07sWXB6q1mI4tLqBYvZsp/cLH3426Y4qRSR7pWBH9+kKYHHLMdIzP+eL+DsW8CPD6a3sLUK5V+NKj41O8vyEnYrzzAxSaX3lpmWJeegNF75cutClm6Q18hvsjFp7XWihgbyR806cvjvDAUxbCyybvxgdQXrzIwvh61MEDJfeLqLII5fEBhRBrGwt0rFrFc4cBjyMpap9OphSTiiSsWj0WZbxf55yLRSJeXOMBEoV4LKxyTCOpQ1mZOt1EJo94PCcHsXifK4l3ZYonn0zxvI0695OKqGMtOS4R9T5N+SHKHOedPON2kG2VKIMtiLBvRzGvbXLRnjNnSQKGYRiGYRh/7bAFmmEYhmEYxpxhCzTDMAzDMIw541watChB3Yk0unOOV3p+qcRII1hN11RIvdvZRrCeqhvC7735VJQV07pUaqg0/Zu4P6klc44NXDVTXPlcmiluFInv7IoRbFliE2paNrpFobXTTEtZH8X1JWM0Xd95aAmNwazg+0kd9sFeX9EEOaGJEOKxUmlQespM0eOJn1UU48S4wPvLFNFGWor60TR7pTRhZqTXY03o3xzLP91IlIf05M71RT8dKzG1NuqRFi+wqaqrC5PXlI2HF6tSX6b02xn2udD79P+fLHLWlFy6hAapIdWOc2kXn92LTinGF/rP7ecsWooXcQyXmgbHyTGsGJtOsL/vPMeYjTU2fZ3OhC44VnSbU3zO7afc4xbXsQ7X+VKu18OYuqIbcl2sr93TJxQSiLooZnWKmTXEc6yj6evwmHV0zRrq5vyE9XiVptSuHVGMJIy5PadCQ1WEPCBLMbZKRWAph3XYRF1TrOicYmHurL17aF7UtLni/Tge8xgeiT4ZVPg5E6EY9ArFFLqH/eL48BivvcDjc22tg9dWTHIDoT9NEr6/dgv7abXK9xeIMRtKA23nXCEm3TxnTa2mbzsL+wuaYRiGYRjGnGELNMMwDMMwjDnDFmiGYRiGYRhzhi3QDMMwDMMw5oxzJQn4wtRSE7R7hRCeK/pnaeZZKEadpTCcCxRhvMwSKHLFCFaaswrxvGYSWoqblsaiyqVdlrLwViYOqM8pYsYTFhVOxyjC9ANursFIiDkVw0Nprps7meigCEmFgF223fl5/cyIZg3PPfWrFNObYUza43pPRWKIF8hn0JIssDxVDA+lSNRX6qshmjhTBPbSBFfzXS0okYGvVRUx0q6y6vFvMjGGUyVhoi/G8EPlBhttNHltrrMpaO6hqLc3YoH9TBhoJhXu23LceNGn//9kNuW6WL2M99zvHlPMB/1HUG5tcr9oBygW1oTBs7EQD7O+2KUpxkQRi7+rQoA9m6Fou3uMQnnnnLt8FRM68inHSHF64DcopnvSh3LvhBOGdvZ2oZz1eB5qzLDNpz02oW02N6Fcb7Lg/3TwHMqtGPtONV6n3yzUbuCBSBG017Fv75wjSWDQZ0Pe6QjbplLl+SwWCWChYmzty/lKDNnzJGVpSXZBiOftDfgZ0j4++86zQ4rpD/A5VzeXKGbzwiqUteS8p3ew7zx+gskjX/jidfpNtNGBcq3CZrv1BtZ7kiiu1t7ZSX9ch1yn8r07GnMSm3z/DBSzdYn9Bc0wDMMwDGPOsAWaYRiGYRjGnGELNMMwDMMwjDnjXBo0qZfK+DMyadB8xcxTGrgqUhnnpFZMCfHERuy5YoRZFvh9Xhq4aht7S2lRkfMNTqb4bXk2ZR1AJgwsNb1bKjZQ1zbUXVxB/cWD+48o5rSPuhdV7yY1aOfQQhGaObHQ6CUV1s6ch7KKv3t2zJqlB0P8xr+n6QDEBrqlqIsg5Seti6evKOetiWNJwP2imYtBoXkwSz2Z0v9lNbMmzblIHGuJ9qwpOopCjCTfYw3OotA4nihau0qMxo5RjTVL+RSv1RvwhNETXWUtVqaiTPRtZTPms2jUNulYs4q6mOVFRSPU2MbzbHJd1ER/73aV+xOTnDQodc65oyN8zsN9rq9b1ztQlqabB3v79JuNTXSUPd7jZxj0sC9tbLQoZnSCc9X+E9bsxS3Ubx13+xQTinueptwHCyFda19sUkySoepyfekSlNdWWLPUrFyBcqrMBQmZ196hGEk+ZBPVQBgqp4oeqRjj9WcTnv8HfdQMFg7fc60Fnm8XlrFu6jXu26Ewzp0miqZcaKsnfX7HPr+D/WCkbC7frmB/qtRZhHl4dALlkxOc/xeWuQ/U2jhfxMr8EYpjoaJTkzo/TV8vNcjaxJ0I423FQ9jJW9x3rAml+zszwjAMwzAMw/iPii3QDMMwDMMw5gxboBmGYRiGYcwZtkAzDMMwDMOYM85nVCvKpSJcnk1R6KoZ0gVC3D9SBJaFEBhnilBfyjsLxSAyEzvHk1Ftpgip87/c3NY558YTFEtmmkmuEIx7igrfD7AOf/VXv0UxX/ryF6D8e//0X1PMD3/yPpRDZc0tj0jheRooCQDCmFY/r+w+FYo5DwMPxZsfHbCB5bM+1mkWsuCzTFCAGs2w/UIlu6UjRNz1UEkkkAbLAfeLsBTHFJNjEvwrCR1O9vdSaRuZtJDhb0ItQ0Ek7fhKhk4ojjWUZ6iFqH5tNFhUHgvtd3fG08yLQxxHnYQF41WHY2uWK8/Fl8dzBGykOxtiP23U+DlfeuUqlPOQFdCFSE5KlISJoI51qlmLJqJ6lCp1i6ttKHdPUKA9zTmxZtDDBImn97j+hsLwOYylUN652QDn6RdP2IT25kuYkNBPOEkgEcrpepXbZmcfr5U2uZ9e30Lz6wsb2FZJfYt+E7q2OMLnjdynT3LafsT94urLl6EsjWGdc+7kAJ/z0Sec5HF0gOL5lc06lFc38DrOOdeoCQNc5doy9W6hw/3WCZPX/ga/Y5/dQYPbp/dfUIzMu7j+0iWKqdYwyBfrhKjGc70XiqQnxXg4EBNRmvEzlCn2A/nec865KMIBqnm2e+IdWq3yu7CkudySBAzDMAzDMP7aYQs0wzAMwzCMOcMWaIZhGIZhGHPGuTRopBVTTGgnImYyVMz5hDlsFPLlD3eF+d2YDfKcMAKURrrOsVlsJjRxpWJU64TZLjnXOn6GwrGuyRO/0wx5Ox0Umnzzm1+jmJdfuQXlu588oJgf//RdKEfaBu/yWeXG9gGbBwZCz1UNWAfQ6ixA2Vf0K+fh5FRs/HzKWoE8F5tra5sLi34hii6ocN1EEfaTykzZ5FmYumYeK4k8YYycy4s7RTupaOJKYXzsKRq0QNxPKIwUQ2V8FqIT+ophqjTSrSqSr1g8V63OJpLVKrbNnsd6jHv7uBnzQoUHyeWW3CxauaEzmPT4N90Q+1tQYS3s1Ss4PqeODT9PjlE35HW4/6dCm+j7axRTv4m/K69SiAvFPT9+gXofTacTBKipOtlj7aScq7TNokcjoS9WYvwGzherNX7OSMwh7UXWoHUL3Ag96HD/2ryJG5/XgkURwb9xPvbBUJGbFcpYO4uTA34/vfw5vFZ7QekXosudKObcvZMulK9cx+dst1GT5pxzgdBC+b7SVuIdESdcGbGIufmyYvJaYpt/+P5Ditl+sQfl/kDZRNzH8wROaMem/D4oxHjMS55Lp1Nsm9lMWUsIvW6txnUaCYdZzTw8E+/UQvvbV8jv2bOwv6AZhmEYhmHMGbZAMwzDMAzDmDNsgWYYhmEYhjFn2ALNMAzDMAxjzjhXkkA6FgLonAV50pxVEyEnwpHx61//CsX8xXd+DOVP7tyjmHZLCPkKXmeeDsU9z1BoGCpi+lCIkDXJaBALw8+ABZalePaZYtpbr6PI8eq1KxSzuIAi/LWNVYqJIryfpQ67XGYTFL4PhlgXpSK+DgMhuNcE41UUPTYU0ep5OHqBgvFIcfPsRFhfoZK04Avz2lK0caGYGZY+iqQnE04S8FMpwmfRajBCc13FX9l5VewrZc6i7dRDIauvmCX7om180TiaFNVz0oSZn7Mo8FqJ8gzFVBpAc9/2Rd8ehpwkcHSCYuF2leeLZgXF3p0qt/lZTEbcmWYNfM6i2KGY2gLW6VJDMQVN8P4Gkx7FHPUw6amW8BiuLqBRaLPFc8r9u5ggdLCHfbBVY2H8sIdt0++yMWYSi2SIMSdM9AdCwK7MBS+e47NH0q3YORf62C/iBj/n2hYamTZqSxQju5wcs0mDX2tRhKPCU95P3rnehsior7znhBg8iZX7kUbbPIxcXRi4bm4sQ7nd5uSDrBCG3sq7OhQPGvg8rioJHqtd5FlleQX73JWbGxTz9k8xceBnP/6EYg5EYuDSqujLymRaqeCcwiawzuViPotifs5YHKtU+TllYuBwwMkGWYH3GClZKJMpz+VnYX9BMwzDMAzDmDNsgWYYhmEYhjFn2ALNMAzDMAxjzjjXV/daBbUDWcbfYCOhxUqV770XL+Imtr/+a79EMZM+alOe3GMN2nJdbAjr83fjitAYpJnQBSgmuZVIaNB8/q6dCFO/OOFr50Lvc9RjbYoimyNaHdzgN0v5G3a9jrqvz33+NYqZjbC99sVm5M9PlY2NxWa5FWVz8moDNRCNJpt5noeDXbyfMGDNUiQNKyscMxPN1UtRf9RXzAzLSJoeKwouoYFYUeqiLrROXcc6tUWhISyVjYwHR10op0rbVIW2oh1gX4591v80hHAozZV+K4wdK2PF/FEY+fZOuxTTjFDXpJn27g/x3B/us5anI/rgq5+hf1XrrAWR8sWTEW943VzDvh0oGpdO9SKUTwdv8w34OPanGW9MvfcczTwvXVqnmIMd1Ol0hWyurHGbdx/t4rVZXuaqFXzOyUDZwDnDtjnZZbPRH+2gjjRQlJBLS6hRWr3B97zgiQ3VA76fYg3HVib0PrHPusOcxiO3p2acfhaeNDd3zlWE1jpWtK9SAqfpnVstbJulJRxX1RrX8UwMWWlKqx2T2nDnnKuKY37Ed1hfwOdqLLAOMhDa4f4hz4u7jw6hnE9wfpPG3M45F4h3c6b4zsdCR5dUNC2geE5l7pwK3a1meDsTr2ZPETSWivH9Wdhf0AzDMAzDMOYMW6AZhmEYhmHMGbZAMwzDMAzDmDNsgWYYhmEYhjFnnEsV2RRC0lwRu/lCGD+YshHm5YsoEr18aZNirl5G4W2rxiLfhTredjVh0fbqwjId+3mSSBF6V4TYNFaSD0RSQCVhsXoR4f1td08o5ifvYvLDRx/eoZhaHev944/uUszWJtbXV7/6DYqZ9FFo++A5CnpHDx/TbyrCDHihzuLmagXroq6ITc9Dt0Ah6Wmd63QSCaNVx0LNXIj5B8IItp+zeFh6zpY5i0RnJf4/JlMEoFdE8shkzGLYUiZeLLUpZiwExSNfEZYKRWwiRL/hmMdeTcQECZtcBiJpIclYVT4rsA4HSt/OhRi3GXCdeh6Ov8dH3J6NGPvtQlMxqmU9PdBZ4rYazvC8pwNOxFgSVTg55Of0yg6e55Try6tJ41DFLFb4O2cpt9/pAR4bH+LY6ysGy6VIkqnFKxRTE2bAqdJvYw9vMJ3yXHB8iHUYe5zQdGFpEcq9Ix6Pj++hkenyL36eYlrLOG5SkZCQ+UpdiMS2Sqz0f0XLfxZJwuL5quj/9Sq/w+SwjpXEo+VFbJsV8dy1Gv8mcfgQifIO88WDkmmuc64m5oIy4HnIkwL7Btfp5QzPfeUKGzX/LMZ5UUwxLtSMdEWSmBTpO+dcKMySy4IzCVIxRnxfcQz28NnrNX4/VcU7IlTWF5pR+lnYX9AMwzAMwzDmDFugGYZhGIZhzBm2QDMMwzAMw5gzziUamg7RmDBJ+INvKTZpHQ8GHCM0Qa0maxmkr97VK7wB660t3ERcfvN3zrlEbDQrZXP1Cptethv4jb9SYe1ALDbdjUP+xp8KDdq1lPU19x6j0+S/+6M/5Zi796H8ztsfUsw3fulXoHz1ym2K2X++DeXjCd7z8pR1FJ549kTRKawsCk1EoG0Gy3oQyRNhNPkwY73D9BS1O7Gy2XFb6BJqwsQ39rjNe33UDZ0M2YSzK3Zn9gKur1tV7Msb7E3syo+eQHmibMwbCu2mNKV1zrmsgm0xk/ejGCzn4pjiu0q6iZqi7RwLGUXo89iLI2zPZUWbcqGNbfNon7VPH73Atmlqu8C/rBz7ObqDF3RsKiaDsFanmN1D7G/F6R7FVCOch8KQNYXTKWqzspL7lx9iYzx5yPd8soP1E2V47cjjuSoPcYzUah2KqVZR51RVNl0vpnieQDFz9j1pHs7js7WIY+RoeEgxxQzbptLktqmtopZt6rCf+jNlXOU4NyQh64iS6NP/vSKbcnsmQmvUVp5ByJpcoPytpNPEtliURrUtHntys3RfGZ+eGPtxpLw/ZV0optqleCcEimF8XMN+GwSsO5RG4LkQlM0mPDfIuT1S9GW+qOR0xufJxZokV15hgViU1JR5W8552gQ7ky7C58D+gmYYhmEYhjFn2ALNMAzDMAxjzrAFmmEYhmEYxpxhCzTDMAzDMIw541xJAoMuijmX1lhImtRQgN11xxTz+O4jKD+8/5hidvf3ofylr7xJMddWUGwaJSzaqwlj1TRDceJiB4Wmzjm32MZjnmOhXygElb7H5nMjIVjMQq7mr91H0fG//aPvUcyj+0+hXK9yvX/hy1+DcqXWopjpGM9TraLAcm3rCv0mC4Txau+UYvwK1vGgd0Axa6ybJj70sG28FhsY5yMU4/qK4edohueZOkxUyR0rQNMpHtN06Isxtt+G0p71AP+v02ixCDkV4vRizMkjhXjOdsn3nBd4/Vj0/6aSuBIGIrFAOvQ650rR32tS+OqcOxHnaS6yIXTnIpon+wM2eb1UxTHSWOOEoR/uYMLEv7nPbf41OoIoHpeue4Ii/CJmo9o8w7o46SvJBn3MBKnEnIRy+Rqaw/ZTTjYYzzAZ4nCP+1d3DwXGCxVMnio9FqLnok/WalzHNZEUcEm0nXPO+ULwvLuzQzHhCSaCFCX37XhpCcqDoyOKCevYn8r6AsVUG1in3hD7kp8opqrCMNUred4ucsUU+gz2t7t0bHSE7Rlt8iQ4Ekl0g1NOpppNpagcy6FiQuvlOGZDj/8GI/X0vrIM8MXAke8955wrfazDIOCYPMd5ZjTisVYI8b4vRPmDI044rEQ4v/o+z2d+cXZyC4n5ZQaFc87z8DyxYjgbi7GWKYlu5Wf4c5j9Bc0wDMMwDGPOsAWaYRiGYRjGnGELNMMwDMMwjDnjXBq0DWEM+Oo13vC03katgPyG7ZxzH32CRp3/7Hf/gGKqYpPub33tyxTTisRm0RXWXwTiG/VMfOdeaLMuoCrOk6ea8Sp+W/aUb9YN8V27UMwC//Pf/i+gfHzCBn57u6jj+9znPkcxFzdRrzUcsk5Hmq9uz/D+Xgz5GaTnYCXg7/fSGvDZ82cUc339Ah2j84jv9bVC0YKIDX7brQ6FJEIrIM0L64p2LBZ6lXTI2plEaLxqYzanrExRd7J0dYti8hXUB85OWY8x3UENZqlsgh0IvYM0evQVLU1YYl2USh37wsy2qmz4GwndSaiYORcJ3t84Y31IIhwhX24pprhCJ/TnB4rJ5RmsLnE7jHLUPg0K1ldOhJ4xUDQ4/SHq0nZfKBtnV1HTtbil6HeXUBu2PWPNXpljTKOJOqxSMQnNxLyzsLxEMa0mzoO+oqOrVXEuXVJMjgthnix1dc45152IDaWbvNN9axH7aaiY6+Zj1LsFQkdaKJulpznqtwKlT2b52abakoMd1kc9+ngXypsX2Kh5PED9Yr/Hc8ppF+fywQDni2rGOldP6qxy1kudHuM99wY850ntWrXC47Naw2u1W9y3B3vYD4bH3C+q4h0ai78bDfbY9dsb42+iuqI7FEa12hj2herYV0zIfT8XZTbFdTSfckwQ2GbphmEYhmEYf+2xBZphGIZhGMacYQs0wzAMwzCMOcMWaIZhGIZhGHPGuZIELl+/AeUvfu06BwkR+fLFqxSyeQ1FtasbGxTz5hdRCL/SZtFqJEw2g5CFylLlLgV60xkLjmNh2pgkfN48xd+VynnSFAWC/QnvYr+6iuL5//K//m8p5ukzFIzX62xC+/wJmkY+O2CD4PtCmHlvguLSccLnXRSGpBsL3A4nO/fxfh/cpxj3xbOTBC4Lg8Om4/pqLWACR6PCgktvjCLfQAjsKyNFZD5Bce5szCLWyhDrIkhZVFsRotBEMTCuX0XBeHrE4tdjIRaelCx+jYVo22UoYp2OWHAcxXg/kWLCnItnSBVRaywSLWY5i60PeyhyPzxVjCYL/L/hUsj/V3y9jvczLDkZ6Cy2ll6mY3UheH7afZdijvtoulyrclJRIkw3uyEnG4xnaPLtudsU0xbi5arjflGtrUG5uYDJD77P/WSU4jiq1FhUHlVxnpwo7VkIcX+lze2w3sSY6ZTPM5sK0XbMxrmLVRx/FcWMdXiM4zjPRVlJABhMcS51Y8Wouc/99CwmZCbr3EcfYLLUS2+uUUxFCOyDiNvvtCvNbPGe1xWz3f4Rjv1nd3cp5u6d51DeO+DnDjNhchzxfNFuY39aXWZT4ekA73nwlBOjmuJdHYsEheEO/+bkEc4xyze5T5YimdDTEgDEIW0cycQBX5kX80yYJSvJGYHyTjgL+wuaYRiGYRjGnGELNMMwDMMwjDnDFmiGYRiGYRhzxrk0aAdd8Q04YdO6hUU0Trz5+hWK+fXfxm/xtQZrnyZDYWx3yqaNzTp++/YUk8bCw3vMZqhHevTsIf1maQnPW6nyN+vRAO9vrJiNHguDwdznb89SDnXMsiE3ClD38ugZa1MOT1D3cqroEiarqCG8KUwuGyE/ZzzGet979BHFfPzWX0D56IA3lD4PLwtNkD9iLU/DYfslM2Vj3inGlGIz8nDGepEgw9/4ijlxXAoDS49jfFGHs0Put9OnuFG21GE551wpbrE/Zd1cJPQrrY7QRyVcN3JD4maibOYuTZhzxYRZGDuedLlPdseoaRntc8xFoT8KGjyGF1LsB5+LuL6e0BGkkbCpdhiKDZzdc4oJAqz3pZg1tYsJnqc72qaYsYfnaXb4GUKhh+pUlU3NY9TYLKzicy0tsknoaIT9Ns24/8exot8VVCqoP601WI+aFvgMkwlPaIHYLXo2Ye1TMUIN7bDLm8s/eXAHfyPG42zAOtL9fhfKnqKR8wfinmtnax4XlrjeHz5E/eKzZzyftTr47mu2uR0GQrvZP8D7S0+4PT/+8SdQ/tG3P6CYF09xPI64ulxVjP1GheeCxRbOIUOlLhJhWO+fsBlwKIzKiwKfq7vDc+lbf/YzKH9r4RcoprMp+qnynvOkoaxiwiz2blfN6T25Kb3icZ+nigH7Gdhf0AzDMAzDMOYMW6AZhmEYhmHMGbZAMwzDMAzDmDPOpUE7naKWp7nIuo61TfR4qjYXKSaM8Dv7ZMYfavviu3u3y5t/Ox/PMxyzlmE0Ru3HaIDn6Y/52qfb6Fk0GrKOQmornj56SjEf3XkA5c9/+UsUczzC7+xP91jLlgoNWhHyprsLl65AebHBMTOxkWt2ghqJ44/we75zzt378G0o33/Imr1ZinURhMomsufgxhI+52iHvXsSuYn5RPGUEZuIF77wrCvZvyyS/mUx/58l8VAfVQSKwED4jKUs03Qnx6ilGCm+OAOhvxgouqtQbpYuyrn0SXPOeUKD2VL3o8eDcc7PWRe6uSOxubtzzh0KP7roiMfnZrsD5VmHdU1ZH3VCyx7PBWdp0Lpd9gXMAzxPGPJz1mrYNom/TDHxItZXtcPTaRlgWxQV7oN+gM+5Umc9XkWIWlaX0HPq8vVL9JtM6A5PFT86+X/0PNPqAufbuMJtNRTviETxzQqEjnSYszZr/1R4dE24o/Z7qEuTEemY5+39QRfvJeO5yhNawNuvfJ1iJLdeZW3ie2/hXPnOWzx33n7tMpQrykbeh33Uiu3ex3lbU8h9/OfvQ/nozgHFeBNsz0rOk1UrxFpdDblPbjZRc7ZUZw1aPsN67uasm8uF916e4296UgPvnHvrL96B8u1fuEwxC+viWMl9Oy/wHeHLudU55wpsG09ZNqViPfFAeOE559zei0NxhMeRxP6CZhiGYRiGMWfYAs0wDMMwDGPOsAWaYRiGYRjGnGELNMMwDMMwjDnjXEkCDWGqt3mZN/yVYsDdvSOKSUsUSacZC0CzEYpNxxM2tnv+AoW/4ymL/wZCVB5GKPo96bHw8OAERZnjKV/bCeH0i102Ury3i8LM7e+9RTHPDvBaZZWTKpYvYj1vbPJmtC7Dutj94G0KuffOe1De38VNzeuOjQDLCQqpI59FtROxUbynmOSeh/VrmGAyKhVzVnEtzfOvEJvaFqkQnyo5DKEw70wUMWwsjEODhJ/Tr+D/dYLVFYqpRnjuQ+UZTkohtJ1pJsx4reMRPmepbDZfE/8XKwfct30fzxMrgvEFh6L3p8r4fHyKfWdV6Rf+BvblcZ0lz/0AxcyRpzhqnsH+HicxlAnOTdUVngabVbyffKRsRj7C5/QiZTNybwnPM2Nh/HIT59fDKs+d3gznlMjheEgq3LkbHay/RkvJXMmxX6TKXBrHon6UzaID8btC6dv9U0z+GY4eUMwkFQkAJT9Xf4YxWYbjnpJonHPDAhMHCkWsXuY875zFjdsX6dh7P8KkgPd/8ohixgO81ukemzmnPezvT95/DOXZNicAjJ90obymJJblFewXecEJHZ1EJKU0eYystvA8NWVePOzjGJmN+L2byKQrkTwVKAbjg31MeNm5zybR117dxPMoWRWFcAYPPB4jvrifbMT9a+9hF8pv/9kdijkS64LLl77ANySvfWaEYRiGYRiG8R8VW6AZhmEYhmHMGbZAMwzDMAzDmDPOpUHrF/it+WcfsJHo88dozNafsKnkVGz8nE352/LFtQ0oF4pw6EUXNVO9lLUDQ6EP2VhHo8m0YK3FB4/RJLFQNoUf9bpQ9jOuwmAZN4W/c8x1Ma6i1iheWqeYlRbGDJ/zhuWPPvxTKO9vP6aY3gHqXtIMtUazBj9nM8G1exJwHfeELi3NP/1msM4557awzRcrXKex0BSWId/zcIYx06MulL2AjTojoW/wlc1yowZq0BodNmT0I6yLqMkmhDWH4yhptygmuoh1cdJnzcbpQRfKvQOM8QseMxVhthuNuE8GYmPvuOANpRNhCxqmPIaHQoOWN3jz76rQq3iB0p6F0KIoWpmz8KWmzzk3maIeadFns9Ewwb7Um3D/Px2hvi2MWOQSOdQRhVLP5Zzz23iPQci6vvEU57z+AHVY+ydd+k3YwGvVow7F1CpoEt1u8DP4Qts5y9kItlbFPlg4vp+j3mMod6dsMzwNsb6CCs8pkTBvDmb4nEmVx17VYf+ajHmMZPGn71+NFm9yHgsN3Ok+ayc/GeG7RhpmO+dcU9T7VOiWT475vI0U66Km6CJLYSJckNWvc/UYjzUijgly7Kcnx2zCvLfXxWul/N7daGB7eWLH8lDZ5Dzz8X72P+a+tPsGmjev32RdcCJMmD3lb1b9E3yuJ3dZI/reDx9DefsOG2Rfu3SBjp2F/QXNMAzDMAxjzrAFmmEYhmEYxpxhCzTDMAzDMIw5wxZohmEYhmEYc8a5kgS2D1EA+od/8iOKefAEzfhmVV77RQkKUDNFMLguDG5vXL1CMZ/sozj3UNmlPp2hgLEfoqjQy/k320JU7jdYxN09RLHuRnuNYo6GKJweJx2KqaygYHFxnQWEdSHC3//kJ3ytp2g6W+Qs/o5iPI/MzehNWIRZS1A8WeQsXA7jQMR8epGtc849FgkAL13c4vsRwvcw4v4Vi2SRkRDTlwecJJAMRPLBmIW3uTDLjFuK46ETgvoBC6mjCIfbcqNNMUub2C8Oeyw2fSj0xDUf26qaseC4c4yJIvW6Yh47wTFRSVn0W3PYD7YUgfElkeSx3mQhdTvBpIXY8f0Uwsg6m3z6JJTlpet0rDvG+wlTngYrwh84q7HZaFITiQ0lmwp7Odah53G/3eligtWxY9PqgYeGqL0cTS/z00/oN9M+tudCjRORLq3fgnKlymOvFEadec5jxPNxbBUZG/JOHc7t45jNWXsB9i9fSdRKGng/0QxjAuXvDoHoX4XSl2aKUP8sZmMeI6F4HyUl969SGB+3Wyzmv7CEx1rifVD2eE5uhPibWqDMyZ549oCfu17Fe64m3Lf9Es89GXJdZMLAfqHJc+diFc/tibk+CJXEGjGljHa4v33wPUyq84PXKGbj+iqUZ4qB8Z33nkL5B//uA4p59C4mTi7HvHa4/EUcfy9mZ/c3+wuaYRiGYRjGnGELNMMwDMMwjDnDFmiGYRiGYRhzxrk0aEenqC94dsBGbccj1Nz0lX1nvQZ+ay6U9eHOA9RUxQ02HZx5+O32WNEBeCWee28f9Q7FgLVah7tdKFeXWRcQemi62T9hXdNRH79j58vLFNNZwGNNRQdw9OhjKHvKRsuB2Lh4kirftYXupfCF/qfRoZ+013Az65MXrHcoZ0KL4n22zdLvP8Tv9+0Gb/DbWBCbVx8dUozwX3QrK7hRdbmIegPnnMvFRuPZIfftvNvFcsK6jsjHoRQo2ixvpQPl2lKHYkph/JqdsFHtNVHP8So+V1wq/++qYf2xosS50UMce76i2asKPd4v1LmtLqyg8aqvPGejjmMrVTbFTktsm3Gfx+xZ5I7nhjgWm0UrG9J7IeoDFd9ht76M7ZBOuC7GIzSUHec7FNPPcW56OluimEnjJpS73p9jQHCXfuNXUZtVWeB+21xFzWMUcl1kwiw88LhO0wyfIXWswSwSPFY2+SXhCR1rKcWAzrlMTDOp2OTcH7G+uBSa6IGiEU0nrD86i/EJ98mkxLEfeNy3pSfuUpXnzgsd7HTVQmhsR2wkXQ3xPL7TdMF4fzXFGLwh3tVSP+ucc4WH52a1oHN1oRWu11mPurWOYy0U64LQ1zYwx/Kz4xOKefKjx1Cejbm/vfzNV6CcRXx/7wsT2nvivM455/rCqHyVDbJHA/HOillrKrG/oBmGYRiGYcwZtkAzDMMwDMOYM2yBZhiGYRiGMWfYAs0wDMMwDGPOOFeSQCoM6Q4VgX21jkK//gmL9iY5CjPTgsWT5T7+7tnHDylm84owdVUM+0ohlJ6NUNhaC3ltKsWJScCmevUqiv92nz7h84T4u3aHDUmlgWD3+WOK8U/RkLfTaFBMsSrMJwcsqAx8FGSHExSSVjssSq62USzZP96nmHiCItXJ9NMbPTrn3EyYRt67ywkArSt4z+1jbvPgSJi6imSD9u2r9Jv4JexLgxMWbuZd7JORp2TA7KJxqNdg0W+4iO0QByxKHj9DEXnrzlOKWRAml/5CB8rBRRR+O+dccBsNSEtl6J8MRRLKgMdwdYptvppwn7zZwTrstnkc9UT1DAuuC1+YS6cFt/lZ3Hv6Nh2rxtgOQckZAKHfhXJrRbl2hP0rCTYpJEtw3smFwaxzzkUOz/OYc4HcqXDmTBZxrCV1ruPVLUxEurK+QTE1kVnjZ1p2Fz57FHJbdceYULJ3vE0xAw8TJpYu8BzsiTafHLMQvh5hn/NjvJ9BT0limGGHywLF9DhkgfhZ5APNzFlc2+d5MfGEmW3O56kW2C8XYiGeVxILMmHQXuY8zqVQv6NkwCQ17BehYhbrBZhIkCoJavkM+1Otzu+nzjK+U6sJjs9C6ZIDkTyV+IqZ7REmsX3yfU6kOToV41MZR08/xCS2/JSTUBZibPVIyZc76Yuxv2RJAoZhGIZhGH/tsAWaYRiGYRjGnGELNMMwDMMwjDnjXBq0MsTvxicT1mMsVvA78kKDdU1jsaF0oZhTxsv4XTbIWCsQCa3TVoNN4TKxGbonNC4VZbPt28tX8Dod1pR4GZ63GrGR4kzUV1nnah4ey+/abJAqP2OnVdayhcJYsq58Qw8D/D4eF/gbP2FD3jTD7/dFwPoM3xcGuAV/mz8PE2FOOXGsidgZYptniuZgQRiQuiPUKUzfYQ1C8wSfs7rKugD/4hoemLEG8//d3pv2WJKkV3rm690jbuyRe2ZVV3VVs4q9ktRwqAE5AkaAQAiQoP/D3yNBEAQJoEBoGxIiJQwpNpu91NZVlZVZucV69803fWh94HvOy4roxmh0OXOeb+5p1xdzc3PP8MeONRBYGQ/YzWpGUF9fs6eTzO0xRxEHTUYphOuurCtWOBJTe2yPp5VwHQ+mti4ap44TCPxs2ixbbDb2HDYvRlSmyCHYt+uEE0Pbbh0OqQwbepbPPvmM1jXgtEQ138NzCDI9ecTHNxja3x0esUeU9Uf2N4M9KtOGvnM+5jJpbq/57/4BTGpe8r3XhTY46HL/Uc7B1V2y8zVeWnds3XDI6xhcrBdv2FmtEvu7Iwhu/tUB2PO4cCbgjjPbTrFuNhO+Z67h+BKnz6s3v37QdlTw8bUD+GVOVmwL+s6242NncE37fdu/5bt8DleXth9KEz6nffjdzoD79qRljy9vc3+BDtrGccUWK7vSm/i8gSddBo7oasN1PJpY57GuuP3vQADveMR1/PG/sQ752An2jQv7DnLQ47ro5nZd7fzpq4FL4UUI075vUUYIIYQQQvw7RC9oQgghhBBbhl7QhBBCCCG2DL2gCSGEEEJsGbcaJBAntljliMuT0kr4ecxy4nptxb40ZbGvAyJwVPE75PXayqZpxxMY7fICggkXKxa9j4+P7fGWLCfOJvZ3Sc6CcQR10Uw4nDKs7DnkgcMfA0jSy5hlziyz67Iu10Wo7fXLGxjE4Fyrcmnrq7XrDPqAc+hlv1lQ7cm7b5vl4Z4zGKJnj3FVcF2kb9nQ3v7cHt/yNQfgTiDcdjGZUJkOtJ20z20y69g6riMnCBlE5c6Krdqya6/N2rlF68LeRxmEi2bOwJpqZs9r4YRK5iUI4s7gljK1v9tw86cBOi3neGoQb2cbbv+7O1aeb9GwmZsHCVydLWhdHOAc1twPLZZ2INSs4P7i5J6V8I/usbSdZnbbZcn353put7O45AEmd09t/dy7a7eblDv0mwBCdq/t/H+8ZctcvJ5SkQju61bmSOUwcCZKud7TxLav0TnXe1TaARJ5NqMyi5U9xv09O4Dj9LFzHcb2+OYT3vf08tfvvwYdvkd2cABaxe0/T21b3sk4wLUDz9keDKwZdviaR7XdV1Pzs3oAYbFdJ/A2btkbO2tznZYwuCvPnXOAZ3MVuC6WSxjAl9syU2egCA4SyJ3ncAdCmA9yrq+rkb3P504If69r671/6LxvwAvHZMXHnO/aoGhnTAWhv6AJIYQQQmwZekETQgghhNgy9IImhBBCCLFl3MpBw2/LSczvdTV8+146M5yW8E29xuS2EMIqvtnlWUGoX+o4JAH2tY7sN3Tv++8VTJy6cBy0OXxbTh0fIzT2eFJnXt4EJtCtnStRw4TvwQkdrODbdxLzt3jMj40gRS9y3tObYD2YzskjPsAWhnfeJnqP6UFgZbbLDk4GrkwvG1KZ3n3rr+yCz5W/4TDg62c2MHj8FYfHLl7Y0M00cUJBYSLjjhPa24Cb6FVXBG5WvuHtxI0tU8P94AVAowZW1RxImkRwXyXslGDrqhtuuEXb3hPxkO+RDTg41ZLvtR6EifZix6+8gWLFlZzADXk95mDfJra/6ybsRQboUzYl+yuLK1unV5c8AT0GM48vOBT3ve+CBwmTbUeB6w///116E6HDIyDtswtYlNahXTttsoH+7HB/SGVmS+tBjq+5DVZrW4cYYhpCCKu1bYV1ZK9Nq8+/yRbgy3a5TZYdp6O+gbsPDmndxdBez3LM55lBXz50gpq74FW14J7pDfg3qLutlnw9WxDgmrccB61t9x3FfB810KkkzvMJHbS1o/mtNnbb1xN7rSYjvq9Wa3DeW46fDe8p/Zz7qh48+jInhBl92bWTyNtA+vXGeUa0dmyIfMG6J6G/oAkhhBBCbBl6QRNCCCGE2DL0giaEEEIIsWXoBU0IIYQQYsu41SCBdm4FPCenNlSVtf+axgnng6C4JOPdxygPOzuLaJACy8xRY3+XgGQeZSyir0BgLCM2GqOOrYvGMb3zyAqWqRNUWOO2HcESqzDyKh4kWq/eMYc2iXFgAe876dprle4dUZmDO0/sb5xzCIEFWeTnP/0FbPc+lZn0rWx62ONrfvzQBg13Hz40y9XePv3mammP76c/+5TKYMjrrtMu3unZUNWTmqXtDAz7IufrGRdWfo03fD2zxLb/JAJZ1xszg7d6h+uvxJBLZzBQBe1r4QyGWMLglmTA91q8YwXn4owHcMyvrRzc3zumMjfROP8HLeA8o4zbbYqDPnZ4gEIN997rl3zNp9dWHr6e8DV/9npkfzMeUJm9A+jPghWOWy2Wm4vIrtvULFuvIZz4ajmiMldTu87J+A5ZYgfo3D1+wPva2Po5j5xrPof2NWPJfQNByPONDRsNCYeqtmFAU7ng7Ubprz/I6cHbp7Tu7GRolscbPk/Ma81zJ/wano/wSAtNwse7A4MzugX3H+0OhtA6odrQWVVO4G0F937mhO1ifmzlHM8a+rgphIUvnfDYGPYVO88eHIhRO1nwbQiSjiMutF7b45tMnRDaFpx7m+urdK7XTegvaEIIIYQQW4Ze0IQQQgghtgy9oAkhhBBCbBm3C6p13SJLDC5W4gTbxeA6tZ0JWPG7MXoxIYRQwLdvzzOJwEuL4KN/XfG35hKOOUl5uzmEgKYoBoQQMgiPTZ1zqCDMFoNrQ2DnrHH2FSq4hI4r0ALnYNCzflmnzYGHnY69NpkzGS1+94+dUOEw+yteB0zH1pVpd5wAS1BsLq9GVObornWUDk9ObIGO9XZCCKHcsZPAf+6EHo8Lu+6w6ziPfbvtTc7eVQoBqV74YwYhwt2U770IwjzHr1/ZArXTliB0Nuk5wZg7EPi5w+dwubSTYH/67CsqM5mPzPLDBdfXI/DSWi2+NtOVdVGunAnVb8S5h0vw6DpOMHLastcmc0JMK7iv3zzn7vTshT3mixGf56fPoM+ruL6ytvVeqgLKZLYdhxBC09hrVQf21MZzG8J8veAySWL9u27G/fZyao+nbLOzd3p01yzvD/aozGxp2/bFpePNVeAAgRO64nnaw97A1s/8+ozKtB2v9SYGxzwB98Ede17liA9ovbTeXFlx+OkG/MDVBtzOgu/zoxN7np0ut+0InjWN4wkniW3Lm4L7xVVhr03tOKsp+OuxE6K9Xtm6WEEQMrqeIYSQQRtcb7xw7gaWnZTcxO47SriPqdFxT52J2Xv2eBpMwA0hJOip3QL9BU0IIYQQYsvQC5oQQgghxJahFzQhhBBCiC1DL2hCCCGEEFvGrQYJpCB/e3mpKaxsOQMAkDYmd4YQWrGVChcYQhhCWJVW5Gsc2RpDNiv4zapkYbDJ7G+yxhH9Aoa8chmU5VPn+NJg918FR2CEn7UcOTepbX31eywhHx5aaXX/wIbOetcqBUm0dgYAFFA/VeUkpM54FfLoyTv2+PY5FPd6bMXg19ccFvhXf/1Ts7wprcT63g++S7/pH1ipNh6w9Lu4sEGT2Z07VKb3HXsOsxXL1jEMVHl1MaIyWcvK1XdOWKReXL02y794ZZdnC75n4gwGwFSOYAxt56jL7eKqsffRTwuWaucwkKBccSMYgIy+rvge2d23gz7WCYv6N1FFLEA3EQ7W4N+lGKLthBOX0KdEgQde7PZtW76a7lKZ9MCe536Lr/n+8MKuKGz7XyxtPxBCCAVUadbl/jaLbFvZ6XF9RZmtr7TD5/B6aevn9dcsxqfBBkV78vdqZY9xr8v347279oJtoC9fXHA/hOO0UmfQU4QVdgtWMe+r2LHbzk+HVKa5tvdEU/J9VMA9uoFA19QJ28UBc4M93nerZ48vcUJVExhYNllwf/umeW6WX4/fUJnNCu61muu9xNeQBIN0+TWlWNvjmYxGVGZV2oEXG2eQ3dXa1nEZ+D6qoJ2unOD5DO7HbsIDAgYwkGz+5ub+TH9BE0IIIYTYMvSCJoQQQgixZegFTQghhBBiy/iNgmq9iUkxVDVPedP4xRUDXUMIoVXD997GC8m1205ydmVKCPFbQshl44h0WWS/G7dj/h6dwe82jstDkp7z7RvdtdyZqDcDR+/0hCeLHrRsEOHREftbPQglTVJ7nt6E7xWcV+l8Ls9hnaegOfMqE09OrdOS9fh6nl3Zb/xrJ1D26Vdfm+XdgXUQnrz/Fv3mcPfQLJ8cDanM6IWtrzt3TqjMOx9+2/7mDQdhJnA9vyq/oDKvwR+brNgJWkGm5WeNPb7XrptinaCi5O32wR07nE6pTA3t4mLMvlte2ra9rPj/gWdwf17UfJ8/3rGThk9nXKc3UdbsApbQUKOaj68bYQA0bzsC/2i47wRmd4dm+Wq1T2V++4cfmuU05zq9u2/bf1aOzDI6miGEkPdsnXbRqwsh5BDUvCg5MHU0ujbLReAyrR3bBq/H7KCdXVyZ5XLlhEKf2Xb58BHX19GuDby9nFv3KR46fjF4ap0Bu1CeN3oT+QEH8u5/YI8vG7CbWFzae6u+Zk8zAy8z71qHKXPCpos2TBC+61zzO0Oz3N0fUJl0xz77Ws4zbP3APo8mP/mMyvzy589smdd8nquZbe8FdHC14+cF6IdmSy4zguu54C4vzAvoq2p2x7B7GBd8r6Xwu702BwS/fjGCNexyIvoLmhBCCCHElqEXNCGEEEKILUMvaEIIIYQQW8atHLQ2ZMakzgTE+K7XNCwtoesUuZOc23Wx46m1O/bbe+VkkRXwTRoduU7b8cvA0eg5OW2hQDeLfQecOD52fLdex7oLA8dTODm13/jv3eX8rS74ZJ77V5bW9Sggy8pz5GLIisrIIAwhhXVVxE7JbRy0nY2d7Pt8eU1lphMrEHRj9kUGA8gAgvymsGSnKoPJhO8NOUfuvG/bQVPwvmfTkVnOnXlxuzAZ88khOwiXv7TOxpefnlOZ9cJ6HPOldTaKjZPNVFjPY1OzszEBB+3s/IrKYD6eM7dwOIRJgRuc2DuEMC3t/ffK6Yqmc1vPk6sLKnNIayxlzeLJZm0Puj9gB6cNkzwnTpZhp2/v4b1D7qsupjZDr3Yy6r7/ts3n659ymf3M3knNytbpesNezOGpLbPDkWJhjdtZcl9a1/bcJ2tukxFkrJ08Yo80r227XF7wAb28tOf+uppQmZN37L5Wc3s9O22+h4cn9l7LO+wzLtfQWznOEpJ1ud2+9UPrupZv8bWpxnbj8xd8r5XgFbagb2/tsP+WH9o6re9w257u2HZa7fE1z/v2mpdOZl0fJqD/4Jj3dfCt+2b5o7/7ksp8+rOvzPLVK3ufX1+O6TcpPPPLhL3IOeSVrTb8DCvhfaPl+M94jeOYt1Pltsx8w3X647/53Cx//4MfUBlEf0ETQgghhNgy9IImhBBCCLFl6AVNCCGEEGLL0AuaEEIIIcSWcatBAt0WTorNYjwqtA0GPYYQKthdFLE8XMHv0twJeQ1WNl0sneA4GMjQzaxQ2e/wvuPUyn/e2+t6bWXEvnN8OABhb5dlcAw73dvjMgMI6kycWZ0TECHrmgVxHEMBpxnqmq9nAgMAcILpEEKoYCBI4+z7NuSRlfeXUxZ4cdLkljN5dRsHZ4D0e/4FC6rV1LadvTbLsKdH9tq8+PoZlZkt7MCG95/cozLD4dAsp05Y7AFMUrwc8XleXFtxejmBUFBnAvMYgjrbiSODw2CWqnSuJxxz7QziqWN7b+FkwyGEUBR23bLh45nP7L6mS26DNw0SaBo+hwyE3l6XQyXzzN7D7Rafw+6ubZMdZ1LndWHbRba4pDKnk1+a5aOH3Kf0c/u7ZQODZnb5PHf37HXIMg6PHcEk0/MZt50SwsKTLgvZcWzb5NHxQyrT2dj76NmIhewaJiw/e80DhnqHVk7vtO1gqlbE8vwAQnuxDYQQQoMhpZ9TEca5j6IdePb096hMemLPc+fkgMqUM3vPNhWErWNHHkJooP+adp3jS+12ZiW3i2hqB+hsnAnCC5DuGydUPt231+L0/QdUpoQA3uEb29ZnEw63xYGL12fcTp5+ZAOMm2sefBPX9hw6Ax48uAcDTJKM3x3O34zsvl/wgLQ0sfv6/gdUhI/v5iJCCCGEEOLfJXpBE0IIIYTYMvSCJoQQQgixZdzKQdvftY7GfMHfrANMdjxfOmGZtXUXothJ80SPiXWMEIP71M85ULaT2nWdGEL+cn43LWPrdSzm/M263bLbfXiPJyd/9Mh+Z9/fZweh3bH+RVM7jhe4fp4rFsBLi5xAWQwNTqhOHaeQ5nvn+mogpDd2wjxvw7pr66JXcLxtM7eOS1047QvKXBXWXXC0tTC5HJnlpM3+SgJqxeUlB6ZeQojqIOO6aIP3Uq3Y99nr2nui/5hdtg74lR8vrS/ixCuH9QbuPactYVBzsWHXCB3H2Amt3uvb67kz4DpN4f4rRtyn9MF77KfemX0zacrXoZXb4+t2HRcKnD0vzHkBnk4r91w2u52TOxxy3Au27eSzIZXp37fXYnBknZvdkoOu48T6lWNnsvkC/CMvGDyA83t0wkGw7RSu8ZivebyyLs+wxUG1775tr8WrV+x7lit7LY4O7D1S4+zWIYSvPv2ZWb7zhPv2x4/t9ZvcwkG7vuDtFBAC7bmcNWjT0capdzjPBgKWIwwcDyHkHXjOLXjfCQav5s59XtnfNY6DhrOIx7EzAf3cPlOfP39DZV58bZ2zHByvb73/Dv1mp2ev1ac/44t1fmb3XcR8rZrVCspwna4bWz+Jc49cL+22FyO+z9v4ILkF+guaEEIIIcSWoRc0IYQQQogtQy9oQgghhBBbhl7QhBBCCCG2jFsNEvjRD79vlouCpcKL8yuz/OIFi9RJ24qs/cGQyuSxDYpz3NxQlHb/tRPMuZha0bwDwZMhZkl6urFSeebIw0+evGWWv/U2B+9hUK0n96OE7Mn9KZj6tSPq4yt2XXOF4SCB2xBhuq1XBoNhb/Ebj8+vrKicFhw8vBrZa7NyBqGgwJ6D9F423CZnS9uW8jYL0M+/fmmWN05+awzXzwt2rKExY3BhCCG0Qbrv7XCAcQzS6nMI4C3X3AZiaJOpM2Cik8OgHfa8A47a6WQsvj46tALvkzscJztNbV+QONf8GMTzk5hF+FfeIf7D4+ty8ORwF6+xI1vDgIRej9vFDIJ0k4b3defu0CxXB3xtdp/YwS39A24XEQSiZom9gEXFAbhju9lQVjz4Js3tdvK2c3yJ7QdjJ1Q4r2w77aTfojKDHZvM2d/wvvJ6ZMv0+BE1L22Zyxd2eTpnQfv56+dmOXXCRn/wO0/M8oRKMH/5P3/Ex7e2bXm1YTl9Nbf3cMOZ1SGUtn5KEO5z5x6+d8+G9u4eDXmzMLhgsMuDW1owGC53BvTVa3sAiyWf52hmr8Wriysq8/qNHfCCz6vVnO/P4cCGuH/y2VdU5mJqw2I3zt+jSuhvq8rp3Bf2vskqfv9pUvu7ygl23xTOBbsB/QVNCCGEEGLL0AuaEEIIIcSWoRc0IYQQQogtI/qTP/mTX19QEkIIIYQQ/5+hv6AJIYQQQmwZekETQgghhNgy9IImhBBCCLFl6AVNCCGEEGLL0AuaEEIIIcSWoRc0IYQQQogtQy9oQgghhBBbhl7QhBBCCCG2jFtNlv57e/+dWW61ebLQNLMT6iY5v/utYHLV2ZQzckfXdvLl0RVvZ72wE7cmDU9qHtV2OzQJqjMJe103UIT3naR23zjZaggh4Nzkac0TsCa1nSB8vV5QmTFMoLva8GSrSWxPxJvr9fmZnWj8i2d2GuBum2fF/i/++EOzfO/BAZX5n/70J2Z5yvNdh9/+z/5zXgl8+J6dRPlyyu2rzu0xrtc8MW8brlce2Ql/mw63k1bXlqlXPKH0FCbd7XW5viKYyP6rVzx59Z/92f9mli/OePL2wyM7sfjhCU80fnA4NMuff/yJWS6W3JZimHh8Mef6W8OkwMWaJ51Ooa38/h/+AZX5+7/5N2b5zbOnVGY5s23w4JDPc//Arnv88DGV+dYHd2jdP+THH/G+cTJmL6m7qO29tip4wub12rbTouB2G8e2XbTa3AZzmKQejy+Ef2QS53+43RZP1J6mtntPYu6rIug/oog7RlznHV8N9VXXXF9NsGWwbrx13r7SxPbtuJWmvs3xcV+Kv/rhOw+pDPKn//1/S+u60M/s7nJ/kWV2b4UzkTb2Xyk8tDYl38P9oZ34fLfH7a1c2P5hZ9CjMrO57cxLZ57vJrbtq51zG8TWtFjzQ6KE5yO2t1bEO6/hN3Pn/pyu7AO0brhtd7tds5xnOZVBvHskVPYYK9h3CFwXb//oP75xX/oLmhBCCCHElqEXNCGEEEKILUMvaEIIIYQQW4Ze0IQQQgghtoxbDRLoDa2AV1T8XjcDn3h5yVLrbGYFvPmU5cm59dnDasnCJw4AaGcsJ6I8H1B0dTy/cmMlX082rUBG7LW4ChMYONBUXCZNd81ynSZUJilsZXRyLtPtW8EzbXepTDwYmuVFdG73vXaE3sxKj6+uz6jMZ89fm+UyYdn0t2kNs1zY/U+nLL+ejez+6w0L7EkBbQ6uX5PydYhBCm21WRI9uLtvlquCBxKMX9tBAc+/HlGZ6wtbZnTJgwSGfdsuTo5OqUx/x4q/42sr3NcbbreHp8dmOW/tUJlqZ88sZwnf52nLCu07Pb7md4/sgJLjXb4/f/L3H5nlB++8S2UKkPAjZ0DOTXgyeAH3cFU5ErInAgMJtCdP5KcBCZ6cDmWShO/zm+R5b4ACCfZZRmUSGNyCA6W87biCPQ284LqIIijjDADAdbFTF3iuTWn3davr4AwNiaNfv33duXdC63Z6tg/udpz+Hy+F80BKGhjkAYdcNyyiZ3B/Zilvd9PY+kkzPr5ubvvB5YafESU9Ynlf7ZbtqzJnMMtyYwctRIndTuy07bK07aLb4neJtGsrrPJGA0F7X6+cwVNrW8+Z8xyhARLOAJjyhoE+HvoLmhBCCCHElqEXNCGEEEKILUMvaEIIIYQQW8atHLTFHAJmV/yz6ch+p52M+N2v2tjv2lkypDIdcILihoPtFmvr3MyLsbMd+006h2/h65K/B29gVYlOUwghQkeiYR+j27PfozFY8Vfbtr+bO+GsDTgR3T5/Z29DKGLi+ASHh3b/H+TWR+q02U1599v3zfLLV9dUpgQt4XLGAam3AcMB65Idr7/8i78yy03BDloPvIkSrvFmw84GOjh377Hz9cff/k/N8rdO9qnMz8+s17eZc13cvWODV9966z6VWUFzH02mVObgxLpiCwhFTGP2PDptu64sub0ljW0nvbbjdkIdjy45kHe9tNfv/PUr3g64KHcevk1lVhCce3LKYbYh8HmYf/V8JHBlYsf/RBercpI60Snx3DEMMA6O51SC31NG7PsgMcZeek4thMU2jmtHvo+3MwqqvbEIbdej8hxfCCBtPLcOfpeCb5zl3J+hNxQ7fqV3XjdxcDDkldAuvHutbjC0l9tODs5gK8Hwdb6eVWP3VTrh5llmz70suF9sKtt2MnS6QyDPyvMXV9A3NW7orF1Xwr5zx88bT23f0B4MqEwOodCeA7ZeWufM8yvRrcNrF0IIJazbONcmSW71umXQX9CEEEIIIbYMvaAJIYQQQmwZekETQgghhNgy9IImhBBCCLFl3MpaG722ct14wbL6FWRurpYs9rUgA7RpsQweNVauduVcCFYtK5Yws8gKlVlmjwfl8BA4YBZF/hBCoDWpJ1LbdVXjyIkQwpk4IbRDELLznENUI5BfIyeAMQeBca9jz/PwkMNtj4b2GrdbfD3/2e8+Nss//eyKytyGqsFrxeGnx8d3zPLOoE1lDvdtyCsGkk4c4T4GQXvQZcG4mFtzfz7lAQoNeN3DDtfpGYjAm4pl8Dqx+//86Ze8nSsr3V9NbL0fDDk8M+vAwJWab/0G6qLrBEDX0AxePP+ay2xsfS0wfTqEUECY7tn5iMpsQDDudVkE7ve/+f+YccLXE0VgN5w13BxsipJ27AR1Yl6lP/AIehVHVscQ1QaEcW8gUgyiPg5wCiGECNI7I0cGxzWeS08itRdmC7+sXSsfBi04gZ9Jin05/MYZAEAn4TjvNw9rYKZT7lM2S9v+W07f2e3ZdhlHfD8Wwbb/CB5z0xkPjisgIHiny/dwBKO7Nht+fsYbe8wtJ5B6s7bnOZ7w8awWcA6YthtCaPWhLqApz0fcf7QgmHY5nnAZaNvuYA14RnhtIMvsAXmtdgkD0Grnb1+1+8tvRn9BE0IIIYTYMvSCJoQQQgixZegFTQghhBBiy7iVg3Z9Zr/BXjiq0WoNk7SicBZCSGJbJnHCDDNYlyb8DT3UdjvLNU9wirZYtwuBrik7TFdX1icoU8+jsO+0nT5vJ4AHsFhwaGkD3snOwAmhhcBFJx8vVOCMYGBeCCGUEOpagMM34wzacAUTe58+5JDQ3//nNly0aX6z9/3VCibvzbkuvvuDH5jlnR2u9z5MUowTJK8wBTaEEIHj2DjO4womu39+xtdznfXNspObGCYj62g8v+AJ6E/uPzbL1+MRlXn+tRU+FyvraDzsPaDfZBBoHJxrhbdEN+N7eFPYe23yjI+vHWyZxPGaqsJei1eOy7YBP+TwYJfKhMBuzD8EPcQQ2H3yJjB3J1YGUvI/b2ExOfdnDL6s612BV4WhuN7E43g83mTg6HN5E17fhgYmQo+c+msCOnGO40sTszs7g9PA6qpLxymMbR+D9/2vtvPr91+rFfuonbbtvzodvo/iGCbpXjqTdINjlsP189r2qrTbSZ0A3AgqNQpcBp3t2PFlJ2N7fNM5B972urZf7O9w397E3xxUu1rxvvOWPeZBn/uB1sCuWy65/8dQaLcvuEXw8Br83cIJqsWA7Nugv6AJIYQQQmwZekETQgghhNgy9IImhBBCCLFl6AVNCCGEEGLLuNUggfHYin1xzEJeu2ulxzRl8bDdthI3CoQhcChcp8VSYQ1pmeMZS9tJ225nd3/HLI9GHJK7d2LP69B5fUXRe7HgEL0SQuua4IjKNYiQaz6HHGT5vOMI0bmtiyrmIMxNboXFTW2P73rJx/fsxRuz3Dvg4NX7D2wg6tHxGyrDR8OkEMD78tlLKjOa2wEcV85AlTT+5pDL2pGSMxiEUjn/Z2nNbZnHj+5TmcG9Pbud7ILK5C27neXcGTxS2hqrS5aH5xM7qiOG83rv20/oN2Vhr/nECdvtwf0Ze+I5CL2pM9BnNbX3VrFmOTdAuPTF62dUpAvBtI8f3aEyIXBA5T8kcsRvlKS9AQEVlEHBPYQQEth27ITFIp7MHzcwMMo55izDAVZ2XygyezhjBAJ7y05QLaxyZXoo5B1PDfK3FwReQfv3jhnrvYYyGFz7K24e9ZE7g2JuotvjR2gNg4ouLrn9zyHgNk/5RHsw0G4Z7D3jhdum+b5Z/uTzV1Rm/9A+CwdO6Pfxkb33Wivuh4pgy0QZ92c4RiFOnGte22veSu15l2uum6a01xhDc391fDj4wAmPhe14AyYq6F/rhttXC65VtOZn6tXom/sqD/0FTQghhBBiy9ALmhBCCCHElqEXNCGEEEKILeNWDlrdWPep40wEnYBzFvMcxSEHvwwn8w0hhLxlt91xAugq8Ldau87k2g8fmeX2jg25vLjkiV1LCPxcjS6pzGRs5aflgl02DCbs9zlgs4EJ1N+cs1T11VPrdGFgaggh5AO7r727HOy7e2rfw6Oh3fdqzN/vv57adckzvlaPHljXae+Uz5NNLKaB0MZffPwxlfniuXWUkobDAnMQHnDiZ28C5xS8kxQDXUMI+/vW69jb4xTae3dOzXLcZpfh6OTALN+fslPVxkBSb4Jf8C1OjmyI8A+/+x36zV/86b82y4uzcyqzxnBpbwLutm1fpeNOrpb2nmhq9jH6HduW44S3c+fI1tf7796lMl9++c1eR6fDDmtRYJ1ywGYDh+zkTgbUybz2deOPnG03jr+F7ho6aBia6++a942HjAHavwImJ3cmvEbty9tMXcDk1Ws+zwo8Nc93w/4CQ8m9SeHx2nihwnXr15/MemeX+7ynX0KQ9JT7VwxE7bbZx+5C8PYCnNXLK277/R3bLuZOeGzZwO+ctrNc29/1nQnoBx3bF6wdN2u1geDhwglLBpduNYf6cm4+PBz0G0MIoYFTLxwHrSqhv3XaG75vlKUTnJul37gcwj/mRn4z+guaEEIIIcSWoRc0IYQQQogtQy9oQgghhBBbxq0ctBizj5x0q3Zuv5eXEX83LiDjpqqmVAbjYJbOK2QMuVk7eztUppPbU6thcuY84XN49vRLu+8xe2E15DflOXs6ODG7lwmHE4sPdvkc+vANfTNiH2mxgHyaCefVZEdWCGztQy5azh7d9QQmWJ+wR9FbWBfr0TsHVObiM1pFzGES8yrhPKJWz3qG1y+fU5mDgfU4io09z/WafYwotj7G6e4xlSmLkVn+9Bc/pjK95EOzfHHJ/uLOjr1HvvP+W1QmNLbdDnec9tW2bfc7771vlh/cu8e/qWy7iKtrKjO/tvUzWnNWWgROaMeZFf7grvVy2t1DKpO17D2y4+RJHd6x1+JwyPfsl7TmZtCz8iYIj0FywVy0ENhF8baD7lPt+DToTMWOH1XEkIEFrkyWs/R7m8m/UdfyPDU8nNhzaSLMk2Iw46xxJiyvYV3t5Jeh04jOnucC4jX3Jo6vnOyqm5gtuE+eL60rlqHbGULI4ZmQ5k4bBNeuBV5T5eTIvXlh/bden58r85Xt7y/H3P/HS+toHz5h/zOHzM1qwc+IamPPs+X46xXcE/NrW3+Fk8HWadnrtyq5ryppknO+5qj4lk7bznK412Ln/lzbY2zl7DLvDdlXvAn9BU0IIYQQYsvQC5oQQgghxJahFzQhhBBCiC1DL2hCCCGEEFvGrQYJRPAe58nWRWNDXvMeh8fOMZjQCTNs9yBoNeftZG0rXeZO0F45t/L3YmMFxvMLHgCwGluxu1g4k7+mVtzs9TkYNoVA3soRb0sQI3Ey5BBCuHs0NMuHu7ydZWmvRZmxqBlDMGextstNxtczHYAAWvB2Zwsrmnty+m1o94dm+Xf+8D/hfU3OzPKf/Tf/NZV5/MQG5y6X9pivrzmcuEnsuf/g936bj29oRfjLr3gC4oMuDMS4M6Qywx3bTjGIMoQQeiDdtxx5/uWL1/Y3HbuvvMOhl9//ne+b5cuPuW3XG9sufvmaw2wf/7YNgH7rPZ6YvdeFQTy7PJAgb9v66jvBvknLyrjtNsvCN7HZcNvG/quuvfBYCFUteYACB94yOGl47czMfptBAjGIyTgAwAvPxEEL2I+HEEIN+/bqAica9wYS8L6cYQIg73t1isK4N+k6htlGEPrthQF7gzOQLL/V49BwfcUD3WgydydUu4R+exNx+19E9rx68Cw8PuTBN1988dIsr65436OZfTbut/jZswfPsH6f+xT0/S+cungBYetnzjgMbNsJjBTsOKH3x/v2eM5GzmTuS3vuScODNWIIfM6dNtCCviqKuH1toE+ZTHngxWzJfdFN6C9oQgghhBBbhl7QhBBCCCG2DL2gCSGEEEJsGbf66L6BSUa9iUmrwjotGBoaQgitwdAudzm4bXBiPaa2M3l1tbS+2/UFuzLzyH5/7gzs9/vMC8DFAEt0G0IIWQKTPGfsDmzAL6idSWQxY7AJvB2cON7Jvgvtxq4sYw4mXJS2vubnI7McORP1DiCoMy9ZBFiA3zCb8Xf3EIbOOssYghKPTzjAddDDC+Z4MOB+oPt0dcne4QaTCp2Q3Hbfbmd4wF7H97//PbPc6fN25hBmWDuhiGs4nvmKXbE0sxOAv/zahlOuHF/wh7//A7P8rM33TAKBwTt39qnMd//ot8zy/ftOsC/0D6021wU6QVHN91od2+Npws3OF23DDS292S9D9wlDL0MIoSzseXr7wnVuECxO5O30FxisikG6cczHR83L2S46Z54jh66dd54ReESRs50K6gs9Pw8nTzY08Lu8ZftO768OeK1Kx00MBbfTm0idA9zbtf0pBuuGEEIGnlXsPGvw4Qy6VOh22X8eDodm+fyCA6kDhKS/ecNldhL7HNnd42f1g7v2PBdOoCzWzsAJtj48tP3MZGIducnUPr9CCOH4wD4br8fcnw26tp+sA19fVBO9DOY2vCy0nf5sAe1/MePg3AMnjP4m9Bc0IYQQQogtQy9oQgghhBBbhl7QhBBCCCG2DL2gCSGEEEJsGbcaJFBB6GDjmZuQOusFRL73oQ0Bvf/uh1SmSaz8N70eUZnRi8/N8mTCZbJghcW8BzK9k1s4nVspuZ1x9USxXTfY4SDdq7ENRF0sWJ5M2vZ3+0enVObo1IaCxgmL+k1tBd6pUxdffPmJWV6BONpq8+iDKLcCauUMYnhT2fPKWi+pTAg3h9f+6f/wP5rl4f23qUxT2oEECwgiDiGE8wsb4Hqwv2eWV2sexFCCnP7FJ19RmYOJFfWvX7CQ+r/0/squiFmAXsAgAW+AyVfPvzbLn372lMpcXdnBDru7ti39l//VH9NvvvMdO/Aie/chlWmBzPwEreQQQmKr1K1TDFqt19xfVDBKBoNXQwihhv2Xv8H/J1Fe9/YVO9eqhkEBjTcwCkOincEGuM4NoQV5v3EGJODYgjixv8lyFpcx/LpxwlpxQIJTFaEE+dur0wz6SvxNCCFUSxgk4wXewnYyr2+Cg8TA58Q5vjSy577e8PH1bjFoAekk3CabANc85ePpQfrqTpcF8oQGedi62az5ebC7gwPU+JySmd3O88szKjMeQRCyM+gDn31/9EffozJ/9C/tPZw4z7AODAQcT2zg7asXdhBUCCEUOMjI6Rqev7TbmS2dgTQtaG8593mtNgwMdPZVQJu7f+eEynh1eBP6C5oQQgghxJahFzQhhBBCiC1DL2hCCCGEEFvGrRy0Gj6Gpwn/DAMYN843/vXKhrf1h/zdfXhsvavZaMT7WlqHavaav2t3WzBh8+GRWR7XPLHrvLDnEKVOOCt4FK0BOxL9vv02P1uxv9Lq2t+dPmRX6633raPX7XJw6Hpuz+Orj/6Wyrz4zDpUraX1hpIlf3df1/ZaeZP5Nrmtr70p+3iBsxSJf/HPv2eW6xa3i/HIel+7f/h7VCYDOaCAcMrTuzy5MIZltpyg2ry2271/9w6V+cXHn5nlz7/4nMpM5rbe7z1y/Dw4h5MT3tcPf2QnPr8HYbFvv3OfftNAU944E/5evYFJ4B0f42jX1mHi3CMZ+IpZxdtZjm37Khr2o9p7dtu/fkxtCCGwd4IaWOOEHlcQGFysOPwXw069QOpqg/c+1wWG0NYFH/Nyae9h9MAGA7732uDwNY7/hhNTJ07fXm3sPeEFD/f7NhR0UXEodLG2dRo5jmMBXqbnb6W1XdeF40mcFPK8steq70x0f9Du0Lqb2Os44bZwb0WB2/YQ/K3hTpfKoEu3gefTZMrb7bThmsccQt4b2E5595j72yyC9u5cqxgmFu/0nc4eLl/kJMGC7hx2Y3sdei3uA8sS6thx2ybTL8xyXbEX3wY3PXH6vBKCv8sNt50BbCdyHnzTOYfX3oT+giaEEEIIsWXoBU0IIYQQYsvQC5oQQgghxJahFzQhhBBCiC3jVoMEViAn5k4oYgxiZLlmMf5v/83P7Ir8iMr86F/YJMzhIYvdV/t2XStnUX/vcNcsn771ri1wwKLfbG2lSy+ccgFS/sIJ6myBZ7izy9W8d3xglg8PB1QmzazU2Orw+3Q3t7+77HKZfmrPdZXZ5briuijA5cwcSTTbtTJnO2MB9DZa5L/6V39glu8+eERl5suZWcaQ0BBCKED8nc/s3pcrPprNBoVsPgeUyCsnkHQ5txL3hz/4Nu8L2tPwcI/K9Ab2eu4OeGBIH4I54wTuz5bz/66Frb+Fc3+OICCyP3TaJAxiiBonqLOw6y4vR1TmzXM76KN2/OJHfTvYYQzncBvS3AmGxQDc0mn/hW1fayd4FQehJM4AkwQGBWAwbAghxCCDO0VCA8eIg7LSDldgVNhjbmJHgMa27QzWiOC+TrGDCyF0enb/0Q4L9zEI2BhuG0IIcwiOLpyg1RT66WgFgzWc0SQpbKc3YHn+eLhL627idI/vETyvuuF7rQ2CfcsJvM1gwEQbBgCsC+7PUugLum2W5/Mc+u0ND4Bpt+3AgcYZJBZBe0+c53AF19O5nKHEPgQGzbQccT9q7DXf6XH73+3ZgRhVwXVRBnttytWCykTwbtPr8nniO8hq6QT79nggyE3oL2hCCCGEEFuGXtCEEEIIIbYMvaAJIYQQQmwZt3LQOi37fbflOGgluDzXE3Y2FisbXvj53/+Yyhwd2O+03/6dH1GZDMIBIy84FxySCJYPh0P6zfd+93fsNiLHkYCJzy9fv6Iyy/E1rHGC7Yb2POdOsO/q1S/NMsf1hbDTg5DBnL995zv2+3ivtr+panYkMJw4SbkucLLv5YzPIXAGIgFZmeFwyH7IcBe++7OWEHCO6boGn8YRICooUzsTStN2nGDTNfhvkePyjKd2gveicUJUwRPKYnYrEvBBajgeb/LvEn4zm/O1qiGQN8MEyRBCHKNf4/ghkXU9JiN2XJ4/sw7ag3dPqQxe5OmUfc+b6PfYF8HJ0luOC1WDvzWfspuCnq3rjsH/gT0Hp0nR6+N2kYOHg0fcjrm9ZeCW1s5/xwsKDuXt5ODxLRd8HTCM9XCfHbTjXesct5z2NV7atnJ+PqIy1aV1EYuZXfauA/Zna8epfQ335wPeDNHLue0k4JO1O9yfodPbOE5tje0A+qGm4edKnNjf9J067g/ssyeacnt7+MT6n60O30crcHFX5POGUBZwzNy8QrcHE6pDX5XE7NqVUF/ojIYQwsX5pVn+9JevqUwHXMnDI35gtTv2GnvBwwWEVpcbLrOCgNvbGGn6C5oQQgghxJahFzQhhBBCiC1DL2hCCCGEEFuGXtCEEEIIIbaMWw0SGIBn2EpYKp+CMHt2zSIpBiWevXhBZb74yV+b5d09lhzTjg0UTHIWUi++/tosD3ofmeX20V36zfDIaqG9I9ZEq8TKkicPHlKZxcQOEijXLBjPZlZIffnqKyoz2LWydd5mrTBu2QETdeZI230rqaYpBD065maNAwfQwA8hLKZWpF5OWdTs3GKQwHJu28pqw+2rgFDGvMfXvAY5OE5BrHaCOjEk1HFYQwwSvhu2WNpjTmM2lSMQuS+uL6lMBmJ8HPERUa4j/KZx9o2/aZw6jiAgMsqc9FgYJIBBp//vhsziIua2s4ZN79zh0N45SMiL0rs630zjDYCBhpI7AcudLgyMyvj/sihJRzXXRQ3Bx7UTSBqlcJ+3uFvutmzoJsrpuROGGuDcK+dSteAeaXedsF0YVDG65n11YDv9HZbKe9CX7+5wMOxhfmKWN06I8NlrO9gsrG0Zb0ATPns2Tn1Nl9x/3cTa6TtjEONbba6LCI6ndkKON5U9nhkEynqhwk8e28E2pyccdH0AIvzTpy+5zNCW6aQc8roc2Xr3XibS7OZBMvPKPh8zGNCxqnlA0xzCit+cT6jMNQzseX6Gg/dCGMLxdIf8jIVHbGicZ+Fsaff1ZuQ88xd23f57P6QyiP6CJoQQQgixZegFTQghhBBiy9ALmhBCCCHElnErBy2JcMJT9gIa+G48WfP3/HUJDpAz6XT2s6dmuTdgT+GtD75rf9Nm0en1pf3e231mfbfDmL+pV5md+Hb/0TtUJh0M7fHt83Y2sxYss493fYkTNnOY53DfTqi+O2QnLs1g0mTHx9vA5NWLuT3mxpnwuobgv7pkZ2MzhxDCjeMs3YJnz22AYGvIbuLVpfW1Do8cf+XQ+hYDcO/QUQshhDUEkpY1t9sInKos42ueZTBxsBOenIIb8+blBZXZ27XX/OC0R2Uq9L4iDI91JrwGLy2p+d7D80ycQOoY3JmycrydxO4/GbD7d/ddG7ucOO5TAd3TsnAElhuYjqa0roZzjymsNYRiadtFWnH774NPFjmSF3pqpZOimvVsezq9c0hlHsC6zQLOy/FcE/AX1ys+hwaOx1GNwmJp99VyQlXXV3bdmzDm40ntObSca76BMM9XZ2dUpgF/LE3tOVSJE7YLHlj/kJ3HwnE3b2LlNMkEHKX5ivv2oobJ5Z19r8G5LOCW7fW5bzg9tA4fBr+HEMK33rUhtE8glDaEEMYX9pk1uRhRmcnEtrkk4331QGDfOO7ramX94hrqz5mbPFTwzHr2gn3eKLXtqz/kZ0ara+swip3QaggI9srk0P/HKV/zVpvb+03oL2hCCCGEEFuGXtCEEEIIIbYMvaAJIYQQQmwZekETQgghhNgybjVIIMqspdd4gjFsqZWy9FiVONiA5eHLCyukfvJ3n1CZNhwPin4hhJAOrLB4vbAi4kHCNmwE8ncTOCAvFCAjVo4MC8F7zZLL9CIrET65y9Jq1LaS+2bFx7OBcMVixtemmFiTdXVllyPvNb2y1yYKfD3TCgXjX1+CDCGE//snn5rl1ws+oLMzK9Q/uM8BjO++88Qs7+9CoLFzDrOpDThcr1gqz3KUuE+ozMGRlfsLZ18FSOTzOQuzEwg5Xjn/hzo4tINZ2m17fHHN91WJMnPtDCSAQ06dQQIBpPLGGSPQ5Hbb7R4PHmn37P1ZRlwGPP3w1VMWxru9A1r3D3nzNf8Gr+fde8dUpoeDPvBgQggbsLbzFl+ri2vbvqaeJD2x6+L7fE4ffPd9s/zu2zZo++XzL+k3oyvbV3n9B7aUqmK5+eL83CzPJ2zGj6b2HIZ3eeDW+x++a5bffvtbvK+p3f//+dc/pTI7+7avPNyHUNW+E+jdse2rdAaGXE95MNdNrJ2BK9XankOS87OmgNDZKHY6YQykxgE6Bd/D0+nMLPc6vN0COoP9I25vSQT3J3UgIbz62oarL5y201/aZ1jpDAxcweCVBvqm3Z5zDhvb8bx+xQOulksY9OSERI9H9tk8dAY07fVt+6qdQOoItj3c6VOZ5XJJ625Cf0ETQgghhNgy9IImhBBCCLFl6AVNCCGEEGLLuJWD1qQ2/LRxggpDA+Fyznf3CsJPQ+RMwF3Y79Evv35FZXa79r3y/Q95wvJHj61Dcn1tv82HnN9Nh/v2u/Hs/DmVyWrrKBUVO0sVhC1uZvxtviwg7DdnB2c1tZMCr1ZfO2WsN/HmS3ZRSgiUTWqc/ZW/qSfgaKQxl0GfACcnDyEEZwpn4otnNqh2HPH3+/ML62aN146/VcKk07Hdrhe2W4AX0DgT8+7AxMHXBbtZd6hOnQl+r6zvcHbB4aK//NJ6HXvPOLT3j/7oe2a53bLnnUaOXwn+W+EESTfoVjjORlWB9+Jc4DVMcB2hoBpCiCFEcl1wmY8/eWqWP/qI2/YPf/TNDtrlOd+fu7vWWfXqazgAz9WZSHsJk3TnG/aaksr2ndGcPacxhFQ/f/oVlfnXf/7ndrv5PzPLJ6dD+k3/2J7DasntbbOGkNDA/dDJt20dX7zm/mw8tn1Bz/HAsM399V//HZV5fgGTXjv94pO3v22Wd/ZsHa9KzxeEhrphf2symdG6m7iacJ1G0Ic0TghtFNl7zYtgjuF36D7Vjhc2h+dBUfDx3XlgJ1SvnIna05at03zA13Ne2fa/vOR67ywgLHnNIffzmf1dBEHbdw44qfbq0j4br674vhrBc2+14nu4gLbiudbdvnV+Q8ltp4HnZd/xd+fOvX8T+guaEEIIIcSWoRc0IYQQQogtQy9oQgghhBBbhl7QhBBCCCG2jFsNEkAnzvHFQwKC+HA4pDLzNYRwOoMN2iDvb5xQ3PPXVpx+cofFw7uPrNi96VhJdLNheXg9fmOWR5ccftdNQQB1BPsKAizXCw6oqxP7u7VznuOprfir1ywZTi5tnS4dEXFdWoExBmm7bpzgYdBWYyfYNI3w3FmwvBWJbTt1zNL2urbt4nLpiLdXth0UK1sX67kj9IL03m7xQIch7Gr0fEJlXoPkXoxfU5k1DHT4+598RmU+e2bDRR84oaW/+3vfMct1bdt2FrGgioMEljOuixDBfeT8921T2bbijLsIizW0p4xF76qx6778+g2V+Zu//blZXq/4Pr+JJGfBOEBI9fWU7891Ye/zuuAyeW7bStupsKOBHZBQ1lxhm5Vtg5M5y9a//MwOWGq1bHv7g3/5ffrNYN+K3pUzMAqd7cWC63ixtPL8zAnDXq3sTXJ2PeJ9wf03dc5zjG2n4WPu7dsA6rvv2tDexYbb9hxk/mrJ57De/Prta+kE1SYguRdj7i+yDB+9TrA79E0xJIp3Wty2S+inLy9HVOZnP7fB4Gmbt7OE+pk5Ib7z+RjKcL3PpvYaz2Z8zWdw/8VQf/cOuP/otOy6ymknNTzDGvc5Z/dVO885vEfSmF+bMPy6rJz7HNoXnxWjv6AJIYQQQmwZekETQgghhNgy9IImhBBCCLFl3G6ydAiUdZ2lxG5qOOSw0TUEmy5X/M26P4CAPMfNWq5GZvnZc/Z9qsJ6E/MKJnyPYNLzEML60npp44kzyfmODa0rV3x8g44N9RtPR1Smt2frJ3HcpxrctatXfJ5vXtmJjL2w2E7f7iuC9/LEUcfQQfO+qcPn+9BUXBe3oYKJg1PnHNo96/JkKXtqg549zyKxvsMAwhdDCGG1sPteY5hyCGEEHsU6Yx+p6drtzN+wsxFd2/b++mxEZa7hmt9zfLwYJk3GeZ8xZDiEEBqYWHk24ePrwkTBXltaQNiok/0YQm7vkXXNtsUXn9sA6s9++QWVqeE09g52qcxN3HnCE9u3O7YvyNt8fDVM+B73eN8dO2d36I7ZYaom9nqeeI5LZOt5s3L8Fbhcn/3chlZ3+uwRfevDB2a5nXFbmoyW37gcQgibEkNVneBh8Po6O1yn7Z5tFy3HKczBUboecXjsGsJFJxA2XTieXwGhqpXzDOt2uX5uYuV4azHsq53z/ZhCH5ymXKegnIUaPNKNM/E4+qiVEzb9ycdP7XZqPocVeJElBlSHEOIU/LvG6Xcae14U+hpCSFLbdkdXEEruhAG3j21ffnR8RGXqK9t24sz5e1Rj62vuuLlfPrXO+97+HpXp9OzxzKbsHZbgpnNNMPoLmhBCCCHElqEXNCGEEEKILUMvaEIIIYQQW4Ze0IQQQgghtoxbDRJoZzb4cuGI1EtIc0tjFoyP9q3Evd6wlNnqWcE+qlg8HL+y+//kKQfKvnoDgbKJlcwPrqxkG0II/bbd12rpyIkdq/ZNRywD7g+tUIzZiyGEMFzYOj083acyUWX3vwaZPoQQFisryHa6HFKaRCDNQrhuE3MdxyCaO25zqGA7zmZuxfnLl2b55N3vUpl2216/w36XyuyB2L0qbZtcLlmGTWGEBMr0IYQQKtveUkdCXoFcejXie2QADQH3HUIIDQzIWa842BGvBQYPx7ET2ghp0xjQG0IInbZt203C9zAK2F0nkPrs0rbTH//0KZVZbux5Ro7M3O1b8RaDOm/DD3//27QOQyWThLtBzL309t2D8OTknAdenH/8JWyIt3M3gQFMMYv6FxBAPZvbtvzzn/Egi+G+Dev+wff5vnrvie13itIJXk2t8P/6/MopY+twd5fvzyyz7WnmCNlfQ2Dx3//dL6jM9aUd4LWs7T0Sp3xfZdCfdZ3w5JMD6IOdQHZkuXAGurXteR4eHFKZDgxMaZydrdf2XsP+ywterRtb5vKKn0/YgRwes/TebcEzf83PnhRD5Z0BE6slhGjn3KfkMHhlA4MHD3dZp79z745ZfnE+ojKtjj2HvM333h600/WG+8VX53aw4Hh5RmWGEJ5cOYPqVktbh/eoBKO/oAkhhBBCbBl6QRNCCCGE2DL0giaEEEIIsWXcykHLwUEoU+f7KoQHetJSG/bWciYyTmAS2aLgd8hNZI/nfMzOwctr+z28bqzDMXActJMj+x25W/E39YOWXVfO+dv82dL6BKuYvbCX53b/u684FHe+sq7Hy1ccrltA+F2bs1jpe3gDk9FGEXsBAR1Cz2sKdt9e4O1tWM5HZrlwtrO7a/2QjlOmk0L4I2gmo+ccermBENVZ44RnQl3sZU67DdajqBsnYBZCl+dXPEH4BpyWarVDZSLwJOIGHCbHqaqhDRTOpNgr8JrSvEdlBnvWp/n6a3Zc/ux//T/M8munbT94aENUK/QkQwgRNKjxxPFpbuDoLgdmJ+C7eQ5aAhPOZzE7VV1oB50HfB+hH3gNk56HEEKW2GseR9x2Smg7b2Dy9tElu1AvPrf9x48+YO/qvXc+MMu7Tggn/j/++ctXVKIFHc/u8GYHbT7nY/7ii2dm+dVz3tfzFzawG73I01MOLX0C7e3xfTaAhju2///L//3PqQzSlOyaHgxPbRnH97w8t2GslRPy3UC9L8FJK519gzpG4bYhhJDCYz8P3G4bSInud/g+SsHpWqZ8PdGHTZ3nyAZ81BY4fAfHB/SbAXhp0cU1lamD7c+SmK9DAW5dVTnPQriHR9MpFTkDF92bdH0+t/fsd/8Z7wrRX9CEEEIIIbYMvaAJIYQQQmwZekETQgghhNgybuWgrSG/A/M8frUOsnucSc5j+BzuRKWFEnyQOGV/a2fXOhrXUxavXp/Z78T4jf9qzd/Lz2b2m/WjNn+/f+eBdYIO8KN/COEytt/rrxbsCpyNbXbbL5+xE7cBx2C9YU+nD7ln9R57JnFsXZk6st/HaydPp4I8pMrxKDC7x8vyuQ0Hd633cn7+jMo0pfVOLp28sjg8NstvPTk2y91v36XfvDizbXl8zteqKnFyeb7mKUz4mzh+ZbSx21lM2ZuIC3uN68LxOmgydFh2/ts1X1sH88Ubdnvah9bBqQN7RJ98YicO/tu//YjKvHplc4ISx8G8uDg3y60ee1eXl9ahWsw5Z+wm9nbZqUrBc223+J4ZtOx93mmxC5hAPmTPmQj6YMe6k08dr+/8k6/Mcu44cZsEJrsf2b5qs2Ep89UX9jr8/V9/QmXunj42yz865nukBZPL37/LHXenY/vgvOX4eOAU7jgT0CcwufaHH3yHykTQwDGD7bfe5+y773/3Q7N8/84dKpNDPt5tHLS9Hb6eAZ41Z5ecG9eCfXmTpTc4FzlMRr50MhJxwvK7J6dUZAMT0tdO9temtv1gnPPxlXCAFXroIYQEnjVePthyYfvgNrSdVov7ho8/sW25cCZqTyFzrZVym0QnbumElq7B864dZ7sK9jzHM35HWi752XIT+guaEEIIIcSWoRc0IYQQQogtQy9oQgghhBBbhl7QhBBCCCG2jFsNErgaweSgtSODw2TM3iCBBCTRuGaxryys/BrnHKi507GHfbrPcu50bH93NbHL85K3O1nZYz5oWAZ8AJOa73dYMP6/Xtm6uHzNovf51Iam4iTZIYTQSqyE3E5Ytu6BvNlyBi3EIEVjwCFOXB0CDwrwghTbMOHvGttAuF0D++6Pfscs//QpB/K+fAqTTs95QunXb6xs/fqlFWTfevQW/WY0gsDPaw6z3T+yQYl1zbJ6lti66PT4OkRr+/8h739HJ3tWOr57whMtz+d2AMyzZ3ZQxTvvPqbf5H0r2t57/wmVuffuu2b5eszX/KNf2MEsF84kxR0ILZ1MONhxAmGP97r3qUy7bQcprFa/vmT7/rc+pHW3GSSw07GDArotHjBRwRWMW07g7YFtg/2ahedfVrYfjMKXVGadwyCB2PZfF1fcJpdTK23/+G9+TmU6Pdt3DnZ4MMR3PnzPLHe7Tggt9ENeIGkEg1nijPvXwwN7r/3z3/89LrMHAz9A2n777cf0m7ce23XdLg8sa9DKvwV5mwcDLVZWhF8sWYzvQb13OtwupnN7/dbwzEpybrdZC6V3556J7HlO1yz3r+GZUM25by8be15xxvWX5/js4T4lwOT2p/ftAA7H2w+tgW2n6yWfQwMD3XZ3hlQmgZGKq5L7/07Pbid2BjSVEEzbcZ7Dy6WTIn8D+guaEEIIIcSWoRc0IYQQQogtQy9oQgghhBBbxq0ctAp8MpyUOoQQEnjXK5xQ1RSDTJ1P/il8E46cALoGPLUuf+4Nd4+sy9ME67xcz/ibNWafzkp2JL6cwPd7/hwdPrmyIZxfT0ZUZrmxbkC/xz7B/WM76W+7Yt8BsvjCHhcJUQKTdM/ttZlO2OdCByFyUoWbxNbx+Zhdu7ffpVVOme+Z5avlF1RmfGaPMevw9/xNZcMBP/rkl2b5+dcv6TfXI3vM507AYKdvnZtnL0+ozOFd61Dt7LNTdQy3zdEJTwJ8597RNy6HEMLllXX0cGLqyPlvVwJOxLs/+G0qczaybfKrX3xFZUZX9jqkTpB0f2DbymLhOHutm4M6cV2nze7TTfzWWx/wSuhSkoTbdpba48u8Ceih/6oax8Fsg3f1wftUplzYOl074cSbF/aefTsFL4aV2nA5tW35+oqDkX/ytz81y8M9dtB2hvY+f/CY23YMnTn6Zt46LsFe65PHj/h4+jYIPAIHbTBgJ7ndxv7C2bt349xA4fhR07G9niU/CsPFyD6Puht+kCQZtMGurZvKmZA7a9t2Wgc+wBSDYNs8EXoDXtra8T+zYO993Pev9g+h6IG3g/ffm6uxWZ5fsMOaQ5+8KHi7ndgez2bFLxzLpXXORlN20HAu+dxxJ1OYlH6QcYDxanmr1y2D/oImhBBCCLFl6AVNCCGEEGLL0AuaEEIIIcSWoRc0IYQQQogt41bW2hqE/8gZAJCDVJtGLOStITSvrJxRAondTovkzhACiIdNxYLgoGcl0Hup3U536hxfAe+rTiDvX3z6uVlOHLn5q4mtn3XFQmoOYZlJ7Iw2AAE7zVh+zSDkDwcEhBBCWVrJsliXsMy/WWIZJ8TxxZUNMB4tuF28TWscGlsXR/vHVOT4npU344bFUQxOXIOc7oUZtrr2mg8TvlarwsrWr188pzIbDP+dsegdcgiLfXCPitx/YAcg3H3AQvb9B3fN8smpDbPFQOgQQria2uN56QTyvoQBAE9f8oCJFQi8Vc3n2YZRO90e38MYbFp4YckQNNlyAmVvYre366y9TSAp3FcR1ymqwpnTXzTQD+4c88CQRx/akTSr1YTKbArblrPEbrdyAkA38cgsj6d8PS/O7T3847/5MZW5c8+2r6PjIZXJsG+KWKSmOnVE/RhEfW/wyOGRPZ44smViZ0AT7qnxBjE41/gmyg0/e1Yr6Kti3m4GIbNpxv1/nNrzSGFQwMYR46dwn/cccT/LrcC+3nC72MB5rTfcd2IVrtY82CzAuacJ/01oubD7KmDfxdIJ24U+uXLquII2GDlB6hhUGzvHV0A9L1d8ngkEM29wxGH4zdqX/oImhBBCCLFl6AVNCCGEEGLL0AuaEEIIIcSWcSsHbT6332DzNr/X1bCq8vyCDB0Sx30qrEe0afj7eAvSWZ1Py2EFvlsbnJf7J+ymoMaxWvG+i8omQjYxJ8Pug4+XRHyA/TY4BxkHfk6XIyjD22n1YdLYwImVWBclTmTv+YIQBnwxZufrzZn1HUrH/bgN89mVWe46k9E+fAyTTvc4LBYna1/AZNGXFxzUiZnLTc2uxQycg/mCHYTTe/b4NisOZ/3iS+uu/eiD96jMt9+3Qab3HpxSmaNj6+D0IOQ4chyrq2t7PC8vnDBUuH4FtpMQQgme1caZjDmDIMxenwNml0t7b62W7MSlcB9x2OjN+P8D/fVdEM9au03wag1rPddoHyaHfrL6DpVZwuTy5eYjs3zHc3vA1fUUmOXS3ufXlxdU5rNPPjXL3/8RH18HQlTThPsz3r9XY/Y8IqdvSrGbAW/Nc9tucTDByUS/kYkT/rve2LbccRzMvA1+lHP9NpBwW1QwObnzXEkzu53GabnX45FZrhvut9FBi+Ob/5YTO/WewrYbx9OMavu7dm6fqV3nvl/CxPHTOfe3Jdxrm4od6Rgueulp8dAPdTJ+bSohsbgs+d2hcTzum9Bf0IQQQgghtgy9oAkhhBBCbBl6QRNCCCGE2DL0giaEEEIIsWXcapDAcmllxH7KMiBKcV4QYA3BcV5QbQXSXubIkwkI9XXthA5u7LazBMTlNkus5dqKh7ETkrgEabXb4jL7uZUak8AidRfCPFu9Ph8PCJUxjsQIIYTKBoeu1ywnVjDwIoXrt9N3AkBBCk1bLDfv7Fj528mBvRUY7NhucV0c79rr9623OMA1adnjGc9sXTx98Zp+U1dW7qwLZ5DA0gqo12MW7O/cteGxs+k5lfno735mltPO96jMBx9YAbs/4HpPoC0vF/Y8PXH/4sxK5k3CdVwUdvBDK3faG7Tb2ulCIgjKTXM+h8W1lavLkstgsGOS8ICcm/hNwiH/kQ3xKlzhBATfZvfttg0OPXrwkMo8/tC2ufHY3jPNGbfthzBIIHP65AsIr8073C8W0KdcXbIYfw/Ckz05HfGqhgR/L/A2wnZ5cwDurXb+G9DCUUYhhP5wzyw3sfecs33yau4ENVcQyB7ZMnHMgwTaHdsHVo4Yv97Y51yOA9aCE5KbOPc5NO7GCWetCngOO8/L3V3bF5UwAGBdc3+2D78Z7HB/Noew8LzF/Ue7Ze+9ufcQa+D9p8vbWcKAwo3zt6/CCZO+Cf0FTQghhBBiy9ALmhBCCCHElqEXNCGEEEKILeNWDto1fMuNKv5ZH9yFzPFXMKitWPM36xrchcoJZ0U3q475eJIcJ123y7tDDs9czO335zTnb80dmETcMy3yzH6bryunLmC5KjlgFifZrZxv8ZsCf8dHlMG5t8AdwAmKQwih27P1vu8EDJYQDHt2wWGBtwE3HVfORONzO4F0tNyjIicwifLpyb5ZPr47pN+swM9bzTgwdTKz+371mh2cHCYg7u2w13F8x4brnp4ccpl9e4zrgut0vbL1c3k2MsvLBbelqoA2Gdg1ur56ZZYxxDGEECJ0bpxJijFQsxU8x8XegGVkQwAABopJREFUsylNPc5htnl+q+7K8m/JQXO3giudQrcw12hduz+gEvfeftssL2bWKfz4b9g9TcBRaufsmu7DRNWl0xcMd2zb7nY4ODRO7DW+lft3qyI319f/n5wcHdG6KrP3X9rh9o/d/WTE4degx4Zux16/trNdfMaWlROSvmND2osNu1H9nm2DmROwXMPk7c2GnxFNBR6pE3iL5wmZr27ofQm+23LB7tgAznO9Yh/vYmQd7vGU+9sCDjBvO8421PtOv0dFxtMrWncT+guaEEIIIcSWoRc0IYQQQogtQy9oQgghhBBbhl7QhBBCCCG2jFtZt5+/siJdccgSa9Ky4mi3z8FxKPnma5b2Nhu7DgcEhBDCcgXhouxBhrK20vFibX+TzlkqrEFOzJxgO/SUMVQvhBCWGyvephkL0DWEjRbOSWSxFTObhmXOBqvHkXMx/DfJrOSYZiyMr0DQLgseoIAC707PkSdvQQ7ScbVhYXYxtaL+069eUJmLib2mx/eswHv6yIZphhBCntkLWm+43UaR3c7sIbedsoAQ5oTb9t2e3dd7jzmQNECAZVVx+5pO7UCGGhruzg4Lqo8f23N/+vRjKlOs4bwa/v9blti2gnJ4CCGMx7a/6PV4QM4ARPj5jOt0Bff5bOYMHvmnBt2wIdSwLnZE6v6eFZ7fgUDjySUHI7/+0vYpOzu87/sQBL5xBmvsnB6b5VMY7BJCCBn1If9h/N9/VXK73YDlnjrPp6ax9Yx9cggh9Ad2XRcGBazWfD/M5nZdp8t9wRoGRl1dj6nM3t7QLC8WvC/sh8q1N9jA9qedNj9TZ1d2/xhyXEbcl56/vjDL7Zzb7d2H98zyYsV96fnZpVmeL3iwDd6PiROen0Kw73zCgw3G4ymtu4n/MO4iIYQQQoh/QugFTQghhBBiy9ALmhBCCCHElnErB+3FyH4DjgN/X83gVa/T4Xe/OLKeQuqEXCZte0iFM6H6Er4lFxTWyl5HAj7NzJnwuoJ9pTH7BXluz2Gx5rooIahz2N6hMugabdbOOWzgu7oz12pV4kTo/C0+w4BK8Pq8SVyz1PoOFatGoYbf9XfZNboNSQuPz3G8SuvAtfu8rxWEMn7+xXOzHDnuAE52PLtil2enb6/53eM7VGbv+MCucNr/f/Rbb5nlPOFrlYAvGJdcZjCwXsfRod137gSSfvrpp2Z5dH1GZdotu6/ZlH0MDLCsO+yjjsBpmc/ZX2y1bINKM27/2JYxGPOfIl6AK67xwq8TCPbdPbAhzG99+136zQp8pNpxljK4Jxqn7ezdt+19CH5SCCHEOJm2e57bEzD7b4vYcZ+m19ahTbhph6Kw99Zywd5tv2vd3NOjoVlOY+6Uq8oez7UTgHt2ZgNT1yvH/1zbVrhBPzVwkHRwgq1LcO1Kp13MYdu43cmcn7HzkfW59p3J0p8/s33c0vGo8dnnKKKhAqcQPfkQQojAUysKDjyPnefPTegvaEIIIYQQW4Ze0IQQQgghtgy9oAkhhBBCbBl6QRNCCCGE2DJuNUjg4btWQN3N2KTr7lm5NOpxQF4LJPJuzpJjCoF9sReiCkL9bM4iZAxSbR/CUJuShcENBMxuNmx3ttr2eAaBxeXlykqN/QHXBY6PKJ2BDqGGgNmYL1e7ZY/HCwVtt+25hwjCKQs+hwbKNI7cWWCosCOJXtEaB7hWGaYBhxDaENJ4cc4y/93Htp3Gia33JIF6CCGEYM/h6dOvqMSbr5+a5ePhkMo8fGAHANz/1gM+vns2LPb4+IjKxND+2x0+5gzuGwxLHk+41p89/wJ+w/dMktr7GoOlQ+Cw2OWKBxKEYI8vCnyfx7GVh3d3+R4pQeDdrD19/ptpPOt327mFSx9B+PXuEbeltGPr9OzyksoECL/eO+YQ2qNTO0gga3n3EcjyTrVjAOm/D1yOOeT1/Nz2/2nK4ax4D3vi+Wphr1e5svdsB/v1EMLFtZXnpwtPjLf9fVVy/7+Y2/PyBp/F8DxKnP6iggfdzBkMN1vaQQILGCSwdp5PMQyQKDd808wu7XVYNbzvdtv2txhcHkIIMTz7vMEudWOPMXIGgP0mfZH+giaEEEIIsWXoBU0IIYQQYsvQC5oQQgghxJYR/cmf/Mm/f2KAEEIIIcQ/YfQXNCGEEEKILUMvaEIIIYQQW4Ze0IQQQgghtgy9oAkhhBBCbBl6QRNCCCGE2DL0giaEEEIIsWXoBU0IIYQQYsvQC5oQQgghxJbx/wD2zrmqWvF1FwAAAABJRU5ErkJggg==\" id=\"image0671ea3c64\" transform=\"scale(1 -1) translate(0 -443.52)\" x=\"7.2\" y=\"-22.318125\" width=\"443.52\" height=\"443.52\"/>\n",
              "   </g>\n",
              "   <g id=\"text_1\">\n",
              "    <!-- Augmentation examples on CIFAR10 (Top: augmented, bottom: original) -->\n",
              "    <g transform=\"translate(12.473438 16.318125) scale(0.12 -0.12)\">\n",
              "     <defs>\n",
              "      <path id=\"DejaVuSans-41\" d=\"M 2188 4044 \n",
              "L 1331 1722 \n",
              "L 3047 1722 \n",
              "L 2188 4044 \n",
              "z\n",
              "M 1831 4666 \n",
              "L 2547 4666 \n",
              "L 4325 0 \n",
              "L 3669 0 \n",
              "L 3244 1197 \n",
              "L 1141 1197 \n",
              "L 716 0 \n",
              "L 50 0 \n",
              "L 1831 4666 \n",
              "z\n",
              "\" transform=\"scale(0.015625)\"/>\n",
              "      <path id=\"DejaVuSans-75\" d=\"M 544 1381 \n",
              "L 544 3500 \n",
              "L 1119 3500 \n",
              "L 1119 1403 \n",
              "Q 1119 906 1312 657 \n",
              "Q 1506 409 1894 409 \n",
              "Q 2359 409 2629 706 \n",
              "Q 2900 1003 2900 1516 \n",
              "L 2900 3500 \n",
              "L 3475 3500 \n",
              "L 3475 0 \n",
              "L 2900 0 \n",
              "L 2900 538 \n",
              "Q 2691 219 2414 64 \n",
              "Q 2138 -91 1772 -91 \n",
              "Q 1169 -91 856 284 \n",
              "Q 544 659 544 1381 \n",
              "z\n",
              "M 1991 3584 \n",
              "L 1991 3584 \n",
              "z\n",
              "\" transform=\"scale(0.015625)\"/>\n",
              "      <path id=\"DejaVuSans-67\" d=\"M 2906 1791 \n",
              "Q 2906 2416 2648 2759 \n",
              "Q 2391 3103 1925 3103 \n",
              "Q 1463 3103 1205 2759 \n",
              "Q 947 2416 947 1791 \n",
              "Q 947 1169 1205 825 \n",
              "Q 1463 481 1925 481 \n",
              "Q 2391 481 2648 825 \n",
              "Q 2906 1169 2906 1791 \n",
              "z\n",
              "M 3481 434 \n",
              "Q 3481 -459 3084 -895 \n",
              "Q 2688 -1331 1869 -1331 \n",
              "Q 1566 -1331 1297 -1286 \n",
              "Q 1028 -1241 775 -1147 \n",
              "L 775 -588 \n",
              "Q 1028 -725 1275 -790 \n",
              "Q 1522 -856 1778 -856 \n",
              "Q 2344 -856 2625 -561 \n",
              "Q 2906 -266 2906 331 \n",
              "L 2906 616 \n",
              "Q 2728 306 2450 153 \n",
              "Q 2172 0 1784 0 \n",
              "Q 1141 0 747 490 \n",
              "Q 353 981 353 1791 \n",
              "Q 353 2603 747 3093 \n",
              "Q 1141 3584 1784 3584 \n",
              "Q 2172 3584 2450 3431 \n",
              "Q 2728 3278 2906 2969 \n",
              "L 2906 3500 \n",
              "L 3481 3500 \n",
              "L 3481 434 \n",
              "z\n",
              "\" transform=\"scale(0.015625)\"/>\n",
              "      <path id=\"DejaVuSans-6d\" d=\"M 3328 2828 \n",
              "Q 3544 3216 3844 3400 \n",
              "Q 4144 3584 4550 3584 \n",
              "Q 5097 3584 5394 3201 \n",
              "Q 5691 2819 5691 2113 \n",
              "L 5691 0 \n",
              "L 5113 0 \n",
              "L 5113 2094 \n",
              "Q 5113 2597 4934 2840 \n",
              "Q 4756 3084 4391 3084 \n",
              "Q 3944 3084 3684 2787 \n",
              "Q 3425 2491 3425 1978 \n",
              "L 3425 0 \n",
              "L 2847 0 \n",
              "L 2847 2094 \n",
              "Q 2847 2600 2669 2842 \n",
              "Q 2491 3084 2119 3084 \n",
              "Q 1678 3084 1418 2786 \n",
              "Q 1159 2488 1159 1978 \n",
              "L 1159 0 \n",
              "L 581 0 \n",
              "L 581 3500 \n",
              "L 1159 3500 \n",
              "L 1159 2956 \n",
              "Q 1356 3278 1631 3431 \n",
              "Q 1906 3584 2284 3584 \n",
              "Q 2666 3584 2933 3390 \n",
              "Q 3200 3197 3328 2828 \n",
              "z\n",
              "\" transform=\"scale(0.015625)\"/>\n",
              "      <path id=\"DejaVuSans-65\" d=\"M 3597 1894 \n",
              "L 3597 1613 \n",
              "L 953 1613 \n",
              "Q 991 1019 1311 708 \n",
              "Q 1631 397 2203 397 \n",
              "Q 2534 397 2845 478 \n",
              "Q 3156 559 3463 722 \n",
              "L 3463 178 \n",
              "Q 3153 47 2828 -22 \n",
              "Q 2503 -91 2169 -91 \n",
              "Q 1331 -91 842 396 \n",
              "Q 353 884 353 1716 \n",
              "Q 353 2575 817 3079 \n",
              "Q 1281 3584 2069 3584 \n",
              "Q 2775 3584 3186 3129 \n",
              "Q 3597 2675 3597 1894 \n",
              "z\n",
              "M 3022 2063 \n",
              "Q 3016 2534 2758 2815 \n",
              "Q 2500 3097 2075 3097 \n",
              "Q 1594 3097 1305 2825 \n",
              "Q 1016 2553 972 2059 \n",
              "L 3022 2063 \n",
              "z\n",
              "\" transform=\"scale(0.015625)\"/>\n",
              "      <path id=\"DejaVuSans-6e\" d=\"M 3513 2113 \n",
              "L 3513 0 \n",
              "L 2938 0 \n",
              "L 2938 2094 \n",
              "Q 2938 2591 2744 2837 \n",
              "Q 2550 3084 2163 3084 \n",
              "Q 1697 3084 1428 2787 \n",
              "Q 1159 2491 1159 1978 \n",
              "L 1159 0 \n",
              "L 581 0 \n",
              "L 581 3500 \n",
              "L 1159 3500 \n",
              "L 1159 2956 \n",
              "Q 1366 3272 1645 3428 \n",
              "Q 1925 3584 2291 3584 \n",
              "Q 2894 3584 3203 3211 \n",
              "Q 3513 2838 3513 2113 \n",
              "z\n",
              "\" transform=\"scale(0.015625)\"/>\n",
              "      <path id=\"DejaVuSans-74\" d=\"M 1172 4494 \n",
              "L 1172 3500 \n",
              "L 2356 3500 \n",
              "L 2356 3053 \n",
              "L 1172 3053 \n",
              "L 1172 1153 \n",
              "Q 1172 725 1289 603 \n",
              "Q 1406 481 1766 481 \n",
              "L 2356 481 \n",
              "L 2356 0 \n",
              "L 1766 0 \n",
              "Q 1100 0 847 248 \n",
              "Q 594 497 594 1153 \n",
              "L 594 3053 \n",
              "L 172 3053 \n",
              "L 172 3500 \n",
              "L 594 3500 \n",
              "L 594 4494 \n",
              "L 1172 4494 \n",
              "z\n",
              "\" transform=\"scale(0.015625)\"/>\n",
              "      <path id=\"DejaVuSans-61\" d=\"M 2194 1759 \n",
              "Q 1497 1759 1228 1600 \n",
              "Q 959 1441 959 1056 \n",
              "Q 959 750 1161 570 \n",
              "Q 1363 391 1709 391 \n",
              "Q 2188 391 2477 730 \n",
              "Q 2766 1069 2766 1631 \n",
              "L 2766 1759 \n",
              "L 2194 1759 \n",
              "z\n",
              "M 3341 1997 \n",
              "L 3341 0 \n",
              "L 2766 0 \n",
              "L 2766 531 \n",
              "Q 2569 213 2275 61 \n",
              "Q 1981 -91 1556 -91 \n",
              "Q 1019 -91 701 211 \n",
              "Q 384 513 384 1019 \n",
              "Q 384 1609 779 1909 \n",
              "Q 1175 2209 1959 2209 \n",
              "L 2766 2209 \n",
              "L 2766 2266 \n",
              "Q 2766 2663 2505 2880 \n",
              "Q 2244 3097 1772 3097 \n",
              "Q 1472 3097 1187 3025 \n",
              "Q 903 2953 641 2809 \n",
              "L 641 3341 \n",
              "Q 956 3463 1253 3523 \n",
              "Q 1550 3584 1831 3584 \n",
              "Q 2591 3584 2966 3190 \n",
              "Q 3341 2797 3341 1997 \n",
              "z\n",
              "\" transform=\"scale(0.015625)\"/>\n",
              "      <path id=\"DejaVuSans-69\" d=\"M 603 3500 \n",
              "L 1178 3500 \n",
              "L 1178 0 \n",
              "L 603 0 \n",
              "L 603 3500 \n",
              "z\n",
              "M 603 4863 \n",
              "L 1178 4863 \n",
              "L 1178 4134 \n",
              "L 603 4134 \n",
              "L 603 4863 \n",
              "z\n",
              "\" transform=\"scale(0.015625)\"/>\n",
              "      <path id=\"DejaVuSans-6f\" d=\"M 1959 3097 \n",
              "Q 1497 3097 1228 2736 \n",
              "Q 959 2375 959 1747 \n",
              "Q 959 1119 1226 758 \n",
              "Q 1494 397 1959 397 \n",
              "Q 2419 397 2687 759 \n",
              "Q 2956 1122 2956 1747 \n",
              "Q 2956 2369 2687 2733 \n",
              "Q 2419 3097 1959 3097 \n",
              "z\n",
              "M 1959 3584 \n",
              "Q 2709 3584 3137 3096 \n",
              "Q 3566 2609 3566 1747 \n",
              "Q 3566 888 3137 398 \n",
              "Q 2709 -91 1959 -91 \n",
              "Q 1206 -91 779 398 \n",
              "Q 353 888 353 1747 \n",
              "Q 353 2609 779 3096 \n",
              "Q 1206 3584 1959 3584 \n",
              "z\n",
              "\" transform=\"scale(0.015625)\"/>\n",
              "      <path id=\"DejaVuSans-20\" transform=\"scale(0.015625)\"/>\n",
              "      <path id=\"DejaVuSans-78\" d=\"M 3513 3500 \n",
              "L 2247 1797 \n",
              "L 3578 0 \n",
              "L 2900 0 \n",
              "L 1881 1375 \n",
              "L 863 0 \n",
              "L 184 0 \n",
              "L 1544 1831 \n",
              "L 300 3500 \n",
              "L 978 3500 \n",
              "L 1906 2253 \n",
              "L 2834 3500 \n",
              "L 3513 3500 \n",
              "z\n",
              "\" transform=\"scale(0.015625)\"/>\n",
              "      <path id=\"DejaVuSans-70\" d=\"M 1159 525 \n",
              "L 1159 -1331 \n",
              "L 581 -1331 \n",
              "L 581 3500 \n",
              "L 1159 3500 \n",
              "L 1159 2969 \n",
              "Q 1341 3281 1617 3432 \n",
              "Q 1894 3584 2278 3584 \n",
              "Q 2916 3584 3314 3078 \n",
              "Q 3713 2572 3713 1747 \n",
              "Q 3713 922 3314 415 \n",
              "Q 2916 -91 2278 -91 \n",
              "Q 1894 -91 1617 61 \n",
              "Q 1341 213 1159 525 \n",
              "z\n",
              "M 3116 1747 \n",
              "Q 3116 2381 2855 2742 \n",
              "Q 2594 3103 2138 3103 \n",
              "Q 1681 3103 1420 2742 \n",
              "Q 1159 2381 1159 1747 \n",
              "Q 1159 1113 1420 752 \n",
              "Q 1681 391 2138 391 \n",
              "Q 2594 391 2855 752 \n",
              "Q 3116 1113 3116 1747 \n",
              "z\n",
              "\" transform=\"scale(0.015625)\"/>\n",
              "      <path id=\"DejaVuSans-6c\" d=\"M 603 4863 \n",
              "L 1178 4863 \n",
              "L 1178 0 \n",
              "L 603 0 \n",
              "L 603 4863 \n",
              "z\n",
              "\" transform=\"scale(0.015625)\"/>\n",
              "      <path id=\"DejaVuSans-73\" d=\"M 2834 3397 \n",
              "L 2834 2853 \n",
              "Q 2591 2978 2328 3040 \n",
              "Q 2066 3103 1784 3103 \n",
              "Q 1356 3103 1142 2972 \n",
              "Q 928 2841 928 2578 \n",
              "Q 928 2378 1081 2264 \n",
              "Q 1234 2150 1697 2047 \n",
              "L 1894 2003 \n",
              "Q 2506 1872 2764 1633 \n",
              "Q 3022 1394 3022 966 \n",
              "Q 3022 478 2636 193 \n",
              "Q 2250 -91 1575 -91 \n",
              "Q 1294 -91 989 -36 \n",
              "Q 684 19 347 128 \n",
              "L 347 722 \n",
              "Q 666 556 975 473 \n",
              "Q 1284 391 1588 391 \n",
              "Q 1994 391 2212 530 \n",
              "Q 2431 669 2431 922 \n",
              "Q 2431 1156 2273 1281 \n",
              "Q 2116 1406 1581 1522 \n",
              "L 1381 1569 \n",
              "Q 847 1681 609 1914 \n",
              "Q 372 2147 372 2553 \n",
              "Q 372 3047 722 3315 \n",
              "Q 1072 3584 1716 3584 \n",
              "Q 2034 3584 2315 3537 \n",
              "Q 2597 3491 2834 3397 \n",
              "z\n",
              "\" transform=\"scale(0.015625)\"/>\n",
              "      <path id=\"DejaVuSans-43\" d=\"M 4122 4306 \n",
              "L 4122 3641 \n",
              "Q 3803 3938 3442 4084 \n",
              "Q 3081 4231 2675 4231 \n",
              "Q 1875 4231 1450 3742 \n",
              "Q 1025 3253 1025 2328 \n",
              "Q 1025 1406 1450 917 \n",
              "Q 1875 428 2675 428 \n",
              "Q 3081 428 3442 575 \n",
              "Q 3803 722 4122 1019 \n",
              "L 4122 359 \n",
              "Q 3791 134 3420 21 \n",
              "Q 3050 -91 2638 -91 \n",
              "Q 1578 -91 968 557 \n",
              "Q 359 1206 359 2328 \n",
              "Q 359 3453 968 4101 \n",
              "Q 1578 4750 2638 4750 \n",
              "Q 3056 4750 3426 4639 \n",
              "Q 3797 4528 4122 4306 \n",
              "z\n",
              "\" transform=\"scale(0.015625)\"/>\n",
              "      <path id=\"DejaVuSans-49\" d=\"M 628 4666 \n",
              "L 1259 4666 \n",
              "L 1259 0 \n",
              "L 628 0 \n",
              "L 628 4666 \n",
              "z\n",
              "\" transform=\"scale(0.015625)\"/>\n",
              "      <path id=\"DejaVuSans-46\" d=\"M 628 4666 \n",
              "L 3309 4666 \n",
              "L 3309 4134 \n",
              "L 1259 4134 \n",
              "L 1259 2759 \n",
              "L 3109 2759 \n",
              "L 3109 2228 \n",
              "L 1259 2228 \n",
              "L 1259 0 \n",
              "L 628 0 \n",
              "L 628 4666 \n",
              "z\n",
              "\" transform=\"scale(0.015625)\"/>\n",
              "      <path id=\"DejaVuSans-52\" d=\"M 2841 2188 \n",
              "Q 3044 2119 3236 1894 \n",
              "Q 3428 1669 3622 1275 \n",
              "L 4263 0 \n",
              "L 3584 0 \n",
              "L 2988 1197 \n",
              "Q 2756 1666 2539 1819 \n",
              "Q 2322 1972 1947 1972 \n",
              "L 1259 1972 \n",
              "L 1259 0 \n",
              "L 628 0 \n",
              "L 628 4666 \n",
              "L 2053 4666 \n",
              "Q 2853 4666 3247 4331 \n",
              "Q 3641 3997 3641 3322 \n",
              "Q 3641 2881 3436 2590 \n",
              "Q 3231 2300 2841 2188 \n",
              "z\n",
              "M 1259 4147 \n",
              "L 1259 2491 \n",
              "L 2053 2491 \n",
              "Q 2509 2491 2742 2702 \n",
              "Q 2975 2913 2975 3322 \n",
              "Q 2975 3731 2742 3939 \n",
              "Q 2509 4147 2053 4147 \n",
              "L 1259 4147 \n",
              "z\n",
              "\" transform=\"scale(0.015625)\"/>\n",
              "      <path id=\"DejaVuSans-31\" d=\"M 794 531 \n",
              "L 1825 531 \n",
              "L 1825 4091 \n",
              "L 703 3866 \n",
              "L 703 4441 \n",
              "L 1819 4666 \n",
              "L 2450 4666 \n",
              "L 2450 531 \n",
              "L 3481 531 \n",
              "L 3481 0 \n",
              "L 794 0 \n",
              "L 794 531 \n",
              "z\n",
              "\" transform=\"scale(0.015625)\"/>\n",
              "      <path id=\"DejaVuSans-30\" d=\"M 2034 4250 \n",
              "Q 1547 4250 1301 3770 \n",
              "Q 1056 3291 1056 2328 \n",
              "Q 1056 1369 1301 889 \n",
              "Q 1547 409 2034 409 \n",
              "Q 2525 409 2770 889 \n",
              "Q 3016 1369 3016 2328 \n",
              "Q 3016 3291 2770 3770 \n",
              "Q 2525 4250 2034 4250 \n",
              "z\n",
              "M 2034 4750 \n",
              "Q 2819 4750 3233 4129 \n",
              "Q 3647 3509 3647 2328 \n",
              "Q 3647 1150 3233 529 \n",
              "Q 2819 -91 2034 -91 \n",
              "Q 1250 -91 836 529 \n",
              "Q 422 1150 422 2328 \n",
              "Q 422 3509 836 4129 \n",
              "Q 1250 4750 2034 4750 \n",
              "z\n",
              "\" transform=\"scale(0.015625)\"/>\n",
              "      <path id=\"DejaVuSans-28\" d=\"M 1984 4856 \n",
              "Q 1566 4138 1362 3434 \n",
              "Q 1159 2731 1159 2009 \n",
              "Q 1159 1288 1364 580 \n",
              "Q 1569 -128 1984 -844 \n",
              "L 1484 -844 \n",
              "Q 1016 -109 783 600 \n",
              "Q 550 1309 550 2009 \n",
              "Q 550 2706 781 3412 \n",
              "Q 1013 4119 1484 4856 \n",
              "L 1984 4856 \n",
              "z\n",
              "\" transform=\"scale(0.015625)\"/>\n",
              "      <path id=\"DejaVuSans-54\" d=\"M -19 4666 \n",
              "L 3928 4666 \n",
              "L 3928 4134 \n",
              "L 2272 4134 \n",
              "L 2272 0 \n",
              "L 1638 0 \n",
              "L 1638 4134 \n",
              "L -19 4134 \n",
              "L -19 4666 \n",
              "z\n",
              "\" transform=\"scale(0.015625)\"/>\n",
              "      <path id=\"DejaVuSans-3a\" d=\"M 750 794 \n",
              "L 1409 794 \n",
              "L 1409 0 \n",
              "L 750 0 \n",
              "L 750 794 \n",
              "z\n",
              "M 750 3309 \n",
              "L 1409 3309 \n",
              "L 1409 2516 \n",
              "L 750 2516 \n",
              "L 750 3309 \n",
              "z\n",
              "\" transform=\"scale(0.015625)\"/>\n",
              "      <path id=\"DejaVuSans-64\" d=\"M 2906 2969 \n",
              "L 2906 4863 \n",
              "L 3481 4863 \n",
              "L 3481 0 \n",
              "L 2906 0 \n",
              "L 2906 525 \n",
              "Q 2725 213 2448 61 \n",
              "Q 2172 -91 1784 -91 \n",
              "Q 1150 -91 751 415 \n",
              "Q 353 922 353 1747 \n",
              "Q 353 2572 751 3078 \n",
              "Q 1150 3584 1784 3584 \n",
              "Q 2172 3584 2448 3432 \n",
              "Q 2725 3281 2906 2969 \n",
              "z\n",
              "M 947 1747 \n",
              "Q 947 1113 1208 752 \n",
              "Q 1469 391 1925 391 \n",
              "Q 2381 391 2643 752 \n",
              "Q 2906 1113 2906 1747 \n",
              "Q 2906 2381 2643 2742 \n",
              "Q 2381 3103 1925 3103 \n",
              "Q 1469 3103 1208 2742 \n",
              "Q 947 2381 947 1747 \n",
              "z\n",
              "\" transform=\"scale(0.015625)\"/>\n",
              "      <path id=\"DejaVuSans-2c\" d=\"M 750 794 \n",
              "L 1409 794 \n",
              "L 1409 256 \n",
              "L 897 -744 \n",
              "L 494 -744 \n",
              "L 750 256 \n",
              "L 750 794 \n",
              "z\n",
              "\" transform=\"scale(0.015625)\"/>\n",
              "      <path id=\"DejaVuSans-62\" d=\"M 3116 1747 \n",
              "Q 3116 2381 2855 2742 \n",
              "Q 2594 3103 2138 3103 \n",
              "Q 1681 3103 1420 2742 \n",
              "Q 1159 2381 1159 1747 \n",
              "Q 1159 1113 1420 752 \n",
              "Q 1681 391 2138 391 \n",
              "Q 2594 391 2855 752 \n",
              "Q 3116 1113 3116 1747 \n",
              "z\n",
              "M 1159 2969 \n",
              "Q 1341 3281 1617 3432 \n",
              "Q 1894 3584 2278 3584 \n",
              "Q 2916 3584 3314 3078 \n",
              "Q 3713 2572 3713 1747 \n",
              "Q 3713 922 3314 415 \n",
              "Q 2916 -91 2278 -91 \n",
              "Q 1894 -91 1617 61 \n",
              "Q 1341 213 1159 525 \n",
              "L 1159 0 \n",
              "L 581 0 \n",
              "L 581 4863 \n",
              "L 1159 4863 \n",
              "L 1159 2969 \n",
              "z\n",
              "\" transform=\"scale(0.015625)\"/>\n",
              "      <path id=\"DejaVuSans-72\" d=\"M 2631 2963 \n",
              "Q 2534 3019 2420 3045 \n",
              "Q 2306 3072 2169 3072 \n",
              "Q 1681 3072 1420 2755 \n",
              "Q 1159 2438 1159 1844 \n",
              "L 1159 0 \n",
              "L 581 0 \n",
              "L 581 3500 \n",
              "L 1159 3500 \n",
              "L 1159 2956 \n",
              "Q 1341 3275 1631 3429 \n",
              "Q 1922 3584 2338 3584 \n",
              "Q 2397 3584 2469 3576 \n",
              "Q 2541 3569 2628 3553 \n",
              "L 2631 2963 \n",
              "z\n",
              "\" transform=\"scale(0.015625)\"/>\n",
              "      <path id=\"DejaVuSans-29\" d=\"M 513 4856 \n",
              "L 1013 4856 \n",
              "Q 1481 4119 1714 3412 \n",
              "Q 1947 2706 1947 2009 \n",
              "Q 1947 1309 1714 600 \n",
              "Q 1481 -109 1013 -844 \n",
              "L 513 -844 \n",
              "Q 928 -128 1133 580 \n",
              "Q 1338 1288 1338 2009 \n",
              "Q 1338 2731 1133 3434 \n",
              "Q 928 4138 513 4856 \n",
              "z\n",
              "\" transform=\"scale(0.015625)\"/>\n",
              "     </defs>\n",
              "     <use xlink:href=\"#DejaVuSans-41\"/>\n",
              "     <use xlink:href=\"#DejaVuSans-75\" x=\"68.408203\"/>\n",
              "     <use xlink:href=\"#DejaVuSans-67\" x=\"131.787109\"/>\n",
              "     <use xlink:href=\"#DejaVuSans-6d\" x=\"195.263672\"/>\n",
              "     <use xlink:href=\"#DejaVuSans-65\" x=\"292.675781\"/>\n",
              "     <use xlink:href=\"#DejaVuSans-6e\" x=\"354.199219\"/>\n",
              "     <use xlink:href=\"#DejaVuSans-74\" x=\"417.578125\"/>\n",
              "     <use xlink:href=\"#DejaVuSans-61\" x=\"456.787109\"/>\n",
              "     <use xlink:href=\"#DejaVuSans-74\" x=\"518.066406\"/>\n",
              "     <use xlink:href=\"#DejaVuSans-69\" x=\"557.275391\"/>\n",
              "     <use xlink:href=\"#DejaVuSans-6f\" x=\"585.058594\"/>\n",
              "     <use xlink:href=\"#DejaVuSans-6e\" x=\"646.240234\"/>\n",
              "     <use xlink:href=\"#DejaVuSans-20\" x=\"709.619141\"/>\n",
              "     <use xlink:href=\"#DejaVuSans-65\" x=\"741.40625\"/>\n",
              "     <use xlink:href=\"#DejaVuSans-78\" x=\"801.179688\"/>\n",
              "     <use xlink:href=\"#DejaVuSans-61\" x=\"860.359375\"/>\n",
              "     <use xlink:href=\"#DejaVuSans-6d\" x=\"921.638672\"/>\n",
              "     <use xlink:href=\"#DejaVuSans-70\" x=\"1019.050781\"/>\n",
              "     <use xlink:href=\"#DejaVuSans-6c\" x=\"1082.527344\"/>\n",
              "     <use xlink:href=\"#DejaVuSans-65\" x=\"1110.310547\"/>\n",
              "     <use xlink:href=\"#DejaVuSans-73\" x=\"1171.833984\"/>\n",
              "     <use xlink:href=\"#DejaVuSans-20\" x=\"1223.933594\"/>\n",
              "     <use xlink:href=\"#DejaVuSans-6f\" x=\"1255.720703\"/>\n",
              "     <use xlink:href=\"#DejaVuSans-6e\" x=\"1316.902344\"/>\n",
              "     <use xlink:href=\"#DejaVuSans-20\" x=\"1380.28125\"/>\n",
              "     <use xlink:href=\"#DejaVuSans-43\" x=\"1412.068359\"/>\n",
              "     <use xlink:href=\"#DejaVuSans-49\" x=\"1481.892578\"/>\n",
              "     <use xlink:href=\"#DejaVuSans-46\" x=\"1511.384766\"/>\n",
              "     <use xlink:href=\"#DejaVuSans-41\" x=\"1559.779297\"/>\n",
              "     <use xlink:href=\"#DejaVuSans-52\" x=\"1628.1875\"/>\n",
              "     <use xlink:href=\"#DejaVuSans-31\" x=\"1697.669922\"/>\n",
              "     <use xlink:href=\"#DejaVuSans-30\" x=\"1761.292969\"/>\n",
              "     <use xlink:href=\"#DejaVuSans-20\" x=\"1824.916016\"/>\n",
              "     <use xlink:href=\"#DejaVuSans-28\" x=\"1856.703125\"/>\n",
              "     <use xlink:href=\"#DejaVuSans-54\" x=\"1895.716797\"/>\n",
              "     <use xlink:href=\"#DejaVuSans-6f\" x=\"1939.800781\"/>\n",
              "     <use xlink:href=\"#DejaVuSans-70\" x=\"2000.982422\"/>\n",
              "     <use xlink:href=\"#DejaVuSans-3a\" x=\"2064.458984\"/>\n",
              "     <use xlink:href=\"#DejaVuSans-20\" x=\"2098.150391\"/>\n",
              "     <use xlink:href=\"#DejaVuSans-61\" x=\"2129.9375\"/>\n",
              "     <use xlink:href=\"#DejaVuSans-75\" x=\"2191.216797\"/>\n",
              "     <use xlink:href=\"#DejaVuSans-67\" x=\"2254.595703\"/>\n",
              "     <use xlink:href=\"#DejaVuSans-6d\" x=\"2318.072266\"/>\n",
              "     <use xlink:href=\"#DejaVuSans-65\" x=\"2415.484375\"/>\n",
              "     <use xlink:href=\"#DejaVuSans-6e\" x=\"2477.007812\"/>\n",
              "     <use xlink:href=\"#DejaVuSans-74\" x=\"2540.386719\"/>\n",
              "     <use xlink:href=\"#DejaVuSans-65\" x=\"2579.595703\"/>\n",
              "     <use xlink:href=\"#DejaVuSans-64\" x=\"2641.119141\"/>\n",
              "     <use xlink:href=\"#DejaVuSans-2c\" x=\"2704.595703\"/>\n",
              "     <use xlink:href=\"#DejaVuSans-20\" x=\"2736.382812\"/>\n",
              "     <use xlink:href=\"#DejaVuSans-62\" x=\"2768.169922\"/>\n",
              "     <use xlink:href=\"#DejaVuSans-6f\" x=\"2831.646484\"/>\n",
              "     <use xlink:href=\"#DejaVuSans-74\" x=\"2892.828125\"/>\n",
              "     <use xlink:href=\"#DejaVuSans-74\" x=\"2932.037109\"/>\n",
              "     <use xlink:href=\"#DejaVuSans-6f\" x=\"2971.246094\"/>\n",
              "     <use xlink:href=\"#DejaVuSans-6d\" x=\"3032.427734\"/>\n",
              "     <use xlink:href=\"#DejaVuSans-3a\" x=\"3129.839844\"/>\n",
              "     <use xlink:href=\"#DejaVuSans-20\" x=\"3163.53125\"/>\n",
              "     <use xlink:href=\"#DejaVuSans-6f\" x=\"3195.318359\"/>\n",
              "     <use xlink:href=\"#DejaVuSans-72\" x=\"3256.5\"/>\n",
              "     <use xlink:href=\"#DejaVuSans-69\" x=\"3297.613281\"/>\n",
              "     <use xlink:href=\"#DejaVuSans-67\" x=\"3325.396484\"/>\n",
              "     <use xlink:href=\"#DejaVuSans-69\" x=\"3388.873047\"/>\n",
              "     <use xlink:href=\"#DejaVuSans-6e\" x=\"3416.65625\"/>\n",
              "     <use xlink:href=\"#DejaVuSans-61\" x=\"3480.035156\"/>\n",
              "     <use xlink:href=\"#DejaVuSans-6c\" x=\"3541.314453\"/>\n",
              "     <use xlink:href=\"#DejaVuSans-29\" x=\"3569.097656\"/>\n",
              "    </g>\n",
              "   </g>\n",
              "  </g>\n",
              " </g>\n",
              " <defs>\n",
              "  <clipPath id=\"p94cdd526f4\">\n",
              "   <rect x=\"7.2\" y=\"22.318125\" width=\"443.52\" height=\"443.52\"/>\n",
              "  </clipPath>\n",
              " </defs>\n",
              "</svg>\n"
            ],
            "text/plain": [
              "<Figure size 800x800 with 1 Axes>"
            ]
          },
          "metadata": {},
          "output_type": "display_data"
        }
      ],
      "source": [
        "NUM_IMAGES = 8\n",
        "images = [train_dataset[idx][0] for idx in range(NUM_IMAGES)]\n",
        "orig_images = [Image.fromarray(train_dataset.data[idx]) for idx in range(NUM_IMAGES)]\n",
        "orig_images = [test_transform(img) for img in orig_images]\n",
        "\n",
        "imgs = np.stack(images + orig_images, axis=0)\n",
        "imgs = torch.from_numpy(imgs).permute(0, 3, 1, 2)\n",
        "img_grid = torchvision.utils.make_grid(imgs, nrow=4, normalize=True, pad_value=0.5)\n",
        "img_grid = img_grid.permute(1, 2, 0)\n",
        "\n",
        "plt.figure(figsize=(8,8))\n",
        "plt.title(\"Augmentation examples on CIFAR10 (Top: augmented, bottom: original)\")\n",
        "plt.imshow(img_grid)\n",
        "plt.axis('off')\n",
        "plt.show()\n",
        "plt.close()"
      ]
    },
    {
      "cell_type": "markdown",
      "metadata": {
        "id": "aknedK-w1TRf"
      },
      "source": [
        "## Trainer Module\n",
        "\n",
        "In the [PyTorch version](https://uvadlc-notebooks.readthedocs.io/en/latest/tutorial_notebooks/tutorial5/Inception_ResNet_DenseNet.html) of this tutorial, we would now introduce the framework [PyTorch Lightning](https://www.pytorchlightning.ai/) which simplifies the overall training of a model. So far (June 2022), there is no clear equivalent of it for JAX. Some basic training functionalities are implemented in `flax.training` ([documentation](https://flax.readthedocs.io/en/latest/flax.training.html)), and predefined training modules are implemented in `trax` ([documentation](https://trax-ml.readthedocs.io/en/latest/)), but neither provide a complete, flexible training package yet like PyTorch Lightning. Hence, we need to write our own small training loop.\n",
        "\n",
        "For this, we take inspiration from PyTorch Lightning and build a trainer module/object with the following main functionalities:\n",
        "\n",
        "1. *Storing model and parameters*: In order to train multiple models with different hyperparameters, the trainer module creates an instance of the model class, and keeps the parameters in the same class. This way, we can easily apply a model with its parameters on new inputs.\n",
        "2. *Initialization of model and training state*: During initialization of the trainer, we initialize the model parameters and a new train state, which includes the optimizer and possible learning rate schedulers.\n",
        "3. *Training, validation and test loops*: Similar to PyTorch Lightning, we implement simple training, validation and test loops, where subclasses of this trainer could overwrite the respective training, validation or test steps. Since in this tutorial, all models will have the same objective, i.e. classification on CIFAR10, we will pre-specify them in the trainer module below.\n",
        "4. *Logging, saving and loading of models*: To keep track of the training, we implement functionalities to log the training progress and save the best model on the validation set. Afterwards, this model can be loaded from the disk.\n",
        "\n",
        "Before starting to implement a trainer module with these functionalities, we need to take one prior step. The networks we will implement in this tutorial use BatchNormalization, which carries an exponential average of the prior batch statistics (mean and std) to apply during evaluation. In PyTorch, this is simply tracked by an object attribute of an object of the class `nn.BatchNorm2d`, but in JAX, we only work with functions. Hence, we need to take care of the batch statistics ourselves, similar to the parameters, and enter them during every forward pass. To simplify this a little, we overwrite the `train_state.TrainState` class of Flax by adding a field for the batch statistics:"
      ]
    },
    {
      "cell_type": "code",
      "execution_count": 8,
      "metadata": {
        "id": "6aFx5_P41TRg"
      },
      "outputs": [],
      "source": [
        "class TrainState(train_state.TrainState):\n",
        "    # A simple extension of TrainState to also include batch statistics\n",
        "    batch_stats: Any"
      ]
    },
    {
      "cell_type": "markdown",
      "metadata": {
        "id": "iZukT5MS1TRg"
      },
      "source": [
        "With this, the training state contains both the training parameters and the batch statistics, which makes it easier to keep everything in one place.\n",
        "\n",
        "Now that the batch statistics are sorted out, we can implement our full training module:"
      ]
    },
    {
      "cell_type": "code",
      "execution_count": 10,
      "metadata": {
        "id": "lUshOMcx1TRg"
      },
      "outputs": [],
      "source": [
        "class TrainerModule:\n",
        "\n",
        "    def __init__(self,\n",
        "                 model_name : str,\n",
        "                 model_class : nn.Module,\n",
        "                 model_hparams : dict,\n",
        "                 optimizer_name : str,\n",
        "                 optimizer_hparams : dict,\n",
        "                 exmp_imgs : Any,\n",
        "                 seed=42):\n",
        "        \"\"\"\n",
        "        Module for summarizing all training functionalities for classification on CIFAR10.\n",
        "\n",
        "        Inputs:\n",
        "            model_name - String of the class name, used for logging and saving\n",
        "            model_class - Class implementing the neural network\n",
        "            model_hparams - Hyperparameters of the model, used as input to model constructor\n",
        "            optimizer_name - String of the optimizer name, supporting ['sgd', 'adam', 'adamw']\n",
        "            optimizer_hparams - Hyperparameters of the optimizer, including learning rate as 'lr'\n",
        "            exmp_imgs - Example imgs, used as input to initialize the model\n",
        "            seed - Seed to use in the model initialization\n",
        "        \"\"\"\n",
        "        super().__init__()\n",
        "        self.model_name = model_name\n",
        "        self.model_class = model_class\n",
        "        self.model_hparams = model_hparams\n",
        "        self.optimizer_name = optimizer_name\n",
        "        self.optimizer_hparams = optimizer_hparams\n",
        "        self.seed = seed\n",
        "        # Create empty model. Note: no parameters yet\n",
        "        self.model = self.model_class(**self.model_hparams)\n",
        "        # Prepare logging\n",
        "        self.log_dir = os.path.join(CHECKPOINT_PATH, self.model_name)\n",
        "        self.logger = SummaryWriter(log_dir=self.log_dir)\n",
        "        # Create jitted training and eval functions\n",
        "        self.create_functions()\n",
        "        # Initialize model\n",
        "        self.init_model(exmp_imgs)\n",
        "\n",
        "    def create_functions(self):\n",
        "        # Function to calculate the classification loss and accuracy for a model\n",
        "        def calculate_loss(params, batch_stats, batch, train):\n",
        "            imgs, labels = batch\n",
        "            # Run model. During training, we need to update the BatchNorm statistics.\n",
        "            outs = self.model.apply({'params': params, 'batch_stats': batch_stats},\n",
        "                                    imgs,\n",
        "                                    train=train,\n",
        "                                    mutable=['batch_stats'] if train else False)\n",
        "            logits, new_model_state = outs if train else (outs, None)\n",
        "            loss = optax.softmax_cross_entropy_with_integer_labels(logits, labels).mean()\n",
        "            acc = (logits.argmax(axis=-1) == labels).mean()\n",
        "            return loss, (acc, new_model_state)\n",
        "        # Training function\n",
        "        def train_step(state, batch):\n",
        "            loss_fn = lambda params: calculate_loss(params, state.batch_stats, batch, train=True)\n",
        "            # Get loss, gradients for loss, and other outputs of loss function\n",
        "            ret, grads = jax.value_and_grad(loss_fn, has_aux=True)(state.params)\n",
        "            loss, acc, new_model_state = ret[0], *ret[1]\n",
        "            # Update parameters and batch statistics\n",
        "            state = state.apply_gradients(grads=grads, batch_stats=new_model_state['batch_stats'])\n",
        "            return state, loss, acc\n",
        "        # Eval function\n",
        "        def eval_step(state, batch):\n",
        "            # Return the accuracy for a single batch\n",
        "            _, (acc, _) = calculate_loss(state.params, state.batch_stats, batch, train=False)\n",
        "            return acc\n",
        "        # jit for efficiency\n",
        "        self.train_step = jax.jit(train_step)\n",
        "        self.eval_step = jax.jit(eval_step)\n",
        "\n",
        "    def init_model(self, exmp_imgs):\n",
        "        # Initialize model\n",
        "        init_rng = jax.random.PRNGKey(self.seed)\n",
        "        variables = self.model.init(init_rng, exmp_imgs, train=True)\n",
        "        self.init_params, self.init_batch_stats = variables['params'], variables['batch_stats']\n",
        "        self.state = None\n",
        "\n",
        "    def init_optimizer(self, num_epochs, num_steps_per_epoch):\n",
        "        # Initialize learning rate schedule and optimizer\n",
        "        if self.optimizer_name.lower() == 'adam':\n",
        "            opt_class = optax.adam\n",
        "        elif self.optimizer_name.lower() == 'adamw':\n",
        "            opt_class = optax.adamw\n",
        "        elif self.optimizer_name.lower() == 'sgd':\n",
        "            opt_class = optax.sgd\n",
        "        else:\n",
        "            assert False, f'Unknown optimizer \"{opt_class}\"'\n",
        "        # We decrease the learning rate by a factor of 0.1 after 60% and 85% of the training\n",
        "        lr_schedule = optax.piecewise_constant_schedule(\n",
        "            init_value=self.optimizer_hparams.pop('lr'),\n",
        "            boundaries_and_scales=\n",
        "                {int(num_steps_per_epoch*num_epochs*0.6): 0.1,\n",
        "                 int(num_steps_per_epoch*num_epochs*0.85): 0.1}\n",
        "        )\n",
        "        # Clip gradients at max value, and evt. apply weight decay\n",
        "        transf = [optax.clip(1.0)]\n",
        "        if opt_class == optax.sgd and 'weight_decay' in self.optimizer_hparams:  # wd is integrated in adamw\n",
        "            transf.append(optax.add_decayed_weights(self.optimizer_hparams.pop('weight_decay')))\n",
        "        optimizer = optax.chain(\n",
        "            *transf,\n",
        "            opt_class(lr_schedule, **self.optimizer_hparams)\n",
        "        )\n",
        "        # Initialize training state\n",
        "        self.state = TrainState.create(apply_fn=self.model.apply,\n",
        "                                       params=self.init_params if self.state is None else self.state.params,\n",
        "                                       batch_stats=self.init_batch_stats if self.state is None else self.state.batch_stats,\n",
        "                                       tx=optimizer)\n",
        "\n",
        "    def train_model(self, train_loader, val_loader, num_epochs=200):\n",
        "        # Train model for defined number of epochs\n",
        "        # We first need to create optimizer and the scheduler for the given number of epochs\n",
        "        self.init_optimizer(num_epochs, len(train_loader))\n",
        "        # Track best eval accuracy\n",
        "        best_eval = 0.0\n",
        "        for epoch_idx in tqdm(range(1, num_epochs+1)):\n",
        "            self.train_epoch(train_loader, epoch=epoch_idx)\n",
        "            if epoch_idx % 2 == 0:\n",
        "                eval_acc = self.eval_model(val_loader)\n",
        "                self.logger.add_scalar('val/acc', eval_acc, global_step=epoch_idx)\n",
        "                if eval_acc >= best_eval:\n",
        "                    best_eval = eval_acc\n",
        "                    self.save_model(step=epoch_idx)\n",
        "                self.logger.flush()\n",
        "\n",
        "    def train_epoch(self, train_loader, epoch):\n",
        "        # Train model for one epoch, and log avg loss and accuracy\n",
        "        metrics = defaultdict(list)\n",
        "        for batch in tqdm(train_loader, desc='Training', leave=False):\n",
        "            self.state, loss, acc = self.train_step(self.state, batch)\n",
        "            metrics['loss'].append(loss)\n",
        "            metrics['acc'].append(acc)\n",
        "        for key in metrics:\n",
        "            avg_val = np.stack(jax.device_get(metrics[key])).mean()\n",
        "            self.logger.add_scalar('train/'+key, avg_val, global_step=epoch)\n",
        "\n",
        "    def eval_model(self, data_loader):\n",
        "        # Test model on all images of a data loader and return avg loss\n",
        "        correct_class, count = 0, 0\n",
        "        for batch in data_loader:\n",
        "            acc = self.eval_step(self.state, batch)\n",
        "            correct_class += acc * batch[0].shape[0]\n",
        "            count += batch[0].shape[0]\n",
        "        eval_acc = (correct_class / count).item()\n",
        "        return eval_acc\n",
        "\n",
        "    def save_model(self, step=0):\n",
        "        # Save current model at certain training iteration\n",
        "        checkpoints.save_checkpoint(ckpt_dir=self.log_dir,\n",
        "                                    target={'params': self.state.params,\n",
        "                                            'batch_stats': self.state.batch_stats},\n",
        "                                    step=step,\n",
        "                                    overwrite=False)\n",
        "\n",
        "    def load_model(self, pretrained=False):\n",
        "        # Load model. We use different checkpoint for pretrained models\n",
        "        if not pretrained:\n",
        "            state_dict = checkpoints.restore_checkpoint(ckpt_dir=self.log_dir, target=None)\n",
        "        else:\n",
        "            state_dict = checkpoints.restore_checkpoint(ckpt_dir=os.path.join(CHECKPOINT_PATH, f'{self.model_name}.ckpt'), target=None)\n",
        "        self.state = TrainState.create(apply_fn=self.model.apply,\n",
        "                                       params=state_dict['params'],\n",
        "                                       batch_stats=state_dict['batch_stats'],\n",
        "                                       tx=self.state.tx if self.state else optax.sgd(0.1)   # Default optimizer\n",
        "                                      )\n",
        "\n",
        "    def checkpoint_exists(self):\n",
        "        # Check whether a pretrained model exist for this autoencoder\n",
        "        return os.path.isfile(os.path.join(CHECKPOINT_PATH, f'{self.model_name}.ckpt'))"
      ]
    },
    {
      "cell_type": "markdown",
      "metadata": {
        "id": "Dd4vD_4J1TRg"
      },
      "source": [
        "Next, we can use this trainer module to create a compact training function:"
      ]
    },
    {
      "cell_type": "code",
      "execution_count": 11,
      "metadata": {
        "id": "IdQFDdk81TRg"
      },
      "outputs": [],
      "source": [
        "def train_classifier(*args, num_epochs=200, **kwargs):\n",
        "    # Create a trainer module with specified hyperparameters\n",
        "    trainer = TrainerModule(*args, **kwargs)\n",
        "    if not trainer.checkpoint_exists():  # Skip training if pretrained model exists\n",
        "        trainer.train_model(train_loader, val_loader, num_epochs=num_epochs)\n",
        "        trainer.load_model()\n",
        "    else:\n",
        "        trainer.load_model(pretrained=True)\n",
        "    # Test trained model\n",
        "    val_acc = trainer.eval_model(val_loader)\n",
        "    test_acc = trainer.eval_model(test_loader)\n",
        "    return trainer, {'val': val_acc, 'test': test_acc}"
      ]
    },
    {
      "cell_type": "markdown",
      "metadata": {
        "id": "axo4oCzP1TRg"
      },
      "source": [
        "Finally, we can focus on the Convolutional Neural Networks we want to implement today: GoogleNet, ResNet, and DenseNet."
      ]
    },
    {
      "cell_type": "markdown",
      "metadata": {
        "id": "SBZa8JlU1TRg"
      },
      "source": [
        "## Inception\n",
        "\n",
        "The [GoogleNet](https://arxiv.org/abs/1409.4842), proposed in 2014, won the ImageNet Challenge because of its usage of the Inception modules. In general, we will mainly focus on the concept of Inception in this tutorial instead of the specifics of the GoogleNet, as based on Inception, there have been many follow-up works ([Inception-v2](https://arxiv.org/abs/1512.00567), [Inception-v3](https://arxiv.org/abs/1512.00567), [Inception-v4](https://arxiv.org/abs/1602.07261), [Inception-ResNet](https://arxiv.org/abs/1602.07261),...). The follow-up works mainly focus on increasing efficiency and enabling very deep Inception networks. However, for a fundamental understanding, it is sufficient to look at the original Inception block.\n",
        "\n",
        "An Inception block applies four convolution blocks separately on the same feature map: a 1x1, 3x3, and 5x5 convolution, and a max pool operation. This allows the network to look at the same data with different receptive fields. Of course, learning only 5x5 convolution would be theoretically more powerful. However, this is not only more computation and memory heavy but also tends to overfit much easier. The overall inception block looks like below (figure credit - [Szegedy et al.](https://arxiv.org/abs/1409.4842)):\n",
        "\n",
        "<center width=\"100%\"><img src=\"https://github.com/phlippe/uvadlc_notebooks/blob/master/docs/tutorial_notebooks/tutorial5/inception_block.svg?raw=1\" style=\"display: block; margin-left: auto; margin-right: auto;\" width=\"500px\"/></center>\n",
        "\n",
        "The additional 1x1 convolutions before the 3x3 and 5x5 convolutions are used for dimensionality reduction. This is especially crucial as the feature maps of all branches are merged afterward, and we don't want any explosion of feature size. As 5x5 convolutions are 25 times more expensive than 1x1 convolutions, we can save a lot of computation and parameters by reducing the dimensionality before the large convolutions.\n",
        "\n",
        "We can now try to implement the Inception Block ourselves:"
      ]
    },
    {
      "cell_type": "code",
      "execution_count": 12,
      "metadata": {
        "id": "duI1LCin1TRg"
      },
      "outputs": [],
      "source": [
        "googlenet_kernel_init = nn.initializers.kaiming_normal()\n",
        "\n",
        "class InceptionBlock(nn.Module):\n",
        "    c_red : dict  # Dictionary of reduced dimensionalities with keys \"1x1\", \"3x3\", \"5x5\", and \"max\"\n",
        "    c_out : dict  # Dictionary of output feature sizes with keys \"1x1\", \"3x3\", \"5x5\", and \"max\"\n",
        "    act_fn : callable   # Activation function\n",
        "\n",
        "    @nn.compact\n",
        "    def __call__(self, x, train=True):\n",
        "        # 1x1 convolution branch\n",
        "        x_1x1 = nn.Conv(self.c_out[\"1x1\"], kernel_size=(1, 1), kernel_init=googlenet_kernel_init, use_bias=False)(x)\n",
        "        x_1x1 = nn.BatchNorm()(x_1x1, use_running_average=not train)\n",
        "        x_1x1 = self.act_fn(x_1x1)\n",
        "\n",
        "        # 3x3 convolution branch\n",
        "        x_3x3 = nn.Conv(self.c_red[\"3x3\"], kernel_size=(1, 1), kernel_init=googlenet_kernel_init, use_bias=False)(x)\n",
        "        x_3x3 = nn.BatchNorm()(x_3x3, use_running_average=not train)\n",
        "        x_3x3 = self.act_fn(x_3x3)\n",
        "        x_3x3 = nn.Conv(self.c_out[\"3x3\"], kernel_size=(3, 3), kernel_init=googlenet_kernel_init, use_bias=False)(x_3x3)\n",
        "        x_3x3 = nn.BatchNorm()(x_3x3, use_running_average=not train)\n",
        "        x_3x3 = self.act_fn(x_3x3)\n",
        "\n",
        "        # 5x5 convolution branch\n",
        "        x_5x5 = nn.Conv(self.c_red[\"5x5\"], kernel_size=(1, 1), kernel_init=googlenet_kernel_init, use_bias=False)(x)\n",
        "        x_5x5 = nn.BatchNorm()(x_5x5, use_running_average=not train)\n",
        "        x_5x5 = self.act_fn(x_5x5)\n",
        "        x_5x5 = nn.Conv(self.c_out[\"5x5\"], kernel_size=(5, 5), kernel_init=googlenet_kernel_init, use_bias=False)(x_5x5)\n",
        "        x_5x5 = nn.BatchNorm()(x_5x5, use_running_average=not train)\n",
        "        x_5x5 = self.act_fn(x_5x5)\n",
        "\n",
        "        # Max-pool branch\n",
        "        x_max = nn.max_pool(x, (3, 3), strides=(2, 2))\n",
        "        x_max = nn.Conv(self.c_out[\"max\"], kernel_size=(1, 1), kernel_init=googlenet_kernel_init, use_bias=False)(x)\n",
        "        x_max = nn.BatchNorm()(x_max, use_running_average=not train)\n",
        "        x_max = self.act_fn(x_max)\n",
        "\n",
        "        x_out = jnp.concatenate([x_1x1, x_3x3, x_5x5, x_max], axis=-1)\n",
        "        return x_out"
      ]
    },
    {
      "cell_type": "markdown",
      "metadata": {
        "id": "i72K56Yv1TRg"
      },
      "source": [
        "The GoogleNet architecture consists of stacking multiple Inception blocks with occasional max pooling to reduce the height and width of the feature maps. The original GoogleNet was designed for image sizes of ImageNet (224x224 pixels) and had almost 7 million parameters. As we train on CIFAR10 with image sizes of 32x32, we don't require such a heavy architecture, and instead, apply a reduced version. The number of channels for dimensionality reduction and output per filter (1x1, 3x3, 5x5, and max pooling) need to be manually specified and can be changed if interested. The general intuition is to have the most filters for the 3x3 convolutions, as they are powerful enough to take the context into account while requiring almost a third of the parameters of the 5x5 convolution."
      ]
    },
    {
      "cell_type": "code",
      "execution_count": 13,
      "metadata": {
        "id": "ZRj57e2Y1TRg"
      },
      "outputs": [],
      "source": [
        "class GoogleNet(nn.Module):\n",
        "    num_classes : int\n",
        "    act_fn : callable\n",
        "\n",
        "    @nn.compact\n",
        "    def __call__(self, x, train=True):\n",
        "        # A first convolution on the original image to scale up the channel size\n",
        "        x = nn.Conv(64, kernel_size=(3, 3), kernel_init=googlenet_kernel_init, use_bias=False)(x)\n",
        "        x = nn.BatchNorm()(x, use_running_average=not train)\n",
        "        x = self.act_fn(x)\n",
        "\n",
        "        # Stacking inception blocks\n",
        "        inception_blocks = [\n",
        "            InceptionBlock(c_red={\"3x3\": 32, \"5x5\": 16}, c_out={\"1x1\": 16, \"3x3\": 32, \"5x5\": 8, \"max\": 8}, act_fn=self.act_fn),\n",
        "            InceptionBlock(c_red={\"3x3\": 32, \"5x5\": 16}, c_out={\"1x1\": 24, \"3x3\": 48, \"5x5\": 12, \"max\": 12}, act_fn=self.act_fn),\n",
        "            lambda inp: nn.max_pool(inp, (3, 3), strides=(2, 2)),  # 32x32 => 16x16\n",
        "            InceptionBlock(c_red={\"3x3\": 32, \"5x5\": 16}, c_out={\"1x1\": 24, \"3x3\": 48, \"5x5\": 12, \"max\": 12}, act_fn=self.act_fn),\n",
        "            InceptionBlock(c_red={\"3x3\": 32, \"5x5\": 16}, c_out={\"1x1\": 16, \"3x3\": 48, \"5x5\": 16, \"max\": 16}, act_fn=self.act_fn),\n",
        "            InceptionBlock(c_red={\"3x3\": 32, \"5x5\": 16}, c_out={\"1x1\": 16, \"3x3\": 48, \"5x5\": 16, \"max\": 16}, act_fn=self.act_fn),\n",
        "            InceptionBlock(c_red={\"3x3\": 32, \"5x5\": 16}, c_out={\"1x1\": 32, \"3x3\": 48, \"5x5\": 24, \"max\": 24}, act_fn=self.act_fn),\n",
        "            lambda inp: nn.max_pool(inp, (3, 3), strides=(2, 2)),  # 16x16 => 8x8\n",
        "            InceptionBlock(c_red={\"3x3\": 48, \"5x5\": 16}, c_out={\"1x1\": 32, \"3x3\": 64, \"5x5\": 16, \"max\": 16}, act_fn=self.act_fn),\n",
        "            InceptionBlock(c_red={\"3x3\": 48, \"5x5\": 16}, c_out={\"1x1\": 32, \"3x3\": 64, \"5x5\": 16, \"max\": 16}, act_fn=self.act_fn)\n",
        "        ]\n",
        "        for block in inception_blocks:\n",
        "            x = block(x, train=train) if isinstance(block, InceptionBlock) else block(x)\n",
        "\n",
        "        # Mapping to classification output\n",
        "        x = x.mean(axis=(1, 2))\n",
        "        x = nn.Dense(self.num_classes)(x)\n",
        "        return x"
      ]
    },
    {
      "cell_type": "markdown",
      "metadata": {
        "id": "zwCUX2CG1TRg"
      },
      "source": [
        "The training of the model is handled by our previously implemented training function, and we just have to define the command to start. Note that we train for 200 epochs, which takes about 15mins on a RTX3090. We would recommend using the saved models and train your own model if you are interested."
      ]
    },
    {
      "cell_type": "code",
      "execution_count": 14,
      "metadata": {
        "id": "eo896vVX1TRg"
      },
      "outputs": [
        {
          "ename": "",
          "evalue": "",
          "output_type": "error",
          "traceback": [
            "\u001b[1;31mThe Kernel crashed while executing code in the the current cell or a previous cell. Please review the code in the cell(s) to identify a possible cause of the failure. Click <a href='https://aka.ms/vscodeJupyterKernelCrash'>here</a> for more info. View Jupyter <a href='command:jupyter.viewOutput'>log</a> for further details."
          ]
        }
      ],
      "source": [
        "googlenet_trainer, googlenet_results = train_classifier(model_class=GoogleNet,\n",
        "                                                        model_name=\"GoogleNet\",\n",
        "                                                        model_hparams={\"num_classes\": 10,\n",
        "                                                                       \"act_fn\": nn.relu},\n",
        "                                                        optimizer_name=\"adamw\",\n",
        "                                                        optimizer_hparams={\"lr\": 1e-3,\n",
        "                                                                           \"weight_decay\": 1e-4},\n",
        "                                                        exmp_imgs=jax.device_put(\n",
        "                                                            next(iter(train_loader))[0]),\n",
        "                                                        num_epochs=200)"
      ]
    },
    {
      "cell_type": "markdown",
      "metadata": {
        "id": "yXq1VvOt1TRg"
      },
      "source": [
        "We will compare the results later in the notebooks, but we can already print them here for a first glance:"
      ]
    },
    {
      "cell_type": "code",
      "execution_count": null,
      "metadata": {
        "id": "xppuQqp71TRg",
        "outputId": "112baac8-7df9-487a-f03f-1a2041233898"
      },
      "outputs": [],
      "source": [
        "print(\"GoogleNet Results\", googlenet_results)"
      ]
    },
    {
      "cell_type": "markdown",
      "metadata": {
        "id": "MhepbIXv1TRg"
      },
      "source": [
        "### Tensorboard log\n",
        "\n",
        "For logging our results, we have used TensorBoard. To give you a better intuition of what TensorBoard can be used for, we can look at the board that our training of the GoogleNet has generated. TensorBoard provides an inline functionality for Jupyter notebooks, and we use it here:"
      ]
    },
    {
      "cell_type": "code",
      "execution_count": null,
      "metadata": {
        "id": "3SAAsxuI1TRg"
      },
      "outputs": [],
      "source": [
        "# Load tensorboard extension\n",
        "%load_ext tensorboard"
      ]
    },
    {
      "cell_type": "code",
      "execution_count": null,
      "metadata": {
        "id": "R1uGs_ze1TRh"
      },
      "outputs": [],
      "source": [
        "# Opens tensorboard in notebook.\n",
        "%tensorboard --logdir $CHECKPOINT_PATH/tensorboards/GoogleNet/"
      ]
    },
    {
      "cell_type": "markdown",
      "metadata": {
        "id": "UCDiFnBx1TRh"
      },
      "source": [
        "<center width=\"100%\"><img src=\"https://github.com/phlippe/uvadlc_notebooks/blob/master/docs/tutorial_notebooks/JAX/tutorial5/tensorboard_screenshot_GoogleNet.png?raw=1\" width=\"1000px\"></center>\n",
        "\n",
        "TensorBoard is organized in multiple tabs. The main tab is the scalar tab where we can log the development of single numbers. For example, we have plotted the training loss, accuracy, learning rate, etc. If we look at the training or validation accuracy, we can really see the impact of using a learning rate scheduler. Reducing the learning rate gives our model a nice increase in training performance. Similarly, when looking at the training loss, we see a sudden decrease at this point. However, the high numbers on the training set compared to validation indicate that our model was overfitting which is inevitable for such large networks."
      ]
    },
    {
      "cell_type": "markdown",
      "metadata": {
        "id": "NCQSifpo1TRh"
      },
      "source": [
        "## ResNet\n",
        "\n",
        "The [ResNet](https://arxiv.org/abs/1512.03385) paper is one of the  [most cited AI papers](https://www.natureindex.com/news-blog/google-scholar-reveals-most-influential-papers-research-citations-twenty-twenty), and has been the foundation for neural networks with more than 1,000 layers. Despite its simplicity, the idea of residual connections is highly effective as it supports stable gradient propagation through the network. Instead of modeling $x_{l+1}=F(x_{l})$, we model $x_{l+1}=x_{l}+F(x_{l})$ where $F$ is a non-linear mapping (usually a sequence of NN modules likes convolutions, activation functions, and normalizations). If we do backpropagation on such residual connections, we obtain:\n",
        "\n",
        "$$\\frac{\\partial x_{l+1}}{\\partial x_{l}} = \\mathbf{I} + \\frac{\\partial F(x_{l})}{\\partial x_{l}}$$\n",
        "\n",
        "The bias towards the identity matrix guarantees a stable gradient propagation being less effected by $F$ itself. There have been many variants of ResNet proposed, which mostly concern the function $F$, or operations applied on the sum. In this tutorial, we look at two of them: the original ResNet block, and the [Pre-Activation ResNet block](https://arxiv.org/abs/1603.05027). We visually compare the blocks below (figure credit - [He et al.](https://arxiv.org/abs/1603.05027)):\n",
        "\n",
        "<center width=\"100%\"><img src=\"https://github.com/phlippe/uvadlc_notebooks/blob/master/docs/tutorial_notebooks/tutorial5/resnet_block.svg?raw=1\" style=\"display: block; margin-left: auto; margin-right: auto;\" width=\"300px\"/></center>\n",
        "\n",
        "The original ResNet block applies a non-linear activation function, usually ReLU, after the skip connection. In contrast, the pre-activation ResNet block applies the non-linearity at the beginning of $F$. Both have their advantages and disadvantages. For very deep network, however, the pre-activation ResNet has shown to perform better as the gradient flow is guaranteed to have the identity matrix as calculated above, and is not harmed by any non-linear activation applied to it. For comparison, in this notebook, we implement both ResNet types as shallow networks.\n",
        "\n",
        "Let's start with the original ResNet block. The visualization above already shows what layers are included in $F$. One special case we have to handle is when we want to reduce the image dimensions in terms of width and height. The basic ResNet block requires $F(x_{l})$ to be of the same shape as $x_{l}$. Thus, we need to change the dimensionality of $x_{l}$ as well before adding to $F(x_{l})$. The original implementation used an identity mapping with stride 2 and padded additional feature dimensions with 0. However, the more common implementation is to use a 1x1 convolution with stride 2 as it allows us to change the feature dimensionality while being efficient in parameter and computation cost. The code for the ResNet block is relatively simple, and shown below:"
      ]
    },
    {
      "cell_type": "code",
      "execution_count": null,
      "metadata": {
        "id": "2Cxqn7A_1TRh"
      },
      "outputs": [],
      "source": [
        "# Conv initialized with kaiming int, but uses fan-out instead of fan-in mode\n",
        "# Fan-out focuses on the gradient distribution, and is commonly used in ResNets\n",
        "resnet_kernel_init = nn.initializers.variance_scaling(2.0, mode='fan_out', distribution='normal')\n",
        "\n",
        "class ResNetBlock(nn.Module):\n",
        "    act_fn : callable  # Activation function\n",
        "    c_out : int   # Output feature size\n",
        "    subsample : bool = False  # If True, we apply a stride inside F\n",
        "\n",
        "    @nn.compact\n",
        "    def __call__(self, x, train=True):\n",
        "        # Network representing F\n",
        "        z = nn.Conv(self.c_out, kernel_size=(3, 3),\n",
        "                    strides=(1, 1) if not self.subsample else (2, 2),\n",
        "                    kernel_init=resnet_kernel_init,\n",
        "                    use_bias=False)(x)\n",
        "        z = nn.BatchNorm()(z, use_running_average=not train)\n",
        "        z = self.act_fn(z)\n",
        "        z = nn.Conv(self.c_out, kernel_size=(3, 3),\n",
        "                    kernel_init=resnet_kernel_init,\n",
        "                    use_bias=False)(z)\n",
        "        z = nn.BatchNorm()(z, use_running_average=not train)\n",
        "\n",
        "        if self.subsample:\n",
        "            x = nn.Conv(self.c_out, kernel_size=(1, 1), strides=(2, 2), kernel_init=resnet_kernel_init)(x)\n",
        "\n",
        "        x_out = self.act_fn(z + x)\n",
        "        return x_out"
      ]
    },
    {
      "cell_type": "markdown",
      "metadata": {
        "id": "qYEwFWFD1TRh"
      },
      "source": [
        "The second block we implement is the pre-activation ResNet block. For this, we have to change the order of layers, and do not apply an activation function on the output. Additionally, the downsampling operation has to apply a non-linearity as well as the input, $x_l$, has not been processed by a non-linearity yet. Hence, the block looks as follows:"
      ]
    },
    {
      "cell_type": "code",
      "execution_count": null,
      "metadata": {
        "id": "NQ08DvEQ1TRm"
      },
      "outputs": [],
      "source": [
        "class PreActResNetBlock(ResNetBlock):\n",
        "\n",
        "    @nn.compact\n",
        "    def __call__(self, x, train=True):\n",
        "        # Network representing F\n",
        "        z = nn.BatchNorm()(x, use_running_average=not train)\n",
        "        z = self.act_fn(z)\n",
        "        z = nn.Conv(self.c_out, kernel_size=(3, 3),\n",
        "                    strides=(1, 1) if not self.subsample else (2, 2),\n",
        "                    kernel_init=resnet_kernel_init,\n",
        "                    use_bias=False)(z)\n",
        "        z = nn.BatchNorm()(z, use_running_average=not train)\n",
        "        z = self.act_fn(z)\n",
        "        z = nn.Conv(self.c_out, kernel_size=(3, 3),\n",
        "                    kernel_init=resnet_kernel_init,\n",
        "                    use_bias=False)(z)\n",
        "\n",
        "        if self.subsample:\n",
        "            x = nn.BatchNorm()(x, use_running_average=not train)\n",
        "            x = self.act_fn(x)\n",
        "            x = nn.Conv(self.c_out,\n",
        "                        kernel_size=(1, 1),\n",
        "                        strides=(2, 2),\n",
        "                        kernel_init=resnet_kernel_init,\n",
        "                        use_bias=False)(x)\n",
        "\n",
        "        x_out = z + x\n",
        "        return x_out"
      ]
    },
    {
      "cell_type": "markdown",
      "metadata": {
        "id": "fNe8TA6-1TRn"
      },
      "source": [
        "The overall ResNet architecture consists of stacking multiple ResNet blocks, of which some are downsampling the input. When talking about ResNet blocks in the whole network, we usually group them by the same output shape. Hence, if we say the ResNet has `[3,3,3]` blocks, it means that we have 3 times a group of 3 ResNet blocks, where a subsampling is taking place in the fourth and seventh block. The ResNet with `[3,3,3]` blocks on CIFAR10 is visualized below.\n",
        "\n",
        "<center width=\"100%\"><img src=\"https://github.com/phlippe/uvadlc_notebooks/blob/master/docs/tutorial_notebooks/tutorial5/resnet_notation.svg?raw=1\" width=\"500px\"></center>\n",
        "\n",
        "The three groups operate on the resolutions $32\\times32$, $16\\times16$ and $8\\times8$ respectively. The blocks in orange denote ResNet blocks with downsampling. The same notation is used by many other implementations such as in the [torchvision library](https://pytorch.org/docs/stable/_modules/torchvision/models/resnet.html#resnet18) from PyTorch or [flaxmodels](https://github.com/matthias-wright/flaxmodels) (pretrained ResNets and more for JAX). Thus, our code looks as follows:"
      ]
    },
    {
      "cell_type": "code",
      "execution_count": null,
      "metadata": {
        "id": "EJhnp1Mz1TRn"
      },
      "outputs": [],
      "source": [
        "class ResNet(nn.Module):\n",
        "    num_classes : int\n",
        "    act_fn : callable\n",
        "    block_class : nn.Module\n",
        "    num_blocks : tuple = (3, 3, 3)\n",
        "    c_hidden : tuple = (16, 32, 64)\n",
        "\n",
        "    @nn.compact\n",
        "    def __call__(self, x, train=True):\n",
        "        # A first convolution on the original image to scale up the channel size\n",
        "        x = nn.Conv(self.c_hidden[0], kernel_size=(3, 3), kernel_init=resnet_kernel_init, use_bias=False)(x)\n",
        "        if self.block_class == ResNetBlock:  # If pre-activation block, we do not apply non-linearities yet\n",
        "            x = nn.BatchNorm()(x, use_running_average=not train)\n",
        "            x = self.act_fn(x)\n",
        "\n",
        "        # Creating the ResNet blocks\n",
        "        for block_idx, block_count in enumerate(self.num_blocks):\n",
        "            for bc in range(block_count):\n",
        "                # Subsample the first block of each group, except the very first one.\n",
        "                subsample = (bc == 0 and block_idx > 0)\n",
        "                # ResNet block\n",
        "                x = self.block_class(c_out=self.c_hidden[block_idx],\n",
        "                                     act_fn=self.act_fn,\n",
        "                                     subsample=subsample)(x, train=train)\n",
        "\n",
        "        # Mapping to classification output\n",
        "        x = x.mean(axis=(1, 2))\n",
        "        x = nn.Dense(self.num_classes)(x)\n",
        "        return x"
      ]
    },
    {
      "cell_type": "markdown",
      "metadata": {
        "id": "3IeL1MM91TRn"
      },
      "source": [
        "Finally, we can train our ResNet models. One difference to the GoogleNet training is that we explicitly use SGD with Momentum as optimizer instead of Adam. Adam often leads to a slightly worse accuracy on plain, shallow ResNets. It is not 100% clear why Adam performs worse in this context, but one possible explanation is related to ResNet's loss surface. ResNet has been shown to produce smoother loss surfaces than networks without skip connection (see [Li et al., 2018](https://arxiv.org/pdf/1712.09913.pdf) for details). A possible visualization of the loss surface with/out skip connections is below (figure credit - [Li et al.](https://arxiv.org/pdf/1712.09913.pdf)):\n",
        "\n",
        "<center width=\"100%\"><img src=\"https://github.com/phlippe/uvadlc_notebooks/blob/master/docs/tutorial_notebooks/tutorial5/resnet_loss_surface.svg?raw=1\" style=\"display: block; margin-left: auto; margin-right: auto;\" width=\"600px\"/></center>\n",
        "\n",
        "The $x$ and $y$ axis shows a projection of the parameter space, and the $z$ axis shows the loss values achieved by different parameter values. On smooth surfaces like the one on the right, we might not require an adaptive learning rate as Adam provides. Instead, Adam can get stuck in local optima while SGD finds the wider minima that tend to generalize better.\n",
        "However, to answer this question in detail, we would need an extra tutorial because it is not easy to answer. For now, we conclude: for ResNet architectures, consider the optimizer to be an important hyperparameter, and try training with both Adam and SGD. Let's train the model below with SGD:"
      ]
    },
    {
      "cell_type": "code",
      "execution_count": null,
      "metadata": {
        "id": "iuSkPQRo1TRn"
      },
      "outputs": [],
      "source": [
        "resnet_trainer, resnet_results = train_classifier(model_name=\"ResNet\",\n",
        "                                                  model_class=ResNet,\n",
        "                                                  model_hparams={\"num_classes\": 10,\n",
        "                                                                 \"c_hidden\": (16, 32, 64),\n",
        "                                                                 \"num_blocks\": (3, 3, 3),\n",
        "                                                                 \"act_fn\": nn.relu,\n",
        "                                                                 \"block_class\": ResNetBlock},\n",
        "                                                  optimizer_name=\"SGD\",\n",
        "                                                  optimizer_hparams={\"lr\": 0.1,\n",
        "                                                                     \"momentum\": 0.9,\n",
        "                                                                     \"weight_decay\": 1e-4},\n",
        "                                                  exmp_imgs=jax.device_put(\n",
        "                                                      next(iter(train_loader))[0]),\n",
        "                                                  num_epochs=200)"
      ]
    },
    {
      "cell_type": "markdown",
      "metadata": {
        "id": "xCOeJbMl1TRn"
      },
      "source": [
        "Let's also train the pre-activation ResNet as comparison:"
      ]
    },
    {
      "cell_type": "code",
      "execution_count": null,
      "metadata": {
        "id": "5Akqtomg1TRn"
      },
      "outputs": [],
      "source": [
        "preactresnet_trainer, preactresnet_results = train_classifier(model_name=\"PreActResNet\",\n",
        "                                                              model_class=ResNet,\n",
        "                                                              model_hparams={\"num_classes\": 10,\n",
        "                                                                             \"c_hidden\": (16, 32, 64),\n",
        "                                                                             \"num_blocks\": (3, 3, 3),\n",
        "                                                                             \"act_fn\": nn.relu,\n",
        "                                                                             \"block_class\": PreActResNetBlock},\n",
        "                                                              optimizer_name=\"SGD\",\n",
        "                                                              optimizer_hparams={\"lr\": 0.1,\n",
        "                                                                                 \"momentum\": 0.9,\n",
        "                                                                                 \"weight_decay\": 1e-4},\n",
        "                                                              exmp_imgs=jax.device_put(\n",
        "                                                                  next(iter(train_loader))[0]),\n",
        "                                                              num_epochs=200)"
      ]
    },
    {
      "cell_type": "markdown",
      "metadata": {
        "id": "gkhi8nDg1TRn"
      },
      "source": [
        "### Tensorboard log\n",
        "\n",
        "Similarly to our GoogleNet model, we also have a TensorBoard log for the ResNet model. We can open it below."
      ]
    },
    {
      "cell_type": "code",
      "execution_count": null,
      "metadata": {
        "id": "JQSOR0WO1TRn"
      },
      "outputs": [],
      "source": [
        "# Opens tensorboard in notebook. Feel free to change \"ResNet\" to \"PreActResNet\"\n",
        "%tensorboard --logdir $CHECKPOINT_PATH/tensorboards/ResNet/ --port 6007"
      ]
    },
    {
      "cell_type": "markdown",
      "metadata": {
        "id": "TsBl0hDN1TRn"
      },
      "source": [
        "<center width=\"100%\"><img src=\"https://github.com/phlippe/uvadlc_notebooks/blob/master/docs/tutorial_notebooks/JAX/tutorial5/tensorboard_screenshot_ResNet.png?raw=1\" width=\"1000px\"></center>\n",
        "\n",
        "Feel free to explore the TensorBoard yourself, including the computation graph. In general, we can see that with SGD, the ResNet has a higher training loss than the GoogleNet in the first stage of the training. After reducing the learning rate however, the model achieves even higher validation accuracies. We compare the precise scores at the end of the notebook."
      ]
    },
    {
      "cell_type": "markdown",
      "metadata": {
        "id": "myHtTYHC1TRn"
      },
      "source": [
        "## DenseNet\n",
        "\n",
        "[DenseNet](https://arxiv.org/abs/1608.06993) is another architecture for enabling very deep neural networks and takes a slightly different perspective on residual connections. Instead of modeling the difference between layers, DenseNet considers residual connections as a possible way to reuse features across layers, removing any necessity to learn redundant feature maps. If we go deeper into the network, the model learns abstract features to recognize patterns. However, some complex patterns consist of a combination of abstract features (e.g. hand, face, etc.), and low-level features (e.g. edges, basic color, etc.). To find these low-level features in the deep layers, standard CNNs have to learn copy such feature maps, which wastes a lot of parameter complexity. DenseNet provides an efficient way of reusing features by having each convolution depends on all previous input features, but add only a small amount of filters to it. See the figure below for an illustration (figure credit - [Hu et al.](https://arxiv.org/abs/1608.06993)):\n",
        "\n",
        "<center width=\"100%\"><img src=\"https://github.com/phlippe/uvadlc_notebooks/blob/master/docs/tutorial_notebooks/tutorial5/densenet_block.svg?raw=1\" style=\"display: block; margin-left: auto; margin-right: auto;\" width=\"500px\"/></center>\n",
        "\n",
        "The last layer, called the transition layer, is responsible for reducing the dimensionality of the feature maps in height, width, and channel size. Although those technically break the identity backpropagation, there are only a few in a network so that it doesn't affect the gradient flow much.\n",
        "\n",
        "We split the implementation of the layers in DenseNet into three parts: a `DenseLayer`, and a `DenseBlock`, and a `TransitionLayer`. The module `DenseLayer` implements a single layer inside a dense block. It applies a 1x1 convolution for dimensionality reduction with a subsequential 3x3 convolution. The output channels are concatenated to the originals and returned. Note that we apply the Batch Normalization as the first layer of each block. This allows slightly different activations for the same features to different layers, depending on what is needed. Overall, we can implement it as follows:"
      ]
    },
    {
      "cell_type": "code",
      "execution_count": null,
      "metadata": {
        "id": "E6Ymqz-F1TRn"
      },
      "outputs": [],
      "source": [
        "densenet_kernel_init = nn.initializers.kaiming_normal()\n",
        "\n",
        "class DenseLayer(nn.Module):\n",
        "    bn_size : int  # Bottleneck size (factor of growth rate) for the output of the 1x1 convolution\n",
        "    growth_rate : int  # Number of output channels of the 3x3 convolution\n",
        "    act_fn : callable  # Activation function\n",
        "\n",
        "    @nn.compact\n",
        "    def __call__(self, x, train=True):\n",
        "        z = nn.BatchNorm()(x, use_running_average=not train)\n",
        "        z = self.act_fn(z)\n",
        "        z = nn.Conv(self.bn_size * self.growth_rate,\n",
        "                    kernel_size=(1, 1),\n",
        "                    kernel_init=densenet_kernel_init,\n",
        "                    use_bias=False)(z)\n",
        "        z = nn.BatchNorm()(z, use_running_average=not train)\n",
        "        z = self.act_fn(z)\n",
        "        z = nn.Conv(self.growth_rate,\n",
        "                    kernel_size=(3, 3),\n",
        "                    kernel_init=densenet_kernel_init,\n",
        "                    use_bias=False)(z)\n",
        "        x_out = jnp.concatenate([x, z], axis=-1)\n",
        "        return x_out"
      ]
    },
    {
      "cell_type": "markdown",
      "metadata": {
        "id": "rQgDab7H1TRn"
      },
      "source": [
        "The module `DenseBlock` summarizes multiple dense layers applied in sequence. Each dense layer takes as input the original input concatenated with all previous layers' feature maps:"
      ]
    },
    {
      "cell_type": "code",
      "execution_count": null,
      "metadata": {
        "id": "BiIAYMw01TRn"
      },
      "outputs": [],
      "source": [
        "class DenseBlock(nn.Module):\n",
        "    num_layers : int  # Number of dense layers to apply in the block\n",
        "    bn_size : int  # Bottleneck size to use in the dense layers\n",
        "    growth_rate : int  # Growth rate to use in the dense layers\n",
        "    act_fn : callable  # Activation function to use in the dense layers\n",
        "\n",
        "    @nn.compact\n",
        "    def __call__(self, x, train=True):\n",
        "        for _ in range(self.num_layers):\n",
        "            x = DenseLayer(bn_size=self.bn_size,\n",
        "                           growth_rate=self.growth_rate,\n",
        "                           act_fn=self.act_fn)(x, train=train)\n",
        "        return x"
      ]
    },
    {
      "cell_type": "markdown",
      "metadata": {
        "id": "SHWd_1sq1TRq"
      },
      "source": [
        "Finally, the `TransitionLayer` takes as input the final output of a dense block and reduces its channel dimensionality using a 1x1 convolution. To reduce the height and width dimension, we take a slightly different approach than in ResNet and apply an average pooling with kernel size 2 and stride 2. This is because we don't have an additional connection to the output that would consider the full 2x2 patch instead of a single value. Besides, it is more parameter efficient than using a 3x3 convolution with stride 2. Thus, the layer is implemented as follows:"
      ]
    },
    {
      "cell_type": "code",
      "execution_count": null,
      "metadata": {
        "id": "ks_v9adO1TRq"
      },
      "outputs": [],
      "source": [
        "class TransitionLayer(nn.Module):\n",
        "    c_out : int  # Output feature size\n",
        "    act_fn : callable  # Activation function\n",
        "\n",
        "    @nn.compact\n",
        "    def __call__(self, x, train=True):\n",
        "        x = nn.BatchNorm()(x, use_running_average=not train)\n",
        "        x = self.act_fn(x)\n",
        "        x = nn.Conv(self.c_out,\n",
        "                    kernel_size=(1, 1),\n",
        "                    kernel_init=densenet_kernel_init,\n",
        "                    use_bias=False)(x)\n",
        "        x = nn.avg_pool(x, (2, 2), strides=(2, 2))\n",
        "        return x"
      ]
    },
    {
      "cell_type": "markdown",
      "metadata": {
        "id": "5TbKMFsc1TRq"
      },
      "source": [
        "Now we can put everything together and create our DenseNet. To specify the number of layers, we use a similar notation as in ResNets and pass on a list of ints representing the number of layers per block. After each dense block except the last one, we apply a transition layer to reduce the dimensionality by 2."
      ]
    },
    {
      "cell_type": "code",
      "execution_count": null,
      "metadata": {
        "id": "I1ud63Kr1TRq"
      },
      "outputs": [],
      "source": [
        "class DenseNet(nn.Module):\n",
        "    num_classes : int\n",
        "    act_fn : callable = nn.relu\n",
        "    num_layers : tuple = (6, 6, 6, 6)\n",
        "    bn_size : int = 2\n",
        "    growth_rate : int = 16\n",
        "\n",
        "    @nn.compact\n",
        "    def __call__(self, x, train=True):\n",
        "        c_hidden = self.growth_rate * self.bn_size  # The start number of hidden channels\n",
        "\n",
        "        x = nn.Conv(c_hidden,\n",
        "                    kernel_size=(3, 3),\n",
        "                    kernel_init=densenet_kernel_init)(x)\n",
        "\n",
        "        for block_idx, num_layers in enumerate(self.num_layers):\n",
        "            x = DenseBlock(num_layers=num_layers,\n",
        "                           bn_size=self.bn_size,\n",
        "                           growth_rate=self.growth_rate,\n",
        "                           act_fn=self.act_fn)(x, train=train)\n",
        "            c_hidden += num_layers * self.growth_rate\n",
        "            if block_idx < len(self.num_layers)-1:  # Don't apply transition layer on last block\n",
        "                x = TransitionLayer(c_out=c_hidden//2,\n",
        "                                    act_fn=self.act_fn)(x, train=train)\n",
        "                c_hidden //= 2\n",
        "\n",
        "        x = nn.BatchNorm()(x, use_running_average=not train)\n",
        "        x = self.act_fn(x)\n",
        "        x = x.mean(axis=(1, 2))\n",
        "        x = nn.Dense(self.num_classes)(x)\n",
        "        return x"
      ]
    },
    {
      "cell_type": "markdown",
      "metadata": {
        "id": "BGbqP1LS1TRq"
      },
      "source": [
        "Lastly, we train our network. In contrast to ResNet, DenseNet does not show any issues with Adam, and hence we train it with this optimizer. The other hyperparameters are chosen to result in a network with a similar parameter size as the ResNet and GoogleNet. Commonly, when designing very deep networks, DenseNet is more parameter efficient than ResNet while achieving a similar or even better performance."
      ]
    },
    {
      "cell_type": "code",
      "execution_count": null,
      "metadata": {
        "id": "SXkOxo-l1TRq"
      },
      "outputs": [],
      "source": [
        "densenet_trainer, densenet_results = train_classifier(model_name=\"DenseNet\",\n",
        "                                                      model_class=DenseNet,\n",
        "                                                      model_hparams={\"num_classes\": 10,\n",
        "                                                                     \"num_layers\": [6, 6, 6, 6],\n",
        "                                                                     \"bn_size\": 2,\n",
        "                                                                     \"growth_rate\": 16,\n",
        "                                                                     \"act_fn\": nn.relu},\n",
        "                                                      optimizer_name=\"adamw\",\n",
        "                                                      optimizer_hparams={\"lr\": 1e-3,\n",
        "                                                                         \"weight_decay\": 1e-4},\n",
        "                                                      exmp_imgs=jax.device_put(\n",
        "                                                          next(iter(train_loader))[0]),\n",
        "                                                      num_epochs=200)"
      ]
    },
    {
      "cell_type": "markdown",
      "metadata": {
        "id": "pzftHzJ91TRq"
      },
      "source": [
        "### Tensorboard log\n",
        "\n",
        "Finally, we also have another TensorBoard for the DenseNet training. We take a look at it below:"
      ]
    },
    {
      "cell_type": "code",
      "execution_count": null,
      "metadata": {
        "id": "OgyZh9kF1TRq",
        "scrolled": false
      },
      "outputs": [],
      "source": [
        "# Opens tensorboard in notebook.\n",
        "%tensorboard --logdir $CHECKPOINT_PATH/tensorboards/DenseNet/ --port 6008"
      ]
    },
    {
      "cell_type": "markdown",
      "metadata": {
        "id": "U--awNb61TRq"
      },
      "source": [
        "<center width=\"100%\"><img src=\"https://github.com/phlippe/uvadlc_notebooks/blob/master/docs/tutorial_notebooks/JAX/tutorial5/tensorboard_screenshot_DenseNet.png?raw=1\" width=\"1000px\"></center>\n",
        "\n",
        "The overall course of the validation accuracy and training loss resemble the training of GoogleNet, which is also related to training the network with Adam. Feel free to explore the training metrics yourself."
      ]
    },
    {
      "cell_type": "markdown",
      "metadata": {
        "id": "Xb2T7U-e1TRq"
      },
      "source": [
        "## Conclusion and Comparison\n",
        "\n",
        "After discussing each model separately, and training all of them, we can finally compare them. First, let's organize the results of all models in a table:"
      ]
    },
    {
      "cell_type": "code",
      "execution_count": null,
      "metadata": {
        "id": "veS6PdK_1TRr",
        "outputId": "0f520c9d-788f-4a52-b393-823fd43ae179"
      },
      "outputs": [],
      "source": [
        "%%html\n",
        "<!-- Some HTML code to increase font size in the following table -->\n",
        "<style>\n",
        "th {font-size: 120%;}\n",
        "td {font-size: 120%;}\n",
        "</style>"
      ]
    },
    {
      "cell_type": "code",
      "execution_count": null,
      "metadata": {
        "id": "Q3fgyKPv1TRr",
        "outputId": "02241e35-5d25-40bc-c68e-52b241be8c98"
      },
      "outputs": [],
      "source": [
        "import tabulate\n",
        "from IPython.display import display, HTML\n",
        "all_models = [\n",
        "    (\"GoogleNet\", googlenet_results, googlenet_trainer),\n",
        "    (\"ResNet\", resnet_results, resnet_trainer),\n",
        "    (\"PreActResNet\", preactresnet_results, preactresnet_trainer),\n",
        "    (\"DenseNet\", densenet_results, densenet_trainer)\n",
        "]\n",
        "table = [[model_name,\n",
        "          f\"{100.0*model_results['val']:4.2f}%\",\n",
        "          f\"{100.0*model_results['test']:4.2f}%\",\n",
        "          \"{:,}\".format(sum([np.prod(p.shape) for p in jax.tree_leaves(model.state.params)]))]\n",
        "         for model_name, model_results, model in all_models]\n",
        "display(HTML(tabulate.tabulate(table, tablefmt='html', headers=[\"Model\", \"Val Accuracy\", \"Test Accuracy\", \"Num Parameters\"])))"
      ]
    },
    {
      "cell_type": "markdown",
      "metadata": {
        "id": "jcpgQ_LL1TRr"
      },
      "source": [
        "First of all, we see that all models are performing reasonably well. Simple models as you have implemented them in the practical achieve considerably lower performance, which is beside the lower number of parameters also attributed to the architecture design choice. GoogleNet is the model to obtain the lowest performance on the validation and test set, although it is very close to DenseNet. A proper hyperparameter search over all the channel sizes in GoogleNet would likely improve the accuracy of the model to a similar level, but this is also expensive given a large number of hyperparameters. ResNet outperforms both DenseNet and GoogleNet by more than 1% on the validation set, while there is a minor difference between both versions, original and pre-activation. We can conclude that for shallow networks, the place of the activation function does not seem to be crucial, although papers have reported the contrary for very deep networks (e.g. [He et al.](https://arxiv.org/abs/1603.05027)).\n",
        "\n",
        "In general, we can conclude that ResNet is a simple, but powerful architecture. If we would apply the models on more complex tasks with larger images and more layers inside the networks, we would likely see a bigger gap between GoogleNet and skip-connection architectures like ResNet and DenseNet. A comparison with deeper models on CIFAR10 can be for example found [here](https://github.com/kuangliu/pytorch-cifar). Interestingly, DenseNet outperforms the original ResNet on their setup but comes closely behind the Pre-Activation ResNet. The best model, a Dual Path Network ([Chen et. al](https://arxiv.org/abs/1707.01629)), is actually a combination of ResNet and DenseNet showing that both offer different advantages."
      ]
    },
    {
      "cell_type": "markdown",
      "metadata": {
        "id": "kDrA4L_a1TRr"
      },
      "source": [
        "### Which model should I choose for my task?\n",
        "\n",
        "We have reviewed four different models. So, which one should we choose if have given a new task? Usually, starting with a ResNet is a good idea given the superior performance of the CIFAR dataset and its simple implementation. Besides, for the parameter number we have chosen here, ResNet is the fastest as DenseNet and GoogleNet have many more layers that are applied in sequence in our primitive implementation. However, if you have a really difficult task, such as semantic segmentation on HD images, more complex variants of ResNet and DenseNet are recommended.  "
      ]
    },
    {
      "cell_type": "markdown",
      "metadata": {
        "id": "B5gQlZ1t1TRr"
      },
      "source": [
        "---\n",
        "\n",
        "[![Star our repository](https://img.shields.io/static/v1.svg?logo=star&label=⭐&message=Star%20Our%20Repository&color=yellow)](https://github.com/phlippe/uvadlc_notebooks/)  If you found this tutorial helpful, consider ⭐-ing our repository.    \n",
        "[![Ask questions](https://img.shields.io/static/v1.svg?logo=star&label=❔&message=Ask%20Questions&color=9cf)](https://github.com/phlippe/uvadlc_notebooks/issues)  For any questions, typos, or bugs that you found, please raise an issue on GitHub.\n",
        "\n",
        "---"
      ]
    }
  ],
  "metadata": {
    "colab": {
      "provenance": []
    },
    "kernelspec": {
      "display_name": "Python 3",
      "language": "python",
      "name": "python3"
    },
    "language_info": {
      "codemirror_mode": {
        "name": "ipython",
        "version": 3
      },
      "file_extension": ".py",
      "mimetype": "text/x-python",
      "name": "python",
      "nbconvert_exporter": "python",
      "pygments_lexer": "ipython3",
      "version": "3.10.13"
    }
  },
  "nbformat": 4,
  "nbformat_minor": 0
}
