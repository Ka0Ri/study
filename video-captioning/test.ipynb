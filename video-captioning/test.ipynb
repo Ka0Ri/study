{
 "cells": [
  {
   "cell_type": "code",
   "execution_count": null,
   "metadata": {},
   "outputs": [],
   "source": [
    "from decord import VideoReader\n",
    "import numpy as np\n",
    "import torch\n",
    "from transformers import AutoImageProcessor, AutoTokenizer, VisionEncoderDecoderModel\n",
    "\n",
    "device = \"cuda\" if torch.cuda.is_available() else \"cpu\"\n",
    "\n",
    "# load pretrained processor, tokenizer, and model\n",
    "image_processor = AutoImageProcessor.from_pretrained(\"MCG-NJU/videomae-base\")\n",
    "tokenizer = AutoTokenizer.from_pretrained(\"gpt2\")\n",
    "model = VisionEncoderDecoderModel.from_pretrained(\"Neleac/timesformer-gpt2-video-captioning\").to(device)"
   ]
  },
  {
   "cell_type": "code",
   "execution_count": 52,
   "metadata": {},
   "outputs": [
    {
     "name": "stdout",
     "output_type": "stream",
     "text": [
      "A group of children are learning how to walk on a mat.\n"
     ]
    }
   ],
   "source": [
    "\n",
    "\n",
    "# load video\n",
    "video_path = \"videos/output_5000_5149.mp4\"\n",
    "container = VideoReader(video_path)\n",
    "\n",
    "# extract evenly spaced frames from video\n",
    "clip_len = model.config.encoder.num_frames\n",
    "frames = container.get_batch(range(0, len(container) // 2, len(container) // (1 * clip_len))).asnumpy()\n",
    "frames = [frame for frame in frames[:-1]]\n",
    "# frames_batch = frames_batch[:-1]\n",
    "\n",
    "# generate caption\n",
    "gen_kwargs = {\n",
    "    \"min_length\": 10, \n",
    "    \"max_length\": 20, \n",
    "    \"num_beams\": 8,\n",
    "}\n",
    "pixel_values = image_processor(frames, return_tensors=\"pt\").pixel_values.to(device)\n",
    "tokens = model.generate(pixel_values, **gen_kwargs)\n",
    "caption = tokenizer.batch_decode(tokens, skip_special_tokens=True)[0]\n",
    "print(caption) "
   ]
  },
  {
   "cell_type": "code",
   "execution_count": 4,
   "metadata": {},
   "outputs": [
    {
     "name": "stderr",
     "output_type": "stream",
     "text": [
      "\u001b[32m2024-05-23 16:23:36.514\u001b[0m | \u001b[1mINFO    \u001b[0m | \u001b[36m__main__\u001b[0m:\u001b[36m<module>\u001b[0m:\u001b[36m10\u001b[0m - \u001b[1mFrame width: 1280, Frame height: 720, FPS: 29.97002997002997\u001b[0m\n"
     ]
    }
   ],
   "source": [
    "# cut video into 10-second \n",
    "\n",
    "from loguru import logger\n",
    "from decord import VideoReader\n",
    "import cv2\n",
    "\n",
    "vr = VideoReader(\"videoplayback.mp4\")\n",
    "frame_width, frame_height = vr[0].shape[1], vr[0].shape[0]\n",
    "fps = vr.get_avg_fps()\n",
    "logger.info(f\"Frame width: {frame_width}, Frame height: {frame_height}, FPS: {fps}\")\n",
    "# this is the efficient way to obtain a long list of frames\n",
    "\n",
    "def write_video(frames, file_name):\n",
    "    frame_height, frame_width = frames[0].shape[:2]\n",
    "    out = cv2.VideoWriter(file_name, cv2.VideoWriter_fourcc(*'h264'), int(fps), (frame_width, frame_height))\n",
    "    for frame in frames:\n",
    "        frame = cv2.cvtColor(frame, cv2.COLOR_RGB2BGR)\n",
    "        out.write(frame)\n",
    "    out.release()\n",
    "\n",
    "\n",
    "for start_frame in range(5000, 6000, int(fps * 5)):\n",
    "    end_frame = min(start_frame + int(fps * 5), len(vr))\n",
    "    frames = vr.get_batch(range(start_frame, end_frame))\n",
    "    # write frames to a video file\n",
    "    frames = frames.asnumpy()\n",
    "    write_video(frames, f\"videos/output_{start_frame}_{end_frame}.mp4\")\n"
   ]
  }
 ],
 "metadata": {
  "kernelspec": {
   "display_name": "torch",
   "language": "python",
   "name": "python3"
  },
  "language_info": {
   "codemirror_mode": {
    "name": "ipython",
    "version": 3
   },
   "file_extension": ".py",
   "mimetype": "text/x-python",
   "name": "python",
   "nbconvert_exporter": "python",
   "pygments_lexer": "ipython3",
   "version": "3.10.13"
  }
 },
 "nbformat": 4,
 "nbformat_minor": 2
}
