{
 "cells": [
  {
   "cell_type": "code",
   "execution_count": 1,
   "metadata": {},
   "outputs": [
    {
     "name": "stdout",
     "output_type": "stream",
     "text": [
      "Hello, this is before function execution\n",
      "This is inside the function !!\n",
      "This is after function execution\n"
     ]
    }
   ],
   "source": [
    "# defining a decorator\n",
    "def hello_decorator(func):\n",
    " \n",
    "    # inner1 is a Wrapper function in \n",
    "    # which the argument is called\n",
    "     \n",
    "    # inner function can access the outer local\n",
    "    # functions like in this case \"func\"\n",
    "    def inner1():\n",
    "        print(\"Hello, this is before function execution\")\n",
    " \n",
    "        # calling the actual function now\n",
    "        # inside the wrapper function.\n",
    "        func()\n",
    " \n",
    "        print(\"This is after function execution\")\n",
    "         \n",
    "    return inner1\n",
    " \n",
    " \n",
    "# defining a function, to be called inside wrapper\n",
    "def function_to_be_used():\n",
    "    print(\"This is inside the function !!\")\n",
    " \n",
    " \n",
    "# passing 'function_to_be_used' inside the\n",
    "# decorator to control its behaviour\n",
    "function_to_be_used = hello_decorator(function_to_be_used)\n",
    " \n",
    " \n",
    "# calling the function\n",
    "function_to_be_used()"
   ]
  },
  {
   "cell_type": "code",
   "execution_count": 2,
   "metadata": {},
   "outputs": [
    {
     "name": "stdout",
     "output_type": "stream",
     "text": [
      "3628800\n",
      "Total time taken in :  factorial 2.0049400329589844\n"
     ]
    }
   ],
   "source": [
    "# importing libraries\n",
    "import time\n",
    "import math\n",
    "\n",
    "# decorator to calculate duration\n",
    "# taken by any function.\n",
    "def calculate_time(func):\n",
    "\t\n",
    "\t# added arguments inside the inner1,\n",
    "\t# if function takes any arguments,\n",
    "\t# can be added like this.\n",
    "\tdef inner1(*args, **kwargs):\n",
    "\n",
    "\t\t# storing time before function execution\n",
    "\t\tbegin = time.time()\n",
    "\t\t\n",
    "\t\tfunc(*args, **kwargs)\n",
    "\n",
    "\t\t# storing time after function execution\n",
    "\t\tend = time.time()\n",
    "\t\tprint(\"Total time taken in : \", func.__name__, end - begin)\n",
    "\n",
    "\treturn inner1\n",
    "\n",
    "\n",
    "\n",
    "# this can be added to any function present,\n",
    "# in this case to calculate a factorial\n",
    "@calculate_time\n",
    "def factorial(num):\n",
    "\n",
    "\t# sleep 2 seconds because it takes very less time\n",
    "\t# so that you can see the actual difference\n",
    "\ttime.sleep(2)\n",
    "\tprint(math.factorial(num))\n",
    "\n",
    "# calling the function.\n",
    "factorial(10)\n"
   ]
  },
  {
   "cell_type": "code",
   "execution_count": 3,
   "metadata": {},
   "outputs": [
    {
     "name": "stdout",
     "output_type": "stream",
     "text": [
      "before Execution\n",
      "Inside the function\n",
      "after Execution\n",
      "Sum = 3\n"
     ]
    }
   ],
   "source": [
    "def hello_decorator(func):\n",
    "\tdef inner1(*args, **kwargs):\n",
    "\t\t\n",
    "\t\tprint(\"before Execution\")\n",
    "\t\t\n",
    "\t\t# getting the returned value\n",
    "\t\treturned_value = func(*args, **kwargs)\n",
    "\t\tprint(\"after Execution\")\n",
    "\t\t\n",
    "\t\t# returning the value to the original frame\n",
    "\t\treturn returned_value\n",
    "\t\t\n",
    "\treturn inner1\n",
    "\n",
    "\n",
    "# adding decorator to the function\n",
    "@hello_decorator\n",
    "def sum_two_numbers(a, b):\n",
    "\tprint(\"Inside the function\")\n",
    "\treturn a + b\n",
    "\n",
    "a, b = 1, 2\n",
    "\n",
    "# getting the value through return of the function\n",
    "print(\"Sum =\", sum_two_numbers(a, b))\n"
   ]
  },
  {
   "cell_type": "code",
   "execution_count": 4,
   "metadata": {},
   "outputs": [
    {
     "name": "stdout",
     "output_type": "stream",
     "text": [
      "400\n",
      "200\n"
     ]
    }
   ],
   "source": [
    "# code for testing decorator chaining \n",
    "def decor1(func): \n",
    "\tdef inner(): \n",
    "\t\tx = func() \n",
    "\t\treturn x * x \n",
    "\treturn inner \n",
    "\n",
    "def decor(func): \n",
    "\tdef inner(): \n",
    "\t\tx = func() \n",
    "\t\treturn 2 * x \n",
    "\treturn inner \n",
    "\n",
    "@decor1\n",
    "@decor\n",
    "def num(): \n",
    "\treturn 10\n",
    "\n",
    "@decor\n",
    "@decor1\n",
    "def num2():\n",
    "\treturn 10\n",
    "\n",
    "print(num()) \n",
    "print(num2())\n"
   ]
  },
  {
   "cell_type": "code",
   "execution_count": 5,
   "metadata": {},
   "outputs": [
    {
     "name": "stdout",
     "output_type": "stream",
     "text": [
      "Inside decorator\n",
      "Inside inner function\n",
      "I like geeksforgeeks\n",
      "Inside actual function\n"
     ]
    }
   ],
   "source": [
    "\n",
    "\n",
    "# Python code to illustrate \n",
    "# Decorators with parameters in Python \n",
    " \n",
    "def decorator(*args, **kwargs):\n",
    "    print(\"Inside decorator\")\n",
    "     \n",
    "    def inner(func):\n",
    "         \n",
    "        # code functionality here\n",
    "        print(\"Inside inner function\")\n",
    "        print(\"I like\", kwargs['like']) \n",
    "         \n",
    "        func()\n",
    "         \n",
    "    # returning inner function    \n",
    "    return inner\n",
    " \n",
    "@decorator(like = \"geeksforgeeks\")\n",
    "def my_func():\n",
    "    print(\"Inside actual function\")"
   ]
  },
  {
   "cell_type": "code",
   "execution_count": 6,
   "metadata": {},
   "outputs": [
    {
     "name": "stdout",
     "output_type": "stream",
     "text": [
      "I like Geeksforgeeks\n",
      "Summation of values - 27\n",
      "Geeks\n",
      "for\n",
      "Geeks\n"
     ]
    }
   ],
   "source": [
    "# Python code to illustrate \n",
    "# Decorators with parameters in Python \n",
    " \n",
    "def decorator_func(x, y):\n",
    " \n",
    "    def Inner(func):\n",
    " \n",
    "        def wrapper(*args, **kwargs):\n",
    "            print(\"I like Geeksforgeeks\")\n",
    "            print(\"Summation of values - {}\".format(x+y) )\n",
    " \n",
    "            func(*args, **kwargs)\n",
    "             \n",
    "        return wrapper\n",
    "    return Inner\n",
    " \n",
    " \n",
    "# Not using decorator \n",
    "def my_fun(*args):\n",
    "    for ele in args:\n",
    "        print(ele)\n",
    " \n",
    "# another way of using decorators\n",
    "decorator_func(12, 15)(my_fun)('Geeks', 'for', 'Geeks')"
   ]
  },
  {
   "cell_type": "code",
   "execution_count": 7,
   "metadata": {},
   "outputs": [
    {
     "name": "stdout",
     "output_type": "stream",
     "text": [
      "Decorator for 'stringJoin'\n",
      "Decorator for 'summation'\n",
      "\n",
      "stringJoin started ...\n",
      "I like Geeksforgeeks\n",
      "\n",
      "summation started ...\n",
      "1729\n"
     ]
    }
   ],
   "source": [
    "# Python code to illustrate\n",
    "# Decorators with parameters in Python (Multi-level Decorators)\n",
    "\n",
    "\n",
    "def decodecorator(dataType, message1, message2):\n",
    "\tdef decorator(fun):\n",
    "\t\tprint(message1)\n",
    "\t\tdef wrapper(*args, **kwargs):\n",
    "\t\t\tprint(message2)\n",
    "\t\t\tif all([type(arg) == dataType for arg in args]):\n",
    "\t\t\t\treturn fun(*args, **kwargs)\n",
    "\t\t\treturn \"Invalid Input\"\n",
    "\t\treturn wrapper\n",
    "\treturn decorator\n",
    "\n",
    "\n",
    "@decodecorator(str, \"Decorator for 'stringJoin'\", \"stringJoin started ...\")\n",
    "def stringJoin(*args):\n",
    "\tst = ''\n",
    "\tfor i in args:\n",
    "\t\tst += i\n",
    "\treturn st\n",
    "\n",
    "\n",
    "@decodecorator(int, \"Decorator for 'summation'\\n\", \"summation started ...\")\n",
    "def summation(*args):\n",
    "\tsumm = 0\n",
    "\tfor arg in args:\n",
    "\t\tsumm += arg\n",
    "\treturn summ\n",
    "\n",
    "\n",
    "print(stringJoin(\"I \", 'like ', \"Geeks\", 'for', \"geeks\"))\n",
    "print()\n",
    "print(summation(19, 2, 8, 533, 67, 981, 119))\n"
   ]
  },
  {
   "cell_type": "code",
   "execution_count": 8,
   "metadata": {},
   "outputs": [
    {
     "ename": "NameError",
     "evalue": "name 'cache' is not defined",
     "output_type": "error",
     "traceback": [
      "\u001b[1;31m---------------------------------------------------------------------------\u001b[0m",
      "\u001b[1;31mNameError\u001b[0m                                 Traceback (most recent call last)",
      "\u001b[1;32m~\\AppData\\Local\\Temp\\ipykernel_20464\\3243872997.py\u001b[0m in \u001b[0;36m<module>\u001b[1;34m\u001b[0m\n\u001b[1;32m----> 1\u001b[1;33m \u001b[1;33m@\u001b[0m\u001b[0mcache\u001b[0m\u001b[1;33m\u001b[0m\u001b[1;33m\u001b[0m\u001b[0m\n\u001b[0m\u001b[0;32m      2\u001b[0m \u001b[1;32mdef\u001b[0m \u001b[0mfactorial\u001b[0m\u001b[1;33m(\u001b[0m\u001b[0mn\u001b[0m\u001b[1;33m)\u001b[0m\u001b[1;33m:\u001b[0m\u001b[1;33m\u001b[0m\u001b[1;33m\u001b[0m\u001b[0m\n\u001b[0;32m      3\u001b[0m     \u001b[1;32mreturn\u001b[0m \u001b[0mn\u001b[0m \u001b[1;33m*\u001b[0m \u001b[0mfactorial\u001b[0m\u001b[1;33m(\u001b[0m\u001b[0mn\u001b[0m\u001b[1;33m-\u001b[0m\u001b[1;36m1\u001b[0m\u001b[1;33m)\u001b[0m \u001b[1;32mif\u001b[0m \u001b[0mn\u001b[0m \u001b[1;32melse\u001b[0m \u001b[1;36m1\u001b[0m\u001b[1;33m\u001b[0m\u001b[1;33m\u001b[0m\u001b[0m\n",
      "\u001b[1;31mNameError\u001b[0m: name 'cache' is not defined"
     ]
    }
   ],
   "source": [
    "from functools import cache\n",
    "\n",
    "@cache\n",
    "def factorial(n):\n",
    "    return n * factorial(n-1) if n else 1"
   ]
  }
 ],
 "metadata": {
  "kernelspec": {
   "display_name": "base",
   "language": "python",
   "name": "python3"
  },
  "language_info": {
   "codemirror_mode": {
    "name": "ipython",
    "version": 3
   },
   "file_extension": ".py",
   "mimetype": "text/x-python",
   "name": "python",
   "nbconvert_exporter": "python",
   "pygments_lexer": "ipython3",
   "version": "3.9.13"
  }
 },
 "nbformat": 4,
 "nbformat_minor": 2
}
